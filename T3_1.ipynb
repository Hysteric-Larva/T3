{
 "cells": [
  {
   "cell_type": "markdown",
   "metadata": {},
   "source": [
    "<a id=\"primero\"></a>\n",
    "## 1. Calidad de un vino\n",
    "---\n",
    "\n",
    "Existen muchas variedades de vino existentes debido a los distintos gustos que tienen las personas. Del gusto se desprende la calidad que una persona le podría asignar a un vino, el cual proviene del gusto de la persona en particular, o bien, a la gran cantidad de quı́micos y procesos que se aplican a la producción de vino. Para el área de negocios, el estimar cuál es la calidad de un vino en base a la apreciación del público es una tarea bastante difı́cil.  \n",
    "Para esta actividad se trabajará con dos *datasets* asociados a las variantes tinto y blanco del vino portugués\n",
    "”Vinho Verde”[[1]](#refs). Debido a temas privados solo se cuenta con las caracterı́stcas fisioquı́micas asociadas a un\n",
    "vino en particular, los cuales corresponden a 11 atributos numéricos descritos en el siguiente __[link](http://archive.ics.uci.edu/ml/machine-learning-databases/wine-quality/winequality.names)__.\n",
    "\n",
    "Este problema puede ser abordado como clasificación de 11 clases o de regresión, ya que el atributo a estimar,\n",
    "*quality*, tiene un dominio como valor entero 0 y 10. La forma de resolverlo será a través de **ensamblados**.\n",
    "\n",
    "<img src=\"https://uploads.toptal.io/blog/image/92064/toptal-blog-image-1454584112948-fc1d35939aa1886bf30c816b3ac20e21.jpg\" title=\"Title text\" width=\"20%\"  />\n",
    "\n",
    "\n",
    "> a) Carge los dos dataset en un único dataframe de pandas, además de agregar una columna indicando si es vino tinto o blanco. Describa el dataset a trabajar.\n"
   ]
  },
  {
   "cell_type": "code",
   "execution_count": 73,
   "metadata": {},
   "outputs": [],
   "source": [
    "import seaborn as sns\n",
    "import pandas as pd\n",
    "from sklearn.model_selection import train_test_split\n",
    "from sklearn.preprocessing import RobustScaler,StandardScaler\n",
    "from sklearn.tree import DecisionTreeClassifier as Tree\n",
    "from sklearn.metrics import f1_score\n",
    "import collections\n",
    "import matplotlib.pyplot as plt\n",
    "from sklearn.ensemble import BaggingClassifier\n",
    "from sklearn.ensemble import AdaBoostClassifier\n",
    "\n",
    "from sklearn.ensemble import RandomForestClassifier\n"
   ]
  },
  {
   "cell_type": "code",
   "execution_count": 2,
   "metadata": {},
   "outputs": [],
   "source": [
    "\n",
    "df_red = pd.read_csv(\"winequality-red.csv\",sep=\";\")\n",
    "\n",
    "df_white = pd.read_csv(\"winequality-white.csv\",sep=\";\")\n",
    "\n"
   ]
  },
  {
   "cell_type": "markdown",
   "metadata": {},
   "source": [
    "En primer lugar veremos la estructura del dataframe de Vinos rojos y blancos para apreciar su estructura:"
   ]
  },
  {
   "cell_type": "code",
   "execution_count": 3,
   "metadata": {},
   "outputs": [
    {
     "data": {
      "text/html": [
       "<div>\n",
       "<style scoped>\n",
       "    .dataframe tbody tr th:only-of-type {\n",
       "        vertical-align: middle;\n",
       "    }\n",
       "\n",
       "    .dataframe tbody tr th {\n",
       "        vertical-align: top;\n",
       "    }\n",
       "\n",
       "    .dataframe thead th {\n",
       "        text-align: right;\n",
       "    }\n",
       "</style>\n",
       "<table border=\"1\" class=\"dataframe\">\n",
       "  <thead>\n",
       "    <tr style=\"text-align: right;\">\n",
       "      <th></th>\n",
       "      <th>fixed acidity</th>\n",
       "      <th>volatile acidity</th>\n",
       "      <th>citric acid</th>\n",
       "      <th>residual sugar</th>\n",
       "      <th>chlorides</th>\n",
       "      <th>free sulfur dioxide</th>\n",
       "      <th>total sulfur dioxide</th>\n",
       "      <th>density</th>\n",
       "      <th>pH</th>\n",
       "      <th>sulphates</th>\n",
       "      <th>alcohol</th>\n",
       "      <th>quality</th>\n",
       "    </tr>\n",
       "  </thead>\n",
       "  <tbody>\n",
       "    <tr>\n",
       "      <th>0</th>\n",
       "      <td>7.4</td>\n",
       "      <td>0.70</td>\n",
       "      <td>0.00</td>\n",
       "      <td>1.9</td>\n",
       "      <td>0.076</td>\n",
       "      <td>11.0</td>\n",
       "      <td>34.0</td>\n",
       "      <td>0.9978</td>\n",
       "      <td>3.51</td>\n",
       "      <td>0.56</td>\n",
       "      <td>9.4</td>\n",
       "      <td>5</td>\n",
       "    </tr>\n",
       "    <tr>\n",
       "      <th>1</th>\n",
       "      <td>7.8</td>\n",
       "      <td>0.88</td>\n",
       "      <td>0.00</td>\n",
       "      <td>2.6</td>\n",
       "      <td>0.098</td>\n",
       "      <td>25.0</td>\n",
       "      <td>67.0</td>\n",
       "      <td>0.9968</td>\n",
       "      <td>3.20</td>\n",
       "      <td>0.68</td>\n",
       "      <td>9.8</td>\n",
       "      <td>5</td>\n",
       "    </tr>\n",
       "    <tr>\n",
       "      <th>2</th>\n",
       "      <td>7.8</td>\n",
       "      <td>0.76</td>\n",
       "      <td>0.04</td>\n",
       "      <td>2.3</td>\n",
       "      <td>0.092</td>\n",
       "      <td>15.0</td>\n",
       "      <td>54.0</td>\n",
       "      <td>0.9970</td>\n",
       "      <td>3.26</td>\n",
       "      <td>0.65</td>\n",
       "      <td>9.8</td>\n",
       "      <td>5</td>\n",
       "    </tr>\n",
       "  </tbody>\n",
       "</table>\n",
       "</div>"
      ],
      "text/plain": [
       "   fixed acidity  volatile acidity  citric acid  residual sugar  chlorides  \\\n",
       "0            7.4              0.70         0.00             1.9      0.076   \n",
       "1            7.8              0.88         0.00             2.6      0.098   \n",
       "2            7.8              0.76         0.04             2.3      0.092   \n",
       "\n",
       "   free sulfur dioxide  total sulfur dioxide  density    pH  sulphates  \\\n",
       "0                 11.0                  34.0   0.9978  3.51       0.56   \n",
       "1                 25.0                  67.0   0.9968  3.20       0.68   \n",
       "2                 15.0                  54.0   0.9970  3.26       0.65   \n",
       "\n",
       "   alcohol  quality  \n",
       "0      9.4        5  \n",
       "1      9.8        5  \n",
       "2      9.8        5  "
      ]
     },
     "execution_count": 3,
     "metadata": {},
     "output_type": "execute_result"
    }
   ],
   "source": [
    "df_red.head(3)"
   ]
  },
  {
   "cell_type": "code",
   "execution_count": 4,
   "metadata": {},
   "outputs": [
    {
     "data": {
      "text/html": [
       "<div>\n",
       "<style scoped>\n",
       "    .dataframe tbody tr th:only-of-type {\n",
       "        vertical-align: middle;\n",
       "    }\n",
       "\n",
       "    .dataframe tbody tr th {\n",
       "        vertical-align: top;\n",
       "    }\n",
       "\n",
       "    .dataframe thead th {\n",
       "        text-align: right;\n",
       "    }\n",
       "</style>\n",
       "<table border=\"1\" class=\"dataframe\">\n",
       "  <thead>\n",
       "    <tr style=\"text-align: right;\">\n",
       "      <th></th>\n",
       "      <th>fixed acidity</th>\n",
       "      <th>volatile acidity</th>\n",
       "      <th>citric acid</th>\n",
       "      <th>residual sugar</th>\n",
       "      <th>chlorides</th>\n",
       "      <th>free sulfur dioxide</th>\n",
       "      <th>total sulfur dioxide</th>\n",
       "      <th>density</th>\n",
       "      <th>pH</th>\n",
       "      <th>sulphates</th>\n",
       "      <th>alcohol</th>\n",
       "      <th>quality</th>\n",
       "    </tr>\n",
       "  </thead>\n",
       "  <tbody>\n",
       "    <tr>\n",
       "      <th>0</th>\n",
       "      <td>7.0</td>\n",
       "      <td>0.27</td>\n",
       "      <td>0.36</td>\n",
       "      <td>20.7</td>\n",
       "      <td>0.045</td>\n",
       "      <td>45.0</td>\n",
       "      <td>170.0</td>\n",
       "      <td>1.0010</td>\n",
       "      <td>3.00</td>\n",
       "      <td>0.45</td>\n",
       "      <td>8.8</td>\n",
       "      <td>6</td>\n",
       "    </tr>\n",
       "    <tr>\n",
       "      <th>1</th>\n",
       "      <td>6.3</td>\n",
       "      <td>0.30</td>\n",
       "      <td>0.34</td>\n",
       "      <td>1.6</td>\n",
       "      <td>0.049</td>\n",
       "      <td>14.0</td>\n",
       "      <td>132.0</td>\n",
       "      <td>0.9940</td>\n",
       "      <td>3.30</td>\n",
       "      <td>0.49</td>\n",
       "      <td>9.5</td>\n",
       "      <td>6</td>\n",
       "    </tr>\n",
       "    <tr>\n",
       "      <th>2</th>\n",
       "      <td>8.1</td>\n",
       "      <td>0.28</td>\n",
       "      <td>0.40</td>\n",
       "      <td>6.9</td>\n",
       "      <td>0.050</td>\n",
       "      <td>30.0</td>\n",
       "      <td>97.0</td>\n",
       "      <td>0.9951</td>\n",
       "      <td>3.26</td>\n",
       "      <td>0.44</td>\n",
       "      <td>10.1</td>\n",
       "      <td>6</td>\n",
       "    </tr>\n",
       "  </tbody>\n",
       "</table>\n",
       "</div>"
      ],
      "text/plain": [
       "   fixed acidity  volatile acidity  citric acid  residual sugar  chlorides  \\\n",
       "0            7.0              0.27         0.36            20.7      0.045   \n",
       "1            6.3              0.30         0.34             1.6      0.049   \n",
       "2            8.1              0.28         0.40             6.9      0.050   \n",
       "\n",
       "   free sulfur dioxide  total sulfur dioxide  density    pH  sulphates  \\\n",
       "0                 45.0                 170.0   1.0010  3.00       0.45   \n",
       "1                 14.0                 132.0   0.9940  3.30       0.49   \n",
       "2                 30.0                  97.0   0.9951  3.26       0.44   \n",
       "\n",
       "   alcohol  quality  \n",
       "0      8.8        6  \n",
       "1      9.5        6  \n",
       "2     10.1        6  "
      ]
     },
     "execution_count": 4,
     "metadata": {},
     "output_type": "execute_result"
    }
   ],
   "source": [
    "df_white.head(3)"
   ]
  },
  {
   "cell_type": "markdown",
   "metadata": {},
   "source": [
    "Ahora se agregará un atributo llamado Type que corresponda con un 0 si es vino rojo y un 1 si es blanco."
   ]
  },
  {
   "cell_type": "code",
   "execution_count": 6,
   "metadata": {},
   "outputs": [],
   "source": [
    "df_red[\"Type\"] = 0 #Le otorga valor 0 a todas las filas de la columna type\n",
    "df_white[\"Type\"] = 1#analogo a lo anterior.\n",
    "df = pd.concat([df_red,df_white], axis=0) #Hace un Join"
   ]
  },
  {
   "cell_type": "markdown",
   "metadata": {},
   "source": [
    "A continuación se muestra el resultado final de la tabla"
   ]
  },
  {
   "cell_type": "code",
   "execution_count": 7,
   "metadata": {},
   "outputs": [
    {
     "data": {
      "text/html": [
       "<div>\n",
       "<style scoped>\n",
       "    .dataframe tbody tr th:only-of-type {\n",
       "        vertical-align: middle;\n",
       "    }\n",
       "\n",
       "    .dataframe tbody tr th {\n",
       "        vertical-align: top;\n",
       "    }\n",
       "\n",
       "    .dataframe thead th {\n",
       "        text-align: right;\n",
       "    }\n",
       "</style>\n",
       "<table border=\"1\" class=\"dataframe\">\n",
       "  <thead>\n",
       "    <tr style=\"text-align: right;\">\n",
       "      <th></th>\n",
       "      <th>fixed acidity</th>\n",
       "      <th>volatile acidity</th>\n",
       "      <th>citric acid</th>\n",
       "      <th>residual sugar</th>\n",
       "      <th>chlorides</th>\n",
       "      <th>free sulfur dioxide</th>\n",
       "      <th>total sulfur dioxide</th>\n",
       "      <th>density</th>\n",
       "      <th>pH</th>\n",
       "      <th>sulphates</th>\n",
       "      <th>alcohol</th>\n",
       "      <th>quality</th>\n",
       "      <th>Type</th>\n",
       "    </tr>\n",
       "  </thead>\n",
       "  <tbody>\n",
       "    <tr>\n",
       "      <th>0</th>\n",
       "      <td>7.4</td>\n",
       "      <td>0.70</td>\n",
       "      <td>0.00</td>\n",
       "      <td>1.9</td>\n",
       "      <td>0.076</td>\n",
       "      <td>11.0</td>\n",
       "      <td>34.0</td>\n",
       "      <td>0.9978</td>\n",
       "      <td>3.51</td>\n",
       "      <td>0.56</td>\n",
       "      <td>9.4</td>\n",
       "      <td>5</td>\n",
       "      <td>0</td>\n",
       "    </tr>\n",
       "    <tr>\n",
       "      <th>1</th>\n",
       "      <td>7.8</td>\n",
       "      <td>0.88</td>\n",
       "      <td>0.00</td>\n",
       "      <td>2.6</td>\n",
       "      <td>0.098</td>\n",
       "      <td>25.0</td>\n",
       "      <td>67.0</td>\n",
       "      <td>0.9968</td>\n",
       "      <td>3.20</td>\n",
       "      <td>0.68</td>\n",
       "      <td>9.8</td>\n",
       "      <td>5</td>\n",
       "      <td>0</td>\n",
       "    </tr>\n",
       "    <tr>\n",
       "      <th>2</th>\n",
       "      <td>7.8</td>\n",
       "      <td>0.76</td>\n",
       "      <td>0.04</td>\n",
       "      <td>2.3</td>\n",
       "      <td>0.092</td>\n",
       "      <td>15.0</td>\n",
       "      <td>54.0</td>\n",
       "      <td>0.9970</td>\n",
       "      <td>3.26</td>\n",
       "      <td>0.65</td>\n",
       "      <td>9.8</td>\n",
       "      <td>5</td>\n",
       "      <td>0</td>\n",
       "    </tr>\n",
       "  </tbody>\n",
       "</table>\n",
       "</div>"
      ],
      "text/plain": [
       "   fixed acidity  volatile acidity  citric acid  residual sugar  chlorides  \\\n",
       "0            7.4              0.70         0.00             1.9      0.076   \n",
       "1            7.8              0.88         0.00             2.6      0.098   \n",
       "2            7.8              0.76         0.04             2.3      0.092   \n",
       "\n",
       "   free sulfur dioxide  total sulfur dioxide  density    pH  sulphates  \\\n",
       "0                 11.0                  34.0   0.9978  3.51       0.56   \n",
       "1                 25.0                  67.0   0.9968  3.20       0.68   \n",
       "2                 15.0                  54.0   0.9970  3.26       0.65   \n",
       "\n",
       "   alcohol  quality  Type  \n",
       "0      9.4        5     0  \n",
       "1      9.8        5     0  \n",
       "2      9.8        5     0  "
      ]
     },
     "execution_count": 7,
     "metadata": {},
     "output_type": "execute_result"
    }
   ],
   "source": [
    "df.head(3)"
   ]
  },
  {
   "cell_type": "code",
   "execution_count": 8,
   "metadata": {},
   "outputs": [
    {
     "data": {
      "image/png": "[encoded data removed]",
      "text/plain": [
       "<Figure size 432x288 with 1 Axes>"
      ]
     },
     "metadata": {},
     "output_type": "display_data"
    }
   ],
   "source": [
    "data = sns.countplot(x=\"Type\", data=df)"
   ]
  },
  {
   "cell_type": "code",
   "execution_count": 9,
   "metadata": {},
   "outputs": [
    {
     "data": {
      "text/plain": [
       "1    4898\n",
       "0    1599\n",
       "Name: Type, dtype: int64"
      ]
     },
     "execution_count": 9,
     "metadata": {},
     "output_type": "execute_result"
    }
   ],
   "source": [
    "df[\"Type\"].value_counts()"
   ]
  },
  {
   "cell_type": "code",
   "execution_count": 10,
   "metadata": {},
   "outputs": [
    {
     "data": {
      "image/png": "[encoded data removed]",
      "text/plain": [
       "<Figure size 432x288 with 1 Axes>"
      ]
     },
     "metadata": {},
     "output_type": "display_data"
    }
   ],
   "source": [
    "data = sns.countplot(x='quality', data=df)"
   ]
  },
  {
   "cell_type": "markdown",
   "metadata": {},
   "source": [
    "Estamos trabajando con un conjuntos de datos que describen las distintas caracteríasticas químicas de los vinos. Este problema pide predecir la calidad de un vino dada sus carácterísticas.\n",
    "Las categorías de vinos no estan balanceado como se puede ver en el gráfico anterior, más aún no todas las categorías estan presentes. Cada dato posee 13 carácteristicas, el tipo de vino que acabamos de agregar y la calidad del vino.\n"
   ]
  },
  {
   "cell_type": "markdown",
   "metadata": {},
   "source": [
    "> b) Aborde este problema como si fuera de clasificación con multiples clases para predecir el valor de calidad de un vino, es decir, utilice las distintas caracterı́sticas fisioquı́micas presentes en los datos para estimar la etiqueta ¿Cuántas clases son y cuántos ejemplos hay por clase? ¿Qué sucede con predecir si un vino tiene calidad mínima (0) o máxima(10)? Además para el propósito académico de esta actividad cree un conjunto de pruebas (20%)  para evaluar la generalización final del modelo y otro de validación (20%) si estima conveniente. \n"
   ]
  },
  {
   "cell_type": "code",
   "execution_count": 12,
   "metadata": {},
   "outputs": [],
   "source": [
    "y = df[\"quality\"].values \n",
    "\n",
    "x = df\n",
    "x.drop(\"quality\",axis=1,inplace=True)\n",
    "\n",
    "\n",
    "#train and test split over df"
   ]
  },
  {
   "cell_type": "code",
   "execution_count": 14,
   "metadata": {},
   "outputs": [],
   "source": [
    "X_train, X_test, y_train, y_test = train_test_split(x, y, test_size=0.3, random_state=42)#train and test\n",
    "X_train, X_val, y_train, y_val = train_test_split(X_train, y_train, test_size=0.5, random_state=42)#train and val"
   ]
  },
  {
   "cell_type": "code",
   "execution_count": 22,
   "metadata": {},
   "outputs": [
    {
     "name": "stdout",
     "output_type": "stream",
     "text": [
      "Val\n",
      "Counter({6: 1003, 5: 746, 7: 369, 4: 72, 8: 71, 3: 10, 9: 3})\n",
      "Train\n",
      "Counter({6: 939, 5: 779, 7: 395, 4: 75, 8: 73, 3: 11, 9: 1})\n",
      "Test\n",
      "Counter({6: 894, 5: 613, 7: 315, 4: 69, 8: 49, 3: 9, 9: 1})\n"
     ]
    }
   ],
   "source": [
    "print('Val') \n",
    "print(collections.Counter(y_val))\n",
    "print('Train') \n",
    "print(collections.Counter(y_train))\n",
    "print('Test') \n",
    "print(collections.Counter(y_test))\n"
   ]
  },
  {
   "cell_type": "markdown",
   "metadata": {},
   "source": [
    "Las categorias no solo no estan balanceadas, sinó que ademas hay categorías que no estan representadas, la 0,1,2 y 10. Esto trae el problema de que la maquina no sabaría como categorizar un dato que pertenezca a estas categorías. Una solución sería intentar que el programa aprenda que un dato mejor evaluado que 8 puede estar las categorias 9 y 10, considerando que en este caso las categorias si tienen un orden de cercanía, pero el problema radica en definir que es mejor y recordar que la combinación no es lineal.\n",
    "\n",
    "Siguiendo esta idea se puede plantear una interpolación para definir el dominio teórico de las categorías faltantes, de esta forma categorizar los datos según su cercania a estos dominios. \n"
   ]
  },
  {
   "cell_type": "markdown",
   "metadata": {},
   "source": [
    "> c) Entrene un solo Árbol de Clasificación de múltiples niveles para resolver el problema. Defina un Árbol **no regularizado** (como el que no tiene límites en su profundidad) y otro Árbol **regularizado** (variando los hiper-parámetros que prefiera, por ejemplo, los más comunes como la profundidad, el número mínimo de datos para realizar *split* o el número mínimo de datos en cada hoja), recuerde que las **decisiones** no pueden ser basadas mirando el conjunto de pruebas. Debido al desbalanceo que se produce en las clases mida la métrica F1-score [[2]](#refs) sobre el conjunto de entrenamiento y de pruebas.\n"
   ]
  },
  {
   "cell_type": "markdown",
   "metadata": {},
   "source": [
    "La métric F1 score  es equivalente a 2 * (precision * recall) / (precision + recall), donde la precisión son los datos correctamente etiquetados versus el total de los datos, y el recall es la información recuperada, en terminos sencillos los verdaderos positivos partidos por la suma de los falsos negativos y los verdaderos positivos. Esta métrica es util para evaluar problemas de multi-label. \n",
    "El parámetro average='micro' determina el score resultante de la metrica global, sobre todas las etiquetas.\n",
    "\n",
    "\n",
    "A continuación se adjunta el árbol sin límites de profundidad ( por default incluye esa opcion predeterminadamente).\n"
   ]
  },
  {
   "cell_type": "code",
   "execution_count": 24,
   "metadata": {},
   "outputs": [
    {
     "name": "stdout",
     "output_type": "stream",
     "text": [
      "Train F1 =  1.0\n",
      "Validation F1 =  0.4872471416007036\n",
      "Test F1 =  0.5056410256410256\n"
     ]
    }
   ],
   "source": [
    "model = Tree()\n",
    "model.fit(X_train,y_train)\n",
    "print(\"Train F1 = \", f1_score(y_train, model.predict(X_train), average='micro'))\n",
    "print(\"Validation F1 = \", f1_score(y_val, model.predict(X_val), average='micro'))\n",
    "print(\"Test F1 = \", f1_score(y_test, model.predict(X_test), average='micro'))"
   ]
  },
  {
   "cell_type": "markdown",
   "metadata": {},
   "source": [
    "A continuación se adjunta el árbol y se estudia su desempeño según profundidad.\n"
   ]
  },
  {
   "cell_type": "code",
   "execution_count": 28,
   "metadata": {},
   "outputs": [
    {
     "name": "stdout",
     "output_type": "stream",
     "text": [
      "Train F1 =  1.0\n",
      "Test F1 =  0.5333333333333333 \n",
      " profundidad 5\n",
      "Validation F1: 0.5246262093227793 \n",
      " profundidad: 10\n"
     ]
    }
   ],
   "source": [
    "#classes_weights = {9: 537, 3: 94.5,8:14.69,4:13.13,7: 2.63, 5:1.32,6:0.5 } # Fracaso\n",
    "accsup = 0\n",
    "acc = 0\n",
    "depth = 0\n",
    "acctest = 0\n",
    "suptest = 0\n",
    "depthtest = 0\n",
    "\n",
    "i_n=[]\n",
    "score_test=[]\n",
    "score_train=[]\n",
    "score_val=[]\n",
    "\n",
    "for i in range(100):\n",
    "\n",
    "\n",
    "    model = Tree(criterion='gini', splitter='best', max_depth=i+1, min_samples_split=2, min_samples_leaf=1, \n",
    "                 min_weight_fraction_leaf=0.0, max_features=None, random_state=None, max_leaf_nodes=None, \n",
    "                 min_impurity_decrease=0.0, min_impurity_split=None, class_weight=None, presort=False)\n",
    "    model.fit(X_train,y_train)\n",
    "    acc = f1_score(y_val, model.predict(X_val), average='micro')\n",
    "    acctest =f1_score(y_test, model.predict(X_test), average='micro')\n",
    "    \n",
    "    score_val.append(acc)\n",
    "    score_test.append(acctest)\n",
    "    score_train.append(f1_score(y_train, model.predict(X_train), average='micro'))\n",
    "    i_n.append(i+1)\n",
    "    if acctest>suptest:\n",
    "        suptest=acctest\n",
    "        depthtest= i+1\n",
    "    \n",
    "    if acc>accsup:\n",
    "        accsup=acc\n",
    "        depth = i+1\n",
    " \n",
    "print(\"Train F1 = \", f1_score(y_train, model.predict(X_train), average='micro'))\n",
    "\n",
    "print(\"Test F1 = \", suptest, '\\n', 'profundidad', depthtest )\n",
    "print('Validation F1:', accsup, '\\n', 'profundidad:', depth, )\n"
   ]
  },
  {
   "cell_type": "code",
   "execution_count": 29,
   "metadata": {},
   "outputs": [
    {
     "data": {
      "text/plain": [
       "<matplotlib.legend.Legend at 0x229a94de240>"
      ]
     },
     "execution_count": 29,
     "metadata": {},
     "output_type": "execute_result"
    },
    {
     "data": {
      "image/png": "[encoded data removed]",
      "text/plain": [
       "<Figure size 432x288 with 1 Axes>"
      ]
     },
     "metadata": {},
     "output_type": "display_data"
    }
   ],
   "source": [
    "plt.plot(i_n, score_val, label='Validatio score')\n",
    "plt.plot(i_n, score_test, label='Test score')\n",
    "#plt.plot(i_n, score_train, label='Training Accuary')\n",
    "\n",
    "plt.xlabel('profundidad máxima del árbol')\n",
    "plt.ylabel('Score')\n",
    "plt.legend(bbox_to_anchor=(1.05, 1), loc=2, borderaxespad=0.)"
   ]
  },
  {
   "cell_type": "code",
   "execution_count": 30,
   "metadata": {},
   "outputs": [
    {
     "data": {
      "text/plain": [
       "<matplotlib.legend.Legend at 0x229a9549898>"
      ]
     },
     "execution_count": 30,
     "metadata": {},
     "output_type": "execute_result"
    },
    {
     "data": {
      "image/png": "[encoded data removed]",
      "text/plain": [
       "<Figure size 432x288 with 1 Axes>"
      ]
     },
     "metadata": {},
     "output_type": "display_data"
    }
   ],
   "source": [
    "plt.plot(i_n, score_val, label='Validatio score')\n",
    "plt.plot(i_n, score_test, label='Test score')\n",
    "plt.plot(i_n, score_train, label='Training score')\n",
    "\n",
    "plt.xlabel('profundidad máxima del árbol')\n",
    "plt.ylabel('Score')\n",
    "plt.legend(bbox_to_anchor=(1.05, 1), loc=2, borderaxespad=0.)"
   ]
  },
  {
   "cell_type": "markdown",
   "metadata": {},
   "source": [
    "El score de entrenamiento converge rápidamente al 100%, sin embargo score de prueba no sufre de overfitting.\n",
    "En base al resultado de profundidad encontrados, usamos los resultados del testeo para ajustar alguno parametros posteriores"
   ]
  },
  {
   "cell_type": "code",
   "execution_count": 42,
   "metadata": {},
   "outputs": [
    {
     "name": "stdout",
     "output_type": "stream",
     "text": [
      "Train score =  0.5618125824901012\n",
      "Test score =  0.517948717948718 \n",
      " Samples per split 2\n",
      "Validation score: 0.5215479331574319 \n",
      " Samples per split: 2\n"
     ]
    },
    {
     "name": "stderr",
     "output_type": "stream",
     "text": [
      "C:\\Users\\rosar\\Anaconda3\\lib\\site-packages\\sklearn\\tree\\tree.py:282: DeprecationWarning: The min_impurity_split parameter is deprecated and will be removed in version 0.21. Use the min_impurity_decrease parameter instead.\n",
      "  DeprecationWarning)\n",
      "C:\\Users\\rosar\\Anaconda3\\lib\\site-packages\\sklearn\\tree\\tree.py:282: DeprecationWarning: The min_impurity_split parameter is deprecated and will be removed in version 0.21. Use the min_impurity_decrease parameter instead.\n",
      "  DeprecationWarning)\n",
      "C:\\Users\\rosar\\Anaconda3\\lib\\site-packages\\sklearn\\tree\\tree.py:282: DeprecationWarning: The min_impurity_split parameter is deprecated and will be removed in version 0.21. Use the min_impurity_decrease parameter instead.\n",
      "  DeprecationWarning)\n",
      "C:\\Users\\rosar\\Anaconda3\\lib\\site-packages\\sklearn\\tree\\tree.py:282: DeprecationWarning: The min_impurity_split parameter is deprecated and will be removed in version 0.21. Use the min_impurity_decrease parameter instead.\n",
      "  DeprecationWarning)\n"
     ]
    }
   ],
   "source": [
    "accsup2 = 0\n",
    "acc2 = 0\n",
    "split = 0\n",
    "acctest2 = 0\n",
    "suptest2 = 0\n",
    "testsplit = 0\n",
    "\n",
    "i_2=[]\n",
    "score_test=[]\n",
    "score_train=[]\n",
    "score_val=[]\n",
    "\n",
    "for i in range(4):\n",
    "    model = Tree(criterion='gini', splitter='best', max_depth=depthtest, min_samples_split=i+2, min_samples_leaf=1,\n",
    "             min_weight_fraction_leaf=0.0, max_features=4, random_state=0, max_leaf_nodes=None, \n",
    "             min_impurity_decrease=0.0, min_impurity_split=0, class_weight=None, presort=True)\n",
    "    model.fit(X_train,y_train)    \n",
    "\n",
    "    acc2 = f1_score(y_val, model.predict(X_val), average='micro')\n",
    "    acctest2 =f1_score(y_test, model.predict(X_test), average='micro')\n",
    "    \n",
    "    score_val.append(acc2)\n",
    "    score_test.append(acctest2)\n",
    "    score_train.append(f1_score(y_train, model.predict(X_train), average='micro'))\n",
    "    i_2.append(i+1)\n",
    "    if acctest2>suptest2:\n",
    "        suptest2=acctest2\n",
    "        testsplit= i+2\n",
    "    \n",
    "    if acc2>accsup2:\n",
    "        accsup2=acc2\n",
    "        split = i+2\n",
    "\n",
    "print(\"Train score = \", f1_score(y_train, model.predict(X_train), average='micro'))\n",
    "\n",
    "print(\"Test score = \", suptest2, '\\n', 'Samples per split', testsplit )\n",
    "print('Validation score:', accsup2, '\\n', 'Samples per split:', split, )\n"
   ]
  },
  {
   "cell_type": "markdown",
   "metadata": {},
   "source": [
    "Se determinan los hiperparametros como maxdepth = 5, max feature = 4 y min samples split = 2.\n",
    "Todos los demas parametros se dejan por defecto."
   ]
  },
  {
   "cell_type": "markdown",
   "metadata": {},
   "source": [
    "> d) Entrene un ensamblado de árboles de múltiples niveles, mediante la técnica de **Bagging**, compare el Árbol **no regularizado** con el **regularizado** (*seteando los hiper-parámetros en base a lo experimentado anteriormente en c)*) ¿Qué debería suceder? ¿Se visualiza *overfitting*? Varíe la cantidad de árboles de decisión utilizados en el ensamblado (*n estimators*), realice un gráfico resumen del F1-score de entrenamiento y de pruebas en función de este hiper-parámetro.\n"
   ]
  },
  {
   "cell_type": "code",
   "execution_count": 57,
   "metadata": {},
   "outputs": [
    {
     "name": "stdout",
     "output_type": "stream",
     "text": [
      "score reg test: 0.5697435897435897 N_estimadores: 35\n",
      "score reg train: 0.6198856137263529 N_estimadores: 48\n",
      "score test: 0.622051282051282 N_estimadores: 78\n",
      "score train: 1.0 N_estimadores: 28\n",
      "Wall time: 22min 35s\n"
     ]
    }
   ],
   "source": [
    "%%time\n",
    "\n",
    "\n",
    "f1regtest = 0\n",
    "f1regtrain = 0\n",
    "f1test = 0\n",
    "f1train = 0\n",
    "\n",
    "supregtest = 0\n",
    "supregtrain = 0\n",
    "suptest = 0\n",
    "suptrain = 0\n",
    "\n",
    "estregtest = 0\n",
    "estregtrain = 0\n",
    "esttest = 0\n",
    "esttrain = 0\n",
    "\n",
    "\n",
    "i_3=[]\n",
    "s_b_r_test=[]\n",
    "s_b_r_train=[]\n",
    "s_b_r_val=[]\n",
    "s_b_test=[]\n",
    "s_b_train=[]\n",
    "s_b_val=[]\n",
    "\n",
    "for i in range(100):\n",
    "    modelreg = BaggingClassifier(base_estimator=Tree(max_depth=depthtest, min_samples_split =2, max_features=4), n_estimators=i+1, n_jobs=-1)\n",
    "    modelreg.fit(X_train,y_train)   \n",
    "    \n",
    "    f1regtest = f1_score(y_test, modelreg.predict(X_test), average='micro')\n",
    "    s_b_r_test.append( f1regtest)\n",
    "    f1regtrain= f1_score(y_train, modelreg.predict(X_train), average='micro')\n",
    "    s_b_r_train.append(f1regtrain)\n",
    "#    s_b_r_val.append()\n",
    "    \n",
    "    model = BaggingClassifier(base_estimator=Tree(), n_estimators=i+1, n_jobs=-1)\n",
    "    model.fit(X_train,y_train)   \n",
    "    \n",
    "    f1test = f1_score(y_test, model.predict(X_test), average='micro')\n",
    "    s_b_test.append(f1test)\n",
    "    f1train = f1_score(y_train, model.predict(X_train), average='micro')\n",
    "    s_b_train.append(f1train)\n",
    " #   s_b_val.append()\n",
    "    \n",
    "    i_3.append(i+1)\n",
    "    if f1regtest>supregtest:\n",
    "        supregtest=f1regtest\n",
    "        estregtest = i+1\n",
    " \n",
    "    if f1regtrain>supregtrain:\n",
    "        supregtrain=f1regtrain\n",
    "        estregtrain = i+1\n",
    "  \n",
    "    if f1test>suptest:\n",
    "        suptest=f1test\n",
    "        esttest = i+1\n",
    " \n",
    "    if f1train>suptrain:\n",
    "        suptrain=f1train\n",
    "        esttrain = i+1\n",
    "\n",
    "\n",
    "print ('score reg test:', supregtest, 'N_estimadores:', estregtest)\n",
    "print ('score reg train:', supregtrain, 'N_estimadores:', estregtrain)\n",
    "print ('score test:', suptest, 'N_estimadores:', esttest)\n",
    "print ('score train:', suptrain, 'N_estimadores:', esttrain)\n",
    "\n"
   ]
  },
  {
   "cell_type": "code",
   "execution_count": 54,
   "metadata": {},
   "outputs": [
    {
     "data": {
      "text/plain": [
       "<matplotlib.legend.Legend at 0x229aa7533c8>"
      ]
     },
     "execution_count": 54,
     "metadata": {},
     "output_type": "execute_result"
    },
    {
     "data": {
      "image/png": "[encoded data removed]",
      "text/plain": [
       "<Figure size 432x288 with 1 Axes>"
      ]
     },
     "metadata": {},
     "output_type": "display_data"
    }
   ],
   "source": [
    "\n",
    "plt.plot(i_3, s_b_r_train, label='Train score reg bagging')\n",
    "plt.plot(i_3, s_b_r_test, label='Test score reg bagging')\n",
    "plt.plot(i_3, s_b_train, label='Train score bagging')\n",
    "plt.plot(i_3, s_b_test, label='Test score bagging')\n",
    "\n",
    "plt.xlabel('estimadores')\n",
    "plt.ylabel('Score')\n",
    "plt.legend(bbox_to_anchor=(1.05, 1), loc=2, borderaxespad=0.)"
   ]
  },
  {
   "cell_type": "markdown",
   "metadata": {},
   "source": [
    "Por lo visto en los dos items anteriores, se puede notar que no ocurre overfitting ya que el score de testeo se mantiene oscilando al rededor de un valor central.\n",
    "Además se aprecia que los resultados del testeo de árboles no regularizados tiene un mejor desempeño que los regularizados. Lo que tambien es esperado según los estudiado en el curso."
   ]
  },
  {
   "cell_type": "markdown",
   "metadata": {},
   "source": [
    "> e) Entrene un ensamblado de árboles de múltiples niveles, mediante la técnica de **AdaBoost**, compare el Árbol **no regularizado** con el **regularizado** (*seteando los hiper-parámetros en base a lo experimentado anteriormente en c)* ¿Se visualiza *overfitting*? ¿Qué técnica se utiliza, *re-muestrear* o *pesar* ejemplos? ¿Qué le parece más sensato?. Varíe la cantidad de árboles de decisión utilizados en el ensamblado (*n estimators*), realice un gráfico resumen del F1-score de entrenamiento y de pruebas en función de este hiper-parámetro. Compare y analice con la técnica utilizada en d).\n"
   ]
  },
  {
   "cell_type": "code",
   "execution_count": 87,
   "metadata": {},
   "outputs": [
    {
     "name": "stdout",
     "output_type": "stream",
     "text": [
      "score reg test: 0.5558974358974359 N_estimadores: 135\n",
      "score reg train: 0.7866256049274089 N_estimadores: 197\n",
      "score test: 0.5235897435897436 N_estimadores: 143\n",
      "score train: 1.0 N_estimadores: 1\n",
      "Wall time: 3min 38s\n"
     ]
    }
   ],
   "source": [
    "%%time\n",
    "\n",
    "f1adaregtest = 0\n",
    "f1adaregtrain = 0\n",
    "f1adatest = 0\n",
    "f1adatrain = 0\n",
    "\n",
    "supadaregtest = 0\n",
    "supadaregtrain = 0\n",
    "supadatest = 0\n",
    "supadatrain = 0\n",
    "\n",
    "estadaregtest = 0\n",
    "estadaregtrain = 0\n",
    "estadatest = 0\n",
    "estadatrain = 0\n",
    "\n",
    "i_4=[]\n",
    "s_a_r_test=[]\n",
    "s_a_r_train=[]\n",
    "s_a_r_val=[]\n",
    "s_a_test=[]\n",
    "s_a_train=[]\n",
    "s_a_val=[]\n",
    "\n",
    "\n",
    "for i in range (200):\n",
    "    adareg = AdaBoostClassifier(base_estimator = Tree(max_depth=depthtest, min_samples_split =2, max_features=4), n_estimators=i+1)\n",
    "    adareg.fit(X_train,y_train)   \n",
    "    \n",
    "    f1adaregtest = f1_score(y_test, adareg.predict(X_test), average='micro')\n",
    "    s_a_r_test.append( f1adaregtest)\n",
    "    f1adaregtrain= f1_score(y_train, adareg.predict(X_train), average='micro')\n",
    "    s_a_r_train.append(f1adaregtrain)\n",
    "    \n",
    "    ada = AdaBoostClassifier(base_estimator = Tree(), n_estimators=i+1)\n",
    "    ada.fit(X_train,y_train)\n",
    "    \n",
    "    f1adatest = f1_score(y_test, ada.predict(X_test), average='micro')\n",
    "    s_a_test.append(f1adatest)\n",
    "    f1adatrain = f1_score(y_train, ada.predict(X_train), average='micro')\n",
    "    s_a_train.append(f1adatrain)    \n",
    "    \n",
    "    i_4.append(i+1)\n",
    "    if f1adaregtest>supadaregtest:\n",
    "        supadaregtest=f1adaregtest\n",
    "        estadaregtest = i+1\n",
    " \n",
    "    if f1adaregtrain>supadaregtrain:\n",
    "        supadaregtrain=f1adaregtrain\n",
    "        estadaregtrain = i+1\n",
    "  \n",
    "    if f1adatest>supadatest:\n",
    "        supadatest=f1adatest\n",
    "        estadatest = i+1\n",
    " \n",
    "    if f1adatrain>supadatrain:\n",
    "        supadatrain=f1adatrain\n",
    "        estadatrain = i+1\n",
    "\n",
    "\n",
    "\n",
    "print ('score reg test:', supadaregtest, 'N_estimadores:', estadaregtest)\n",
    "print ('score reg train:', supadaregtrain, 'N_estimadores:', estadaregtrain)\n",
    "print ('score test:', supadatest, 'N_estimadores:', estadatest)\n",
    "print ('score train:', supadatrain, 'N_estimadores:', estadatrain)\n",
    "        "
   ]
  },
  {
   "cell_type": "code",
   "execution_count": 88,
   "metadata": {},
   "outputs": [
    {
     "data": {
      "text/plain": [
       "<matplotlib.legend.Legend at 0x229a8f40710>"
      ]
     },
     "execution_count": 88,
     "metadata": {},
     "output_type": "execute_result"
    },
    {
     "data": {
      "image/png": "[encoded data removed]",
      "text/plain": [
       "<Figure size 432x288 with 1 Axes>"
      ]
     },
     "metadata": {},
     "output_type": "display_data"
    }
   ],
   "source": [
    "\n",
    "plt.plot(i_4, s_a_r_train, label='Train score reg bagging')\n",
    "plt.plot(i_4, s_a_r_test, label='Test score reg bagging')\n",
    "plt.plot(i_4, s_a_train, label='Train score bagging')\n",
    "plt.plot(i_4, s_a_test, label='Test score bagging')\n",
    "\n",
    "plt.xlabel('estimadores')\n",
    "plt.ylabel('Score')\n",
    "plt.legend(bbox_to_anchor=(1.05, 1), loc=2, borderaxespad=0.)"
   ]
  },
  {
   "cell_type": "markdown",
   "metadata": {},
   "source": [
    "Por lo visto al aumentar los estimadores, el score de training y test regularizados aumenta, aunque score de test regularizado aumenta lentamente, se demora en alcanzar el valor medio del no regularizado, pero sin embargo el regularizado termina desempeñandose mejor que el no regularizado, se estima que si se sigue aumentando el numero de estimadores, su desempeño podría aumentar aún más.\n"
   ]
  },
  {
   "cell_type": "markdown",
   "metadata": {},
   "source": [
    "> f) Pruebe otra técnica de ensamblado dedicada a árboles de decisión, que combina el muestreo *boostrap* de *Bagging* con muestreo sobre las *features*: **Random Forest**, compare el Árbol **no regularizado** con el **regularizado** ¿Se visualiza *overfitting*?. Varíe la cantidad de árboles de decisión utilizados en el ensamblado (*n estimators*), realice un gráfico resumen el F1-score de entrenamiento y de pruebas en función de este hiper-parámetro.\n"
   ]
  },
  {
   "cell_type": "code",
   "execution_count": 76,
   "metadata": {},
   "outputs": [
    {
     "name": "stdout",
     "output_type": "stream",
     "text": [
      "score reg test: 0.5692307692307692 N_estimadores: 97\n",
      "score reg train: 0.7501099868015838 N_estimadores: 1\n",
      "score test: 0.5723076923076923 N_estimadores: 59\n",
      "score train: 0.6198856137263529 N_estimadores: 80\n",
      "Wall time: 1min 26s\n"
     ]
    }
   ],
   "source": [
    "\n",
    "\n",
    "%%time\n",
    "\n",
    "f1rfregtest = 0\n",
    "f1rfregtrain = 0\n",
    "f1rftest = 0\n",
    "f1rftrain = 0\n",
    "\n",
    "suprfregtest = 0\n",
    "suprfregtrain = 0\n",
    "suprftest = 0\n",
    "suprftrain = 0\n",
    "\n",
    "estrfregtest = 0\n",
    "estrfregtrain = 0\n",
    "estrftest = 0\n",
    "estrftrain = 0\n",
    "\n",
    "i_5=[]\n",
    "s_rf_r_test=[]\n",
    "s_rf_r_train=[]\n",
    "s_rf_r_val=[]\n",
    "s_rf_test=[]\n",
    "s_rf_train=[]\n",
    "s_rf_val=[]\n",
    "\n",
    "for i in range(100):\n",
    "    \n",
    "    RFreg = RandomForestClassifier(n_estimators=i+1, max_depth=depthtest ,n_jobs=-1)\n",
    "    RFreg.fit(X_train,y_train)      \n",
    "    RF = RandomForestClassifier(n_estimators=i+1, max_depth=depthtest ,n_jobs=-1)\n",
    "    RF.fit(X_train,y_train)     \n",
    " \n",
    "    \n",
    "    f1rfregtest = f1_score(y_test, RFreg.predict(X_test), average='micro')\n",
    "    s_rf_r_test.append( f1adaregtest)\n",
    "    f1rfregtrain= f1_score(y_train, RFreg.predict(X_train), average='micro')\n",
    "    s_rf_r_train.append(f1rfregtrain)\n",
    "    \n",
    "    f1rftest = f1_score(y_test, RF.predict(X_test), average='micro')\n",
    "    s_rf_test.append(f1adatest)\n",
    "    f1rftrain = f1_score(y_train, RF.predict(X_train), average='micro')\n",
    "    s_rf_train.append(f1rftrain)    \n",
    "    \n",
    "    i_5.append(i+1)\n",
    "    if f1rfregtest>suprfregtest:\n",
    "        suprfregtest=f1rfregtest\n",
    "        estrfregtest = i+1\n",
    " \n",
    "    if f1rfregtrain>suprfregtrain:\n",
    "        suprfregtrain=f1adaregtrain\n",
    "        estrfregtrain = i+1\n",
    "  \n",
    "    if f1rftest>suprftest:\n",
    "        suprftest=f1rftest\n",
    "        estrftest = i+1\n",
    " \n",
    "    if f1rftrain>suprftrain:\n",
    "        suprftrain=f1rftrain\n",
    "        estrftrain = i+1\n",
    "    \n",
    "\n",
    "#    rand_tree_reg= RandomForestClassifier(n_estimators=i, max_depth=depth,n_jobs=-1,criterio='', M \"muestreo de parámetros\")\n",
    "\n",
    "print ('score reg test:', suprfregtest, 'N_estimadores:', estrfregtest)\n",
    "print ('score reg train:', suprfregtrain, 'N_estimadores:', estrfregtrain)\n",
    "print ('score test:', suprftest, 'N_estimadores:', estrftest)\n",
    "print ('score train:', suprftrain, 'N_estimadores:', estrftrain)\n",
    "        "
   ]
  },
  {
   "cell_type": "code",
   "execution_count": 80,
   "metadata": {},
   "outputs": [
    {
     "data": {
      "text/plain": [
       "<matplotlib.legend.Legend at 0x229abe0b6d8>"
      ]
     },
     "execution_count": 80,
     "metadata": {},
     "output_type": "execute_result"
    },
    {
     "data": {
      "image/png": "[encoded data removed]",
      "text/plain": [
       "<Figure size 432x288 with 1 Axes>"
      ]
     },
     "metadata": {},
     "output_type": "display_data"
    }
   ],
   "source": [
    "plt.plot(i_5, s_rf_r_train, label='Train score reg bagging')\n",
    "plt.plot(i_5, s_rf_r_test, label='Test score reg bagging')\n",
    "plt.plot(i_5, s_rf_train, label='Train score bagging')\n",
    "plt.plot(i_5, s_rf_test, label='Test score bagging')\n",
    "\n",
    "plt.xlabel('estimadores')\n",
    "plt.ylabel('Score')\n",
    "plt.legend(bbox_to_anchor=(1.05, 1), loc=2, borderaxespad=0.)"
   ]
  },
  {
   "cell_type": "markdown",
   "metadata": {},
   "source": [
    "El resultado obtenido es anómalo, independiente del desempeño entregado, por lo visto hasta ahora, los desempeños de test no deberían ser constantes, deberían oscilar con una tendencia central, es necesario revisar el modelo."
   ]
  },
  {
   "cell_type": "markdown",
   "metadata": {},
   "source": [
    "> g) Verifique que el **OOB error** (*out of bag error*) de los ensambladores que utilizan la técnica *boostrap* puede ser una alternativa como métrica de generalización, compárelo con el error calculado sobre el conjunto de pruebas y validación (o en su defecto *cross validation*).\n"
   ]
  },
  {
   "cell_type": "code",
   "execution_count": 81,
   "metadata": {},
   "outputs": [
    {
     "name": "stdout",
     "output_type": "stream",
     "text": [
      "OOB error:  1\n",
      "Val error:  0.3874230430958663\n",
      "Test error:  0.3902564102564102\n"
     ]
    }
   ],
   "source": [
    "oob_error = 1 - model.oob_score\n",
    "test_error = 1- model.score(X_test,y_test)\n",
    "val_error = 1- model.score(X_val,y_val)\n",
    "print(\"OOB error: \",oob_error)\n",
    "print (\"Val error: \",val_error)\n",
    "print(\"Test error: \",test_error)"
   ]
  },
  {
   "cell_type": "markdown",
   "metadata": {},
   "source": [
    "> h) Entrene alguna otra máquina de aprendizaje, elegida por usted de entre todas las vistas en el curso, para resolver el problema. Elija los hiper-parámetros que estime convenientes intentando aumentar el *F1-scor*e obtenido por los algoritmos anteriores ¿Se logra una mejora? ¿Por qué?\n"
   ]
  },
  {
   "cell_type": "markdown",
   "metadata": {},
   "source": [
    "> i) Compare y analice las distintas maneras con las que se resolvió el problema definido en b), por ejemplo incluya las decisiones que conlleva y los resultados que reflejan.\n"
   ]
  },
  {
   "cell_type": "markdown",
   "metadata": {},
   "source": [
    "> j) Defina otra forma de combinar los valores que entregan los ensamblados al hacer predicciones y compare con lo que se hace actualmente, por ejemplo *Bagging* realiza el voto de la mayoría para clasificación y promedio para regresión, *AdaBoost* realiza una combinación ponderada de cada clasificador dependiendo de su *habilidad* (desempeño para clasificar el conjunto de entrenamiento).\n"
   ]
  },
  {
   "cell_type": "code",
   "execution_count": null,
   "metadata": {},
   "outputs": [],
   "source": [
    "```python\n",
    "def combine_predictions(predictions):\n",
    "    return #define !\n",
    "list_estimators = model.estimators_\n",
    "list_predictions = [estimator.predict(X_test) for estimator in list_estimators]\n",
    "new_predictions = combine_predictions(list_predictions)\n",
    "...#measure f1 score\n",
    "f1_score(y_test, new_predictions)"
   ]
  },
  {
   "cell_type": "markdown",
   "metadata": {},
   "source": [
    "> k) Utilice la técnica de ensamblado para seleccionar características, para ésto defina un criterio para estimar la importancia de los distintos atributos en el ensamblado, impleméntelo sobre alguno de los ensambladores entrenados para resolver el problema definido en b). Realice un *ranking* de importancia de atributos y seleccione las $k$ características más relevantes.\n"
   ]
  },
  {
   "cell_type": "markdown",
   "metadata": {},
   "source": [
    "> l) Entrene la máquina de aprendizaje definida en h) sobre las $k$ carecterísticas derivadas del punto anterior ¿Mejora los resultados sobre ésta máquina de aprendizaje?\n"
   ]
  },
  {
   "cell_type": "code",
   "execution_count": null,
   "metadata": {},
   "outputs": [],
   "source": [
    "\n"
   ]
  }
 ],
 "metadata": {
  "kernelspec": {
   "display_name": "Python 3",
   "language": "python",
   "name": "python3"
  },
  "language_info": {
   "codemirror_mode": {
    "name": "ipython",
    "version": 3
   },
   "file_extension": ".py",
   "mimetype": "text/x-python",
   "name": "python",
   "nbconvert_exporter": "python",
   "pygments_lexer": "ipython3",
   "version": "3.6.5"
  }
 },
 "nbformat": 4,
 "nbformat_minor": 2
}
