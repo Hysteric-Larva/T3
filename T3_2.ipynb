{
 "cells": [
  {
   "cell_type": "markdown",
   "metadata": {},
   "source": [
    "## 2. Redes Convolucionales sobre imágenes\n",
    "---\n",
    "Las redes neuronales hoy en día han sido extendidas a numerosas aplicaciones gracias a la arquitectura definida para cada tipo de problema. Las redes neuronales que aplican la operación de convolución [[3]](#refs) o convoluciones en sus capas son concidas como *CNN* o *ConvNets*, lo cual se especializa en trabajar en datos con forma matricial (ya sea bi-dimensional o tri-dimensional), lo cual se adecúa perfectamente a imágenes (matrices), ya que gracias a su conectividad local se especializan en reconocer patrones sobre los datos de manera espacial, como refleja la siguiente imagen:\n",
    "\n",
    "<img src=\"https://cdn-images-1.medium.com/max/1600/1*N4h1SgwbWNmtrRhszM9EJg.png\" title=\"Title text\" width=\"90%\" />\n",
    "\n",
    "\n",
    "En esta actividad trabajará con un extracto bastante pequeño del dataset conocido como **101-Food**[[4]](#refs), el cual consta de mil imágenes pertenecientes a 3 clases (*Hambuger, Hot Dog* y *Pizza*) separados en conjunto de entrenamiento y validación.  \n",
    "El extracto pequeño del dataset con el que se trabajará deberá ser descargado del siguiente __[link](https://www.dropbox.com/s/56xqazmhbh0doi7/food_data.zip?dl=0)__ a través de Dropbox."
   ]
  },
  {
   "cell_type": "markdown",
   "metadata": {},
   "source": [
    "En Machine Learning las redes convolucionales sobre imagenes se utilizan para reducir el tamaño de los atributos de esta sin perder la riqueza de la información que esta posee, es decir, de cada conjunto se posee una especie de dato representante dentro de una vecindad que la caracteriza y con eso se reduce tiempos de ejecución e incluso puede mejorar los resultadosde algoritmos de esta área .\n"
   ]
  },
  {
   "cell_type": "markdown",
   "metadata": {},
   "source": [
    "> a) Construya funciones para leer los datos y cargarlos al momento de entrenar (durante cada *epoch*), para ésto utilice *Image Data Generator* de keras."
   ]
  },
  {
   "cell_type": "code",
   "execution_count": 1,
   "metadata": {},
   "outputs": [
    {
     "name": "stderr",
     "output_type": "stream",
     "text": [
      "C:\\Users\\kzep\\Anaconda3\\lib\\site-packages\\h5py\\__init__.py:36: FutureWarning: Conversion of the second argument of issubdtype from `float` to `np.floating` is deprecated. In future, it will be treated as `np.float64 == np.dtype(float).type`.\n",
      "  from ._conv import register_converters as _register_converters\n",
      "Using TensorFlow backend.\n"
     ]
    }
   ],
   "source": [
    "from keras.preprocessing.image import ImageDataGenerator\n",
    "from keras.models import Sequential\n",
    "from keras.layers import *\n",
    "import time\n",
    "from sklearn.metrics import confusion_matrix \n",
    "import matplotlib.pyplot as plt"
   ]
  },
  {
   "cell_type": "markdown",
   "metadata": {},
   "source": [
    "Acá lo que se hace es generar un conjunto de pruebas, entrenamiento (y tambien de validacion por consiguiente) para nuestra red de coonvolucion calculando la cantidad de clases para cada conjuntos"
   ]
  },
  {
   "cell_type": "code",
   "execution_count": 2,
   "metadata": {},
   "outputs": [
    {
     "name": "stdout",
     "output_type": "stream",
     "text": [
      "Found 2400 images belonging to 3 classes.\n",
      "Found 600 images belonging to 3 classes.\n"
     ]
    }
   ],
   "source": [
    "train_datagen = ImageDataGenerator(\n",
    "        rescale=1./255,\n",
    "        shear_range=0.2,\n",
    "        zoom_range=0.2,\n",
    "        horizontal_flip=True)\n",
    "test_datagen = ImageDataGenerator(rescale=1./255) #no transformation\n",
    "train_generator = train_datagen.flow_from_directory(\n",
    "        'food_data/train',\n",
    "        target_size=(150, 150),\n",
    "        color_mode='rgb',\n",
    "        batch_size=32)\n",
    "validation_generator = test_datagen.flow_from_directory(\n",
    "        'food_data/val',\n",
    "        target_size=(150, 150),\n",
    "        color_mode='rgb',\n",
    "        batch_size=32)"
   ]
  },
  {
   "cell_type": "markdown",
   "metadata": {},
   "source": [
    "trujulear para ver que clases son y describir los parametros"
   ]
  },
  {
   "cell_type": "markdown",
   "metadata": {},
   "source": [
    "> b) Utilice la red tradicional (*Feed Forward*) entregada en el código para ser entrenada sobre los datos vectorizados, esto es que cada imagen queda representada como un vector gigante, y las 3 clases a las que se enfrenta. Evalúe el modelo con la métrica *accuracy* sobre el conjunto de validación."
   ]
  },
  {
   "cell_type": "raw",
   "metadata": {},
   "source": [
    "Una Red Neuronal Feed Foward es aquella cuyos nodos no generan ciclios y funciona en una sola dirección hacia el output. Esto se utilizará para transformar las imagenes en vectores como ya se mencionó y entrenarlo. Con ella se experimentará para ver como se comporta la función con respecto a la variación de este parámetro."
   ]
  },
  {
   "cell_type": "code",
   "execution_count": 3,
   "metadata": {},
   "outputs": [
    {
     "name": "stdout",
     "output_type": "stream",
     "text": [
      "_________________________________________________________________\n",
      "Layer (type)                 Output Shape              Param #   \n",
      "=================================================================\n",
      "flatten_1 (Flatten)          (None, 67500)             0         \n",
      "_________________________________________________________________\n",
      "batch_normalization_1 (Batch (None, 67500)             270000    \n",
      "_________________________________________________________________\n",
      "dense_1 (Dense)              (None, 256)               17280256  \n",
      "_________________________________________________________________\n",
      "dropout_1 (Dropout)          (None, 256)               0         \n",
      "_________________________________________________________________\n",
      "dense_2 (Dense)              (None, 128)               32896     \n",
      "_________________________________________________________________\n",
      "dropout_2 (Dropout)          (None, 128)               0         \n",
      "_________________________________________________________________\n",
      "dense_3 (Dense)              (None, 3)                 387       \n",
      "=================================================================\n",
      "Total params: 17,583,539\n",
      "Trainable params: 17,448,539\n",
      "Non-trainable params: 135,000\n",
      "_________________________________________________________________\n",
      "Epoch 1/25\n",
      "75/75 [==============================] - 144s 2s/step - loss: 8.7315 - acc: 0.4371 - val_loss: 8.9985 - val_acc: 0.4340\n",
      "Epoch 2/25\n",
      "75/75 [==============================] - 38s 505ms/step - loss: 8.5740 - acc: 0.4621 - val_loss: 8.8662 - val_acc: 0.4454\n",
      "Epoch 3/25\n",
      "75/75 [==============================] - 40s 530ms/step - loss: 8.5812 - acc: 0.4629 - val_loss: 8.4123 - val_acc: 0.4683\n",
      "Epoch 4/25\n",
      "75/75 [==============================] - 41s 549ms/step - loss: 8.1391 - acc: 0.4888 - val_loss: 8.7913 - val_acc: 0.4507\n",
      "Epoch 5/25\n",
      "75/75 [==============================] - 39s 525ms/step - loss: 8.3448 - acc: 0.4800 - val_loss: 8.6434 - val_acc: 0.4630\n",
      "Epoch 6/25\n",
      "75/75 [==============================] - 39s 519ms/step - loss: 8.0981 - acc: 0.4937 - val_loss: 9.0709 - val_acc: 0.4366\n",
      "Epoch 7/25\n",
      "75/75 [==============================] - 40s 536ms/step - loss: 8.6524 - acc: 0.4608 - val_loss: 8.9438 - val_acc: 0.4384\n",
      "Epoch 8/25\n",
      "75/75 [==============================] - 41s 541ms/step - loss: 8.3632 - acc: 0.4783 - val_loss: 8.3372 - val_acc: 0.4771\n",
      "Epoch 9/25\n",
      "75/75 [==============================] - 40s 528ms/step - loss: 8.3087 - acc: 0.4821 - val_loss: 8.1889 - val_acc: 0.4894\n",
      "Epoch 10/25\n",
      "75/75 [==============================] - 40s 533ms/step - loss: 8.4486 - acc: 0.4733 - val_loss: 9.3537 - val_acc: 0.4155\n",
      "Epoch 11/25\n",
      "75/75 [==============================] - 39s 524ms/step - loss: 8.2545 - acc: 0.4846 - val_loss: 8.7085 - val_acc: 0.4577\n",
      "Epoch 12/25\n",
      "75/75 [==============================] - 39s 524ms/step - loss: 8.7517 - acc: 0.4533 - val_loss: 9.0255 - val_acc: 0.4384\n",
      "Epoch 13/25\n",
      "75/75 [==============================] - 40s 530ms/step - loss: 8.5971 - acc: 0.4637 - val_loss: 9.4665 - val_acc: 0.4102\n",
      "Epoch 14/25\n",
      "75/75 [==============================] - 39s 521ms/step - loss: 8.6353 - acc: 0.4625 - val_loss: 8.9344 - val_acc: 0.4419\n",
      "Epoch 15/25\n",
      "75/75 [==============================] - 39s 523ms/step - loss: 8.5188 - acc: 0.4688 - val_loss: 8.9163 - val_acc: 0.4419\n",
      "Epoch 16/25\n",
      "75/75 [==============================] - 39s 516ms/step - loss: 9.0152 - acc: 0.4379 - val_loss: 8.5407 - val_acc: 0.4683\n",
      "Epoch 17/25\n",
      "75/75 [==============================] - 41s 549ms/step - loss: 8.7253 - acc: 0.4579 - val_loss: 8.8542 - val_acc: 0.4472\n",
      "Epoch 18/25\n",
      "75/75 [==============================] - 57s 754ms/step - loss: 8.6305 - acc: 0.4617 - val_loss: 8.9021 - val_acc: 0.4437\n",
      "Epoch 19/25\n",
      "75/75 [==============================] - 58s 767ms/step - loss: 8.8143 - acc: 0.4504 - val_loss: 9.0360 - val_acc: 0.4384\n",
      "Epoch 20/25\n",
      "75/75 [==============================] - 58s 771ms/step - loss: 8.8323 - acc: 0.4500 - val_loss: 8.8588 - val_acc: 0.4462\n",
      "Epoch 21/25\n",
      "75/75 [==============================] - 44s 592ms/step - loss: 8.6186 - acc: 0.4625 - val_loss: 8.6351 - val_acc: 0.4613\n",
      "Epoch 22/25\n",
      "75/75 [==============================] - 42s 555ms/step - loss: 8.8491 - acc: 0.4479 - val_loss: 9.1251 - val_acc: 0.4296\n",
      "Epoch 23/25\n",
      "75/75 [==============================] - 42s 563ms/step - loss: 8.6596 - acc: 0.4608 - val_loss: 9.0522 - val_acc: 0.4384\n",
      "Epoch 24/25\n",
      "75/75 [==============================] - 44s 582ms/step - loss: 8.7212 - acc: 0.4579 - val_loss: 9.5196 - val_acc: 0.4085\n",
      "Epoch 25/25\n",
      "75/75 [==============================] - 40s 535ms/step - loss: 8.6425 - acc: 0.4625 - val_loss: 9.1822 - val_acc: 0.4278\n",
      "Accuracy validation:  0.40625\n",
      "Accuracy validation:  0.359375\n",
      "Accuracy validation:  0.3958333333333333\n",
      "Accuracy validation:  0.484375\n",
      "Accuracy validation:  0.4125\n",
      "Accuracy validation:  0.42934782738270966\n",
      "Accuracy validation:  0.41964285714285715\n",
      "Accuracy validation:  0.3870967741935484\n",
      "Accuracy validation:  0.3888888888888889\n",
      "Accuracy validation:  0.44230769383601654\n",
      "Accuracy validation:  0.42045454545454547\n",
      "Accuracy validation:  0.401595745314943\n",
      "Accuracy validation:  0.4436274498116736\n",
      "Accuracy validation:  0.41294642857142855\n",
      "Accuracy validation:  0.42291666666666666\n",
      "Accuracy validation:  0.41865079365079366\n",
      "Accuracy validation:  0.41044776074921907\n",
      "Accuracy validation:  0.4154929581662299\n",
      "Accuracy validation:  0.4166666666666667\n",
      "Accuracy validation:  0.4240506329113924\n",
      "Accuracy validation:  0.40813253012048195\n",
      "Accuracy validation:  0.4224137931034483\n",
      "Accuracy validation:  0.41620879088129314\n",
      "Accuracy validation:  0.4118421052631579\n",
      "Accuracy validation:  0.42346938714689136\n",
      "Accuracy validation:  0.4114077667009483\n",
      "Accuracy validation:  0.4233490568849276\n",
      "Accuracy validation:  0.42454954954954954\n",
      "Accuracy validation:  0.41337719324388\n",
      "Accuracy validation:  0.42016806722689076\n",
      "Accuracy validation:  0.4252049182770682\n",
      "Accuracy validation:  0.41865079365079366\n",
      "Accuracy validation:  0.4265267171022546\n",
      "Accuracy validation:  0.42500000022075796\n",
      "Accuracy validation:  0.4166666664507078\n",
      "Accuracy validation:  0.41901408471691776\n",
      "Accuracy validation:  0.4238013698630137\n",
      "Accuracy validation:  0.4166666666666667\n",
      "Accuracy validation:  0.42207792227144364\n",
      "Accuracy validation:  0.4106012654455402\n",
      "Wall time: 21min 26s\n"
     ]
    }
   ],
   "source": [
    "%%time\n",
    "ltime=[]\n",
    "step = []\n",
    "error = []\n",
    "best = 99.9\n",
    "best_step = 0\n",
    "model = Sequential()\n",
    "model.add(Flatten(input_shape=train_generator.image_shape)) #full dense\n",
    "model.add(BatchNormalization()) #to normalize the input..\n",
    "model.add(Dense(256,activation='relu'))\n",
    "model.add(Dropout(0.25))\n",
    "model.add(Dense(128,activation='relu')) #128\n",
    "model.add(Dropout(0.25))\n",
    "model.add(Dense(3,activation='softmax'))\n",
    "model.compile(loss='categorical_crossentropy', optimizer='rmsprop', metrics=['accuracy']) # Let's train the model using RMSprop\n",
    "model.summary()\n",
    "model.fit_generator(\n",
    "        train_generator,\n",
    "        steps_per_epoch=len(train_generator.classes)//train_generator.batch_size, #samples//batch_size\n",
    "        epochs=25,\n",
    "        validation_data=validation_generator,\n",
    "        validation_steps=len(validation_generator.classes)//validation_generator.batch_size)\n",
    "for i in range(40):\n",
    "    error.append(model.evaluate_generator(generator=validation_generator,steps = (i+1))[1])#probar algo distinto de 2\n",
    "    print(\"Accuracy validation: \",error[i])\n",
    "    end = time.time()\n",
    "    step.append(i+1)\n",
    "    if error[i]>best:\n",
    "        best = error[i]\n",
    "        best_step = i+1"
   ]
  },
  {
   "cell_type": "markdown",
   "metadata": {},
   "source": [
    "Para este problema, como los datos son generados aleatoriamente, también el gráfico cambiará y en partícular los pasos necesarios para alcanzar el máximo."
   ]
  },
  {
   "cell_type": "markdown",
   "metadata": {},
   "source": [
    "\n"
   ]
  },
  {
   "cell_type": "code",
   "execution_count": 4,
   "metadata": {},
   "outputs": [
    {
     "data": {
      "text/plain": [
       "Text(0.5,1,'Accuracy vs steps')"
      ]
     },
     "execution_count": 4,
     "metadata": {},
     "output_type": "execute_result"
    },
    {
     "data": {
      "image/png": "[encoded data removed]",
      "text/plain": [
       "<Figure size 432x288 with 1 Axes>"
      ]
     },
     "metadata": {},
     "output_type": "display_data"
    }
   ],
   "source": [
    "plt.plot(step,error)\n",
    "plt.title(\"Accuracy vs steps\")"
   ]
  },
  {
   "cell_type": "markdown",
   "metadata": {},
   "source": [
    "Se muestra el máximo global de la cantidad de pasos considerados, note que a partir de 40 el valor se empieza a estabilizar."
   ]
  },
  {
   "cell_type": "code",
   "execution_count": 5,
   "metadata": {},
   "outputs": [
    {
     "name": "stdout",
     "output_type": "stream",
     "text": [
      "Mejor accuracy;  99.9 con  0 pasos\n"
     ]
    }
   ],
   "source": [
    "print(\"Mejor accuracy; \",best,\"con \",best_step,\"pasos\")"
   ]
  },
  {
   "cell_type": "markdown",
   "metadata": {},
   "source": [
    "Ahora precargaremos el conjunto con un número fijo de pasos (7) para continuar con el informe. No se utilizará el máximo pues es el valor que puede ser más sensible a overfitting."
   ]
  },
  {
   "cell_type": "markdown",
   "metadata": {},
   "source": [
    "la probabilidad converge a 50 es rara, ver pq . estudiar la composición"
   ]
  },
  {
   "cell_type": "code",
   "execution_count": 6,
   "metadata": {},
   "outputs": [
    {
     "name": "stdout",
     "output_type": "stream",
     "text": [
      "_________________________________________________________________\n",
      "Layer (type)                 Output Shape              Param #   \n",
      "=================================================================\n",
      "flatten_2 (Flatten)          (None, 67500)             0         \n",
      "_________________________________________________________________\n",
      "batch_normalization_2 (Batch (None, 67500)             270000    \n",
      "_________________________________________________________________\n",
      "dense_4 (Dense)              (None, 256)               17280256  \n",
      "_________________________________________________________________\n",
      "dropout_3 (Dropout)          (None, 256)               0         \n",
      "_________________________________________________________________\n",
      "dense_5 (Dense)              (None, 128)               32896     \n",
      "_________________________________________________________________\n",
      "dropout_4 (Dropout)          (None, 128)               0         \n",
      "_________________________________________________________________\n",
      "dense_6 (Dense)              (None, 3)                 387       \n",
      "=================================================================\n",
      "Total params: 17,583,539\n",
      "Trainable params: 17,448,539\n",
      "Non-trainable params: 135,000\n",
      "_________________________________________________________________\n",
      "Epoch 1/25\n",
      "75/75 [==============================] - 40s 539ms/step - loss: 9.3791 - acc: 0.3942 - val_loss: 10.0677 - val_acc: 0.3681\n",
      "Epoch 2/25\n",
      "75/75 [==============================] - 40s 527ms/step - loss: 9.7336 - acc: 0.3871 - val_loss: 9.5707 - val_acc: 0.4014\n",
      "Epoch 3/25\n",
      "75/75 [==============================] - 39s 527ms/step - loss: 9.3566 - acc: 0.4150 - val_loss: 9.3912 - val_acc: 0.4102\n",
      "Epoch 4/25\n",
      "75/75 [==============================] - 39s 526ms/step - loss: 9.2933 - acc: 0.4175 - val_loss: 9.5037 - val_acc: 0.4085\n",
      "Epoch 5/25\n",
      "75/75 [==============================] - 39s 522ms/step - loss: 9.4422 - acc: 0.4100 - val_loss: 10.1851 - val_acc: 0.3662\n",
      "Epoch 6/25\n",
      "75/75 [==============================] - 39s 519ms/step - loss: 9.4286 - acc: 0.4125 - val_loss: 9.4211 - val_acc: 0.4155\n",
      "Epoch 7/25\n",
      "75/75 [==============================] - 39s 527ms/step - loss: 9.2943 - acc: 0.4208 - val_loss: 9.0866 - val_acc: 0.4331\n",
      "Epoch 8/25\n",
      "75/75 [==============================] - 39s 521ms/step - loss: 9.1647 - acc: 0.4304 - val_loss: 9.2838 - val_acc: 0.4225\n",
      "Epoch 9/25\n",
      "75/75 [==============================] - 40s 531ms/step - loss: 9.2179 - acc: 0.4250 - val_loss: 9.8940 - val_acc: 0.3838\n",
      "Epoch 10/25\n",
      "75/75 [==============================] - 39s 526ms/step - loss: 9.1473 - acc: 0.4304 - val_loss: 8.9817 - val_acc: 0.4401\n",
      "Epoch 11/25\n",
      "75/75 [==============================] - 40s 538ms/step - loss: 9.1054 - acc: 0.4338 - val_loss: 10.2200 - val_acc: 0.3644\n",
      "Epoch 12/25\n",
      "75/75 [==============================] - 40s 531ms/step - loss: 9.5005 - acc: 0.4100 - val_loss: 9.6765 - val_acc: 0.3996\n",
      "Epoch 13/25\n",
      "75/75 [==============================] - 39s 521ms/step - loss: 9.3197 - acc: 0.4213 - val_loss: 10.0321 - val_acc: 0.3768\n",
      "Epoch 14/25\n",
      "75/75 [==============================] - 39s 521ms/step - loss: 9.2970 - acc: 0.4221 - val_loss: 9.8184 - val_acc: 0.3908\n",
      "Epoch 15/25\n",
      "75/75 [==============================] - 39s 525ms/step - loss: 9.3614 - acc: 0.4179 - val_loss: 9.9695 - val_acc: 0.3803\n",
      "Epoch 16/25\n",
      "75/75 [==============================] - 40s 533ms/step - loss: 9.3026 - acc: 0.4225 - val_loss: 9.6924 - val_acc: 0.3979\n",
      "Epoch 17/25\n",
      "75/75 [==============================] - 39s 520ms/step - loss: 9.1784 - acc: 0.4300 - val_loss: 9.0609 - val_acc: 0.4366\n",
      "Epoch 18/25\n",
      "75/75 [==============================] - 39s 520ms/step - loss: 8.9590 - acc: 0.4442 - val_loss: 9.3223 - val_acc: 0.4208\n",
      "Epoch 19/25\n",
      "75/75 [==============================] - 39s 522ms/step - loss: 9.0955 - acc: 0.4338 - val_loss: 9.4452 - val_acc: 0.4137\n",
      "Epoch 20/25\n",
      "75/75 [==============================] - 39s 522ms/step - loss: 8.7153 - acc: 0.4571 - val_loss: 8.8930 - val_acc: 0.4444\n",
      "Epoch 21/25\n",
      "75/75 [==============================] - 40s 531ms/step - loss: 8.7540 - acc: 0.4537 - val_loss: 9.2154 - val_acc: 0.4261\n",
      "Epoch 22/25\n",
      "75/75 [==============================] - 40s 531ms/step - loss: 8.4188 - acc: 0.4750 - val_loss: 8.9507 - val_acc: 0.4437\n",
      "Epoch 23/25\n",
      "75/75 [==============================] - 39s 525ms/step - loss: 8.2112 - acc: 0.4871 - val_loss: 8.5519 - val_acc: 0.4665\n",
      "Epoch 24/25\n",
      "75/75 [==============================] - 40s 531ms/step - loss: 7.8416 - acc: 0.5108 - val_loss: 8.4476 - val_acc: 0.4736\n",
      "Epoch 25/25\n",
      "75/75 [==============================] - 40s 527ms/step - loss: 7.9987 - acc: 0.5017 - val_loss: 8.8430 - val_acc: 0.4472\n"
     ]
    }
   ],
   "source": [
    "model = Sequential()\n",
    "model.add(Flatten(input_shape=train_generator.image_shape)) #full dense\n",
    "model.add(BatchNormalization()) #to normalize the input..\n",
    "model.add(Dense(256,activation='relu'))\n",
    "model.add(Dropout(0.25))\n",
    "model.add(Dense(128,activation='relu')) #128\n",
    "model.add(Dropout(0.25))\n",
    "model.add(Dense(3,activation='softmax'))\n",
    "model.compile(loss='categorical_crossentropy', optimizer='rmsprop', metrics=['accuracy']) # Let's train the model using RMSprop\n",
    "model.summary()\n",
    "model.fit_generator(\n",
    "        train_generator,\n",
    "        steps_per_epoch=len(train_generator.classes)//train_generator.batch_size, #samples//batch_size\n",
    "        epochs=25,\n",
    "        validation_data=validation_generator,\n",
    "        validation_steps=len(validation_generator.classes)//validation_generator.batch_size)\n",
    "\n",
    "error.append(model.evaluate_generator(generator=validation_generator,steps = 7 )[1])#probar algo distinto de 2"
   ]
  },
  {
   "cell_type": "markdown",
   "metadata": {},
   "source": [
    "> c) Utilice la red convolucional (**CNN**) entregada en el código para ser entrenada sobre los datos brutos, matrices RGB de píxeles, y las 3 clases a las que se enfrenta. Evalúe el modelo con la métrica *accuracy* sobre el conjunto de validación. Compare."
   ]
  },
  {
   "cell_type": "code",
   "execution_count": null,
   "metadata": {},
   "outputs": [
    {
     "name": "stdout",
     "output_type": "stream",
     "text": [
      "_________________________________________________________________\n",
      "Layer (type)                 Output Shape              Param #   \n",
      "=================================================================\n",
      "conv2d_1 (Conv2D)            (None, 150, 150, 32)      896       \n",
      "_________________________________________________________________\n",
      "conv2d_2 (Conv2D)            (None, 148, 148, 32)      9248      \n",
      "_________________________________________________________________\n",
      "max_pooling2d_1 (MaxPooling2 (None, 74, 74, 32)        0         \n",
      "_________________________________________________________________\n",
      "dropout_5 (Dropout)          (None, 74, 74, 32)        0         \n",
      "_________________________________________________________________\n",
      "conv2d_3 (Conv2D)            (None, 74, 74, 64)        18496     \n",
      "_________________________________________________________________\n",
      "conv2d_4 (Conv2D)            (None, 72, 72, 64)        36928     \n",
      "_________________________________________________________________\n",
      "max_pooling2d_2 (MaxPooling2 (None, 36, 36, 64)        0         \n",
      "_________________________________________________________________\n",
      "dropout_6 (Dropout)          (None, 36, 36, 64)        0         \n",
      "_________________________________________________________________\n",
      "flatten_3 (Flatten)          (None, 82944)             0         \n",
      "_________________________________________________________________\n",
      "dense_7 (Dense)              (None, 128)               10616960  \n",
      "_________________________________________________________________\n",
      "dropout_7 (Dropout)          (None, 128)               0         \n",
      "_________________________________________________________________\n",
      "dense_8 (Dense)              (None, 3)                 387       \n",
      "=================================================================\n",
      "Total params: 10,682,915\n",
      "Trainable params: 10,682,915\n",
      "Non-trainable params: 0\n",
      "_________________________________________________________________\n",
      "Epoch 1/25\n",
      "75/75 [==============================] - 317s 4s/step - loss: 1.1827 - acc: 0.4025 - val_loss: 1.0444 - val_acc: 0.4789\n",
      "Epoch 2/25\n",
      "75/75 [==============================] - 301s 4s/step - loss: 1.0385 - acc: 0.4750 - val_loss: 0.9811 - val_acc: 0.4965\n",
      "Epoch 3/25\n",
      "38/75 [==============>...............] - ETA: 2:16 - loss: 0.9967 - acc: 0.5255"
     ]
    }
   ],
   "source": [
    "model = Sequential()\n",
    "model.add(Conv2D(32, (3, 3), padding='same',input_shape=train_generator.image_shape,activation='relu'))\n",
    "model.add(Conv2D(32, (3, 3),activation='relu'))\n",
    "model.add(MaxPool2D(pool_size=(2, 2)))\n",
    "model.add(Dropout(0.25))\n",
    "model.add(Conv2D(64, (3, 3), padding='same',activation='relu'))\n",
    "model.add(Conv2D(64, (3, 3),activation='relu'))\n",
    "model.add(MaxPool2D(pool_size=(2, 2)))\n",
    "model.add(Dropout(0.25))\n",
    "model.add(Flatten())\n",
    "model.add(Dense(128,activation='relu'))\n",
    "model.add(Dropout(0.5)) \n",
    "model.add(Dense(len(train_generator.class_indices),activation='softmax'))\n",
    "model.compile(loss='categorical_crossentropy', optimizer='rmsprop', metrics=['accuracy']) # Let's train the model using RMSprop\n",
    "model.summary()\n",
    "model.fit_generator(\n",
    "        train_generator,\n",
    "        steps_per_epoch=len(train_generator.classes)//train_generator.batch_size, #samples//batch_size\n",
    "        epochs=25,\n",
    "        validation_data=validation_generator,\n",
    "        validation_steps=len(validation_generator.classes)//validation_generator.batch_size)"
   ]
  },
  {
   "cell_type": "code",
   "execution_count": null,
   "metadata": {},
   "outputs": [],
   "source": [
    "step = []\n",
    "error = []\n",
    "best = 99.9\n",
    "best_step = 0\n",
    "\n",
    "for i in range(40):\n",
    "    error.append(model.evaluate_generator(generator=validation_generator,steps = (i+1))[1])#probar algo distinto de 2\n",
    "    print(\"Accuracy validation: \",error[i])\n",
    "    end = time.time()\n",
    "    step.append(i+1)\n",
    "    if error[i]>best:\n",
    "        best = error[i]\n",
    "        best_step = i+1"
   ]
  },
  {
   "cell_type": "code",
   "execution_count": null,
   "metadata": {},
   "outputs": [],
   "source": [
    "plt.plot(step,error)\n",
    "plt.title(\"Accuracy vs steps\")"
   ]
  },
  {
   "cell_type": "code",
   "execution_count": null,
   "metadata": {},
   "outputs": [],
   "source": [
    "print(\"Mejor accuracy; \",best,\"con \",best_step,\"pasos\")"
   ]
  },
  {
   "cell_type": "markdown",
   "metadata": {},
   "source": [
    "Finalmente la red combucional tuvo mejores resultados que usando feed foward, pero con la diferencia que el máximo es más grande aún."
   ]
  },
  {
   "cell_type": "markdown",
   "metadata": {},
   "source": [
    "> d) Genere un conjunto datos con incorrecta etiquetación de manera manual y vea si el modelo convolucional se sigue comportando de la misma manera. Para esto tome 100 imágenes aleatorias de entrenamiento de la carpeta *hot dog* y 100 imágenes aleatorias de entrenamiento de la carpeta *hamburger* e intercambielas, sin manipular las imágenes de la carpeta *pizza* y con el conjunto de validación intacto. Genere las matrices de confusión en el conjunto de validación para visualizar cómo afectó al modelo la corrupción realizada a los datos."
   ]
  },
  {
   "cell_type": "code",
   "execution_count": null,
   "metadata": {},
   "outputs": [],
   "source": [
    "Y_pred = model.predict_generator(validation_generator,len(validation_generator.classes)//validation_generator.batch_size+1)\n",
    "y_pred = np.argmax(Y_pred, axis=1)\n",
    "confusion_matrix = confusion_matrix(validation_generator.classes, y_pred)"
   ]
  },
  {
   "cell_type": "code",
   "execution_count": null,
   "metadata": {},
   "outputs": [],
   "source": [
    "print(confusion_matrix)"
   ]
  },
  {
   "cell_type": "code",
   "execution_count": null,
   "metadata": {},
   "outputs": [],
   "source": []
  }
 ],
 "metadata": {
  "kernelspec": {
   "display_name": "Python 3",
   "language": "python",
   "name": "python3"
  },
  "language_info": {
   "codemirror_mode": {
    "name": "ipython",
    "version": 3
   },
   "file_extension": ".py",
   "mimetype": "text/x-python",
   "name": "python",
   "nbconvert_exporter": "python",
   "pygments_lexer": "ipython3",
   "version": "3.6.5"
  }
 },
 "nbformat": 4,
 "nbformat_minor": 2
}
