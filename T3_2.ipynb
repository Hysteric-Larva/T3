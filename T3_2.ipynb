{
 "cells": [
  {
   "cell_type": "markdown",
   "metadata": {},
   "source": [
    "## 2. Redes Convolucionales sobre imágenes\n",
    "---\n",
    "Las redes neuronales hoy en día han sido extendidas a numerosas aplicaciones gracias a la arquitectura definida para cada tipo de problema. Las redes neuronales que aplican la operación de convolución [[3]](#refs) o convoluciones en sus capas son concidas como *CNN* o *ConvNets*, lo cual se especializa en trabajar en datos con forma matricial (ya sea bi-dimensional o tri-dimensional), lo cual se adecúa perfectamente a imágenes (matrices), ya que gracias a su conectividad local se especializan en reconocer patrones sobre los datos de manera espacial, como refleja la siguiente imagen:\n",
    "\n",
    "<img src=\"https://cdn-images-1.medium.com/max/1600/1*N4h1SgwbWNmtrRhszM9EJg.png\" title=\"Title text\" width=\"90%\" />\n",
    "\n",
    "\n",
    "En esta actividad trabajará con un extracto bastante pequeño del dataset conocido como **101-Food**[[4]](#refs), el cual consta de mil imágenes pertenecientes a 3 clases (*Hambuger, Hot Dog* y *Pizza*) separados en conjunto de entrenamiento y validación.  \n",
    "El extracto pequeño del dataset con el que se trabajará deberá ser descargado del siguiente __[link](https://www.dropbox.com/s/56xqazmhbh0doi7/food_data.zip?dl=0)__ a través de Dropbox."
   ]
  },
  {
   "cell_type": "markdown",
   "metadata": {},
   "source": [
    "> a) Construya funciones para leer los datos y cargarlos al momento de entrenar (durante cada *epoch*), para ésto utilice *Image Data Generator* de keras."
   ]
  },
  {
   "cell_type": "code",
   "execution_count": 2,
   "metadata": {},
   "outputs": [
    {
     "name": "stderr",
     "output_type": "stream",
     "text": [
      "C:\\Users\\kzep\\Anaconda3\\lib\\site-packages\\h5py\\__init__.py:36: FutureWarning: Conversion of the second argument of issubdtype from `float` to `np.floating` is deprecated. In future, it will be treated as `np.float64 == np.dtype(float).type`.\n",
      "  from ._conv import register_converters as _register_converters\n",
      "Using TensorFlow backend.\n"
     ]
    },
    {
     "name": "stdout",
     "output_type": "stream",
     "text": [
      "Found 2400 images belonging to 3 classes.\n",
      "Found 600 images belonging to 3 classes.\n"
     ]
    }
   ],
   "source": [
    "from keras.preprocessing.image import ImageDataGenerator\n",
    "train_datagen = ImageDataGenerator(\n",
    "        rescale=1./255,\n",
    "        shear_range=0.2,\n",
    "        zoom_range=0.2,\n",
    "        horizontal_flip=True)\n",
    "test_datagen = ImageDataGenerator(rescale=1./255) #no transformation\n",
    "train_generator = train_datagen.flow_from_directory(\n",
    "        'food_data/train',\n",
    "        target_size=(150, 150),\n",
    "        color_mode='rgb',\n",
    "        batch_size=32)\n",
    "validation_generator = test_datagen.flow_from_directory(\n",
    "        'food_data/val',\n",
    "        target_size=(150, 150),\n",
    "        color_mode='rgb',\n",
    "        batch_size=32)"
   ]
  },
  {
   "cell_type": "markdown",
   "metadata": {},
   "source": [
    "> b) Utilice la red tradicional (*Feed Forward*) entregada en el código para ser entrenada sobre los datos vectorizados, esto es que cada imagen queda representada como un vector gigante, y las 3 clases a las que se enfrenta. Evalúe el modelo con la métrica *accuracy* sobre el conjunto de validación."
   ]
  },
  {
   "cell_type": "code",
   "execution_count": 4,
   "metadata": {},
   "outputs": [
    {
     "name": "stdout",
     "output_type": "stream",
     "text": [
      "_________________________________________________________________\n",
      "Layer (type)                 Output Shape              Param #   \n",
      "=================================================================\n",
      "flatten_2 (Flatten)          (None, 67500)             0         \n",
      "_________________________________________________________________\n",
      "batch_normalization_2 (Batch (None, 67500)             270000    \n",
      "_________________________________________________________________\n",
      "dense_4 (Dense)              (None, 256)               17280256  \n",
      "_________________________________________________________________\n",
      "dropout_3 (Dropout)          (None, 256)               0         \n",
      "_________________________________________________________________\n",
      "dense_5 (Dense)              (None, 128)               32896     \n",
      "_________________________________________________________________\n",
      "dropout_4 (Dropout)          (None, 128)               0         \n",
      "_________________________________________________________________\n",
      "dense_6 (Dense)              (None, 3)                 387       \n",
      "=================================================================\n",
      "Total params: 17,583,539\n",
      "Trainable params: 17,448,539\n",
      "Non-trainable params: 135,000\n",
      "_________________________________________________________________\n",
      "Epoch 1/25\n",
      "75/75 [==============================] - 39s 523ms/step - loss: 8.6170 - acc: 0.4417 - val_loss: 8.9228 - val_acc: 0.4384\n",
      "Epoch 2/25\n",
      "75/75 [==============================] - 38s 510ms/step - loss: 8.9479 - acc: 0.4358 - val_loss: 8.9137 - val_acc: 0.4419\n",
      "Epoch 3/25\n",
      "75/75 [==============================] - 40s 539ms/step - loss: 8.1561 - acc: 0.4854 - val_loss: 8.3044 - val_acc: 0.4824\n",
      "Epoch 4/25\n",
      "75/75 [==============================] - 40s 527ms/step - loss: 8.3259 - acc: 0.4779 - val_loss: 8.5001 - val_acc: 0.4648\n",
      "Epoch 5/25\n",
      "75/75 [==============================] - 45s 598ms/step - loss: 8.3161 - acc: 0.4792 - val_loss: 8.8719 - val_acc: 0.4472\n",
      "Epoch 6/25\n",
      "75/75 [==============================] - 41s 548ms/step - loss: 8.2169 - acc: 0.4858 - val_loss: 8.2434 - val_acc: 0.4859\n",
      "Epoch 7/25\n",
      "75/75 [==============================] - 40s 528ms/step - loss: 8.3087 - acc: 0.4821 - val_loss: 8.3711 - val_acc: 0.4789\n",
      "Epoch 8/25\n",
      "75/75 [==============================] - 41s 545ms/step - loss: 8.5963 - acc: 0.4642 - val_loss: 8.9701 - val_acc: 0.4366\n",
      "Epoch 9/25\n",
      "75/75 [==============================] - 40s 530ms/step - loss: 8.2867 - acc: 0.4833 - val_loss: 7.6756 - val_acc: 0.5211\n",
      "Epoch 10/25\n",
      "75/75 [==============================] - 40s 529ms/step - loss: 8.3991 - acc: 0.4763 - val_loss: 8.2593 - val_acc: 0.4806\n",
      "Epoch 11/25\n",
      "75/75 [==============================] - 41s 544ms/step - loss: 8.1664 - acc: 0.4917 - val_loss: 8.1112 - val_acc: 0.4965\n",
      "Epoch 12/25\n",
      "75/75 [==============================] - 42s 554ms/step - loss: 8.2310 - acc: 0.4846 - val_loss: 9.4199 - val_acc: 0.4137\n",
      "Epoch 13/25\n",
      "75/75 [==============================] - 43s 576ms/step - loss: 8.3474 - acc: 0.4800 - val_loss: 8.8330 - val_acc: 0.4507\n",
      "Epoch 14/25\n",
      "75/75 [==============================] - 43s 570ms/step - loss: 7.9687 - acc: 0.5025 - val_loss: 8.4527 - val_acc: 0.4718\n",
      "Epoch 15/25\n",
      "75/75 [==============================] - 42s 554ms/step - loss: 7.8491 - acc: 0.5108 - val_loss: 8.3656 - val_acc: 0.4774\n",
      "Epoch 16/25\n",
      "75/75 [==============================] - 42s 562ms/step - loss: 8.0416 - acc: 0.4996 - val_loss: 8.0346 - val_acc: 0.5000\n",
      "Epoch 17/25\n",
      "75/75 [==============================] - 42s 556ms/step - loss: 8.1722 - acc: 0.4904 - val_loss: 7.8194 - val_acc: 0.5106\n",
      "Epoch 18/25\n",
      "75/75 [==============================] - 42s 557ms/step - loss: 8.0245 - acc: 0.5000 - val_loss: 8.5716 - val_acc: 0.4648\n",
      "Epoch 19/25\n",
      "75/75 [==============================] - 43s 572ms/step - loss: 8.2522 - acc: 0.4867 - val_loss: 8.1726 - val_acc: 0.4930\n",
      "Epoch 20/25\n",
      "75/75 [==============================] - 42s 556ms/step - loss: 7.8357 - acc: 0.5129 - val_loss: 7.7750 - val_acc: 0.5158\n",
      "Epoch 21/25\n",
      "75/75 [==============================] - 40s 540ms/step - loss: 7.8593 - acc: 0.5117 - val_loss: 8.0414 - val_acc: 0.5000\n",
      "Epoch 22/25\n",
      "75/75 [==============================] - 43s 570ms/step - loss: 8.1332 - acc: 0.4929 - val_loss: 8.0954 - val_acc: 0.4965\n",
      "Epoch 23/25\n",
      "75/75 [==============================] - 42s 565ms/step - loss: 8.0882 - acc: 0.4975 - val_loss: 8.1001 - val_acc: 0.4947\n",
      "Epoch 24/25\n",
      "75/75 [==============================] - 40s 539ms/step - loss: 8.1946 - acc: 0.4908 - val_loss: 8.4901 - val_acc: 0.4701\n",
      "Epoch 25/25\n",
      "75/75 [==============================] - 42s 555ms/step - loss: 8.3772 - acc: 0.4792 - val_loss: 7.8620 - val_acc: 0.5106\n",
      "Accuracy validation:  0.484375\n"
     ]
    }
   ],
   "source": [
    "from keras.models import Sequential\n",
    "from keras.layers import *\n",
    "model = Sequential()\n",
    "model.add(Flatten(input_shape=train_generator.image_shape)) #full dense\n",
    "model.add(BatchNormalization()) #to normalize the input..\n",
    "model.add(Dense(256,activation='relu'))\n",
    "model.add(Dropout(0.25))\n",
    "model.add(Dense(128,activation='relu')) #128\n",
    "model.add(Dropout(0.25))\n",
    "model.add(Dense(3,activation='softmax'))\n",
    "model.compile(loss='categorical_crossentropy', optimizer='rmsprop', metrics=['accuracy']) # Let's train the model using RMSprop\n",
    "model.summary()\n",
    "model.fit_generator(\n",
    "        train_generator,\n",
    "        steps_per_epoch=len(train_generator.classes)//train_generator.batch_size, #samples//batch_size\n",
    "        epochs=25,\n",
    "        validation_data=validation_generator,\n",
    "        validation_steps=len(validation_generator.classes)//validation_generator.batch_size)\n",
    "print(\"Accuracy validation: \",model.evaluate_generator(generator=validation_generator,steps = 2)[1])#probar algo distinto de 2"
   ]
  },
  {
   "cell_type": "markdown",
   "metadata": {},
   "source": [
    "> c) Utilice la red convolucional (**CNN**) entregada en el código para ser entrenada sobre los datos brutos, matrices RGB de píxeles, y las 3 clases a las que se enfrenta. Evalúe el modelo con la métrica *accuracy* sobre el conjunto de validación. Compare."
   ]
  },
  {
   "cell_type": "code",
   "execution_count": 5,
   "metadata": {},
   "outputs": [
    {
     "name": "stdout",
     "output_type": "stream",
     "text": [
      "_________________________________________________________________\n",
      "Layer (type)                 Output Shape              Param #   \n",
      "=================================================================\n",
      "conv2d_1 (Conv2D)            (None, 150, 150, 32)      896       \n",
      "_________________________________________________________________\n",
      "conv2d_2 (Conv2D)            (None, 148, 148, 32)      9248      \n",
      "_________________________________________________________________\n",
      "max_pooling2d_1 (MaxPooling2 (None, 74, 74, 32)        0         \n",
      "_________________________________________________________________\n",
      "dropout_5 (Dropout)          (None, 74, 74, 32)        0         \n",
      "_________________________________________________________________\n",
      "conv2d_3 (Conv2D)            (None, 74, 74, 64)        18496     \n",
      "_________________________________________________________________\n",
      "conv2d_4 (Conv2D)            (None, 72, 72, 64)        36928     \n",
      "_________________________________________________________________\n",
      "max_pooling2d_2 (MaxPooling2 (None, 36, 36, 64)        0         \n",
      "_________________________________________________________________\n",
      "dropout_6 (Dropout)          (None, 36, 36, 64)        0         \n",
      "_________________________________________________________________\n",
      "flatten_3 (Flatten)          (None, 82944)             0         \n",
      "_________________________________________________________________\n",
      "dense_7 (Dense)              (None, 128)               10616960  \n",
      "_________________________________________________________________\n",
      "dropout_7 (Dropout)          (None, 128)               0         \n",
      "_________________________________________________________________\n",
      "dense_8 (Dense)              (None, 3)                 387       \n",
      "=================================================================\n",
      "Total params: 10,682,915\n",
      "Trainable params: 10,682,915\n",
      "Non-trainable params: 0\n",
      "_________________________________________________________________\n",
      "Epoch 1/25\n",
      "75/75 [==============================] - 297s 4s/step - loss: 1.2019 - acc: 0.3992 - val_loss: 1.0635 - val_acc: 0.4137\n",
      "Epoch 2/25\n",
      "75/75 [==============================] - 297s 4s/step - loss: 1.0396 - acc: 0.4763 - val_loss: 0.9774 - val_acc: 0.5616\n",
      "Epoch 3/25\n",
      "75/75 [==============================] - 300s 4s/step - loss: 0.9876 - acc: 0.5179 - val_loss: 1.0209 - val_acc: 0.4701\n",
      "Epoch 4/25\n",
      "75/75 [==============================] - 300s 4s/step - loss: 0.9628 - acc: 0.5542 - val_loss: 0.8901 - val_acc: 0.5810\n",
      "Epoch 5/25\n",
      "75/75 [==============================] - 297s 4s/step - loss: 0.9293 - acc: 0.5558 - val_loss: 0.9728 - val_acc: 0.5035\n",
      "Epoch 6/25\n",
      "75/75 [==============================] - 301s 4s/step - loss: 0.9078 - acc: 0.5733 - val_loss: 0.8989 - val_acc: 0.5827\n",
      "Epoch 7/25\n",
      "75/75 [==============================] - 302s 4s/step - loss: 0.8828 - acc: 0.5996 - val_loss: 0.8202 - val_acc: 0.6250\n",
      "Epoch 8/25\n",
      "75/75 [==============================] - 298s 4s/step - loss: 0.8486 - acc: 0.6225 - val_loss: 0.8432 - val_acc: 0.6197\n",
      "Epoch 9/25\n",
      "75/75 [==============================] - 298s 4s/step - loss: 0.8313 - acc: 0.6333 - val_loss: 0.8577 - val_acc: 0.6004\n",
      "Epoch 10/25\n",
      "75/75 [==============================] - 297s 4s/step - loss: 0.8033 - acc: 0.6417 - val_loss: 0.8980 - val_acc: 0.6074\n",
      "Epoch 11/25\n",
      "75/75 [==============================] - 297s 4s/step - loss: 0.7658 - acc: 0.6629 - val_loss: 0.8020 - val_acc: 0.6180\n",
      "Epoch 12/25\n",
      "75/75 [==============================] - 297s 4s/step - loss: 0.7535 - acc: 0.6800 - val_loss: 0.8360 - val_acc: 0.6268\n",
      "Epoch 13/25\n",
      "75/75 [==============================] - 302s 4s/step - loss: 0.7476 - acc: 0.6863 - val_loss: 0.7332 - val_acc: 0.6788\n",
      "Epoch 14/25\n",
      "75/75 [==============================] - 305s 4s/step - loss: 0.7381 - acc: 0.6950 - val_loss: 0.8014 - val_acc: 0.6690\n",
      "Epoch 15/25\n",
      "75/75 [==============================] - 311s 4s/step - loss: 0.7104 - acc: 0.6925 - val_loss: 0.7607 - val_acc: 0.6796\n",
      "Epoch 16/25\n",
      "75/75 [==============================] - 300s 4s/step - loss: 0.6954 - acc: 0.7054 - val_loss: 0.7319 - val_acc: 0.6831\n",
      "Epoch 17/25\n",
      "75/75 [==============================] - 301s 4s/step - loss: 0.6738 - acc: 0.7133 - val_loss: 0.6683 - val_acc: 0.7465\n",
      "Epoch 18/25\n",
      "75/75 [==============================] - 308s 4s/step - loss: 0.6721 - acc: 0.7267 - val_loss: 0.7178 - val_acc: 0.6725\n",
      "Epoch 19/25\n",
      "75/75 [==============================] - 308s 4s/step - loss: 0.6456 - acc: 0.7325 - val_loss: 0.6753 - val_acc: 0.7148\n",
      "Epoch 20/25\n",
      "75/75 [==============================] - 300s 4s/step - loss: 0.6222 - acc: 0.7396 - val_loss: 0.6589 - val_acc: 0.7271\n",
      "Epoch 21/25\n",
      "75/75 [==============================] - 298s 4s/step - loss: 0.6142 - acc: 0.7388 - val_loss: 0.8472 - val_acc: 0.6831\n",
      "Epoch 22/25\n",
      "75/75 [==============================] - 299s 4s/step - loss: 0.6124 - acc: 0.7500 - val_loss: 0.6924 - val_acc: 0.7095\n",
      "Epoch 23/25\n",
      "75/75 [==============================] - 297s 4s/step - loss: 0.5993 - acc: 0.7533 - val_loss: 0.6582 - val_acc: 0.7060\n",
      "Epoch 24/25\n",
      "75/75 [==============================] - 296s 4s/step - loss: 0.5958 - acc: 0.7525 - val_loss: 0.6825 - val_acc: 0.7148\n",
      "Epoch 25/25\n",
      "75/75 [==============================] - 297s 4s/step - loss: 0.5806 - acc: 0.7542 - val_loss: 0.7909 - val_acc: 0.6479\n"
     ]
    },
    {
     "data": {
      "text/plain": [
       "<keras.callbacks.History at 0x227a8ef00f0>"
      ]
     },
     "execution_count": 5,
     "metadata": {},
     "output_type": "execute_result"
    }
   ],
   "source": [
    "model = Sequential()\n",
    "model.add(Conv2D(32, (3, 3), padding='same',input_shape=train_generator.image_shape,activation='relu'))\n",
    "model.add(Conv2D(32, (3, 3),activation='relu'))\n",
    "model.add(MaxPool2D(pool_size=(2, 2)))\n",
    "model.add(Dropout(0.25))\n",
    "model.add(Conv2D(64, (3, 3), padding='same',activation='relu'))\n",
    "model.add(Conv2D(64, (3, 3),activation='relu'))\n",
    "model.add(MaxPool2D(pool_size=(2, 2)))\n",
    "model.add(Dropout(0.25))\n",
    "model.add(Flatten())\n",
    "model.add(Dense(128,activation='relu'))\n",
    "model.add(Dropout(0.5)) \n",
    "model.add(Dense(len(train_generator.class_indices),activation='softmax'))\n",
    "model.compile(loss='categorical_crossentropy', optimizer='rmsprop', metrics=['accuracy']) # Let's train the model using RMSprop\n",
    "model.summary()\n",
    "model.fit_generator(\n",
    "        train_generator,\n",
    "        steps_per_epoch=len(train_generator.classes)//train_generator.batch_size, #samples//batch_size\n",
    "        epochs=25,\n",
    "        validation_data=validation_generator,\n",
    "        validation_steps=len(validation_generator.classes)//validation_generator.batch_size)"
   ]
  },
  {
   "cell_type": "markdown",
   "metadata": {},
   "source": [
    "> d) Genere un conjunto datos con incorrecta etiquetación de manera manual y vea si el modelo convolucional se sigue comportando de la misma manera. Para esto tome 100 imágenes aleatorias de entrenamiento de la carpeta *hot dog* y 100 imágenes aleatorias de entrenamiento de la carpeta *hamburger* e intercambielas, sin manipular las imágenes de la carpeta *pizza* y con el conjunto de validación intacto. Genere las matrices de confusión en el conjunto de validación para visualizar cómo afectó al modelo la corrupción realizada a los datos."
   ]
  },
  {
   "cell_type": "code",
   "execution_count": 6,
   "metadata": {},
   "outputs": [],
   "source": [
    "from sklearn.metrics import confusion_matrix \n",
    "Y_pred = model.predict_generator(validation_generator,len(validation_generator.classes)//validation_generator.batch_size+1)\n",
    "y_pred = np.argmax(Y_pred, axis=1)\n",
    "confusion_matrix = confusion_matrix(validation_generator.classes, y_pred)"
   ]
  },
  {
   "cell_type": "code",
   "execution_count": null,
   "metadata": {},
   "outputs": [],
   "source": []
  }
 ],
 "metadata": {
  "kernelspec": {
   "display_name": "Python 3",
   "language": "python",
   "name": "python3"
  },
  "language_info": {
   "codemirror_mode": {
    "name": "ipython",
    "version": 3
   },
   "file_extension": ".py",
   "mimetype": "text/x-python",
   "name": "python",
   "nbconvert_exporter": "python",
   "pygments_lexer": "ipython3",
   "version": "3.6.5"
  }
 },
 "nbformat": 4,
 "nbformat_minor": 2
}
