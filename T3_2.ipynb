{
 "cells": [
  {
   "cell_type": "markdown",
   "metadata": {},
   "source": [
    "## 2. Redes Convolucionales sobre imágenes\n",
    "---\n",
    "Las redes neuronales hoy en día han sido extendidas a numerosas aplicaciones gracias a la arquitectura definida para cada tipo de problema. Las redes neuronales que aplican la operación de convolución [[3]](#refs) o convoluciones en sus capas son concidas como *CNN* o *ConvNets*, lo cual se especializa en trabajar en datos con forma matricial (ya sea bi-dimensional o tri-dimensional), lo cual se adecúa perfectamente a imágenes (matrices), ya que gracias a su conectividad local se especializan en reconocer patrones sobre los datos de manera espacial, como refleja la siguiente imagen:\n",
    "\n",
    "<img src=\"https://cdn-images-1.medium.com/max/1600/1*N4h1SgwbWNmtrRhszM9EJg.png\" title=\"Title text\" width=\"90%\" />\n",
    "\n",
    "\n",
    "En esta actividad trabajará con un extracto bastante pequeño del dataset conocido como **101-Food**[[4]](#refs), el cual consta de mil imágenes pertenecientes a 3 clases (*Hambuger, Hot Dog* y *Pizza*) separados en conjunto de entrenamiento y validación.  \n",
    "El extracto pequeño del dataset con el que se trabajará deberá ser descargado del siguiente __[link](https://www.dropbox.com/s/56xqazmhbh0doi7/food_data.zip?dl=0)__ a través de Dropbox."
   ]
  },
  {
   "cell_type": "markdown",
   "metadata": {},
   "source": [
    "En Machine Learning las redes convolucionales sobre imagenes se utilizan para reducir el tamaño de los atributos de esta sin perder la riqueza de la información que esta posee, es decir, de cada conjunto se posee una especie de dato representante dentro de una vecindad que la caracteriza y con eso se reduce tiempos de ejecución e incluso puede mejorar los resultadosde algoritmos de esta área .\n"
   ]
  },
  {
   "cell_type": "markdown",
   "metadata": {},
   "source": [
    "> a) Construya funciones para leer los datos y cargarlos al momento de entrenar (durante cada *epoch*), para ésto utilice *Image Data Generator* de keras."
   ]
  },
  {
   "cell_type": "code",
   "execution_count": 1,
   "metadata": {},
   "outputs": [
    {
     "name": "stderr",
     "output_type": "stream",
     "text": [
      "C:\\Users\\kzep\\Anaconda3\\lib\\site-packages\\h5py\\__init__.py:36: FutureWarning: Conversion of the second argument of issubdtype from `float` to `np.floating` is deprecated. In future, it will be treated as `np.float64 == np.dtype(float).type`.\n",
      "  from ._conv import register_converters as _register_converters\n",
      "Using TensorFlow backend.\n"
     ]
    }
   ],
   "source": [
    "from keras.preprocessing.image import ImageDataGenerator\n",
    "from keras.models import Sequential\n",
    "from keras.layers import *\n",
    "import time\n",
    "from sklearn.metrics import confusion_matrix \n",
    "import matplotlib.pyplot as plt"
   ]
  },
  {
   "cell_type": "markdown",
   "metadata": {},
   "source": [
    "Acá lo que se hace es generar un conjunto de pruebas, entrenamiento (y tambien de validacion por consiguiente) para nuestra red de coonvolucion calculando la cantidad de clases para cada conjuntos"
   ]
  },
  {
   "cell_type": "code",
   "execution_count": 2,
   "metadata": {},
   "outputs": [
    {
     "name": "stdout",
     "output_type": "stream",
     "text": [
      "Found 2400 images belonging to 3 classes.\n",
      "Found 600 images belonging to 3 classes.\n"
     ]
    }
   ],
   "source": [
    "train_datagen = ImageDataGenerator(\n",
    "        rescale=1./255,\n",
    "        shear_range=0.2,\n",
    "        zoom_range=0.2,\n",
    "        horizontal_flip=True)\n",
    "test_datagen = ImageDataGenerator(rescale=1./255) #no transformation\n",
    "train_generator = train_datagen.flow_from_directory(\n",
    "        'food_data/train',\n",
    "        target_size=(150, 150),\n",
    "        color_mode='rgb',\n",
    "        batch_size=32)\n",
    "validation_generator = test_datagen.flow_from_directory(\n",
    "        'food_data/val',\n",
    "        target_size=(150, 150),\n",
    "        color_mode='rgb',\n",
    "        batch_size=32)"
   ]
  },
  {
   "cell_type": "markdown",
   "metadata": {},
   "source": [
    "trujulear para ver que clases son y describir los parametros"
   ]
  },
  {
   "cell_type": "markdown",
   "metadata": {},
   "source": [
    "> b) Utilice la red tradicional (*Feed Forward*) entregada en el código para ser entrenada sobre los datos vectorizados, esto es que cada imagen queda representada como un vector gigante, y las 3 clases a las que se enfrenta. Evalúe el modelo con la métrica *accuracy* sobre el conjunto de validación."
   ]
  },
  {
   "cell_type": "raw",
   "metadata": {},
   "source": [
    "- Explicar lo que hace la red (inserte explicacion generica)"
   ]
  },
  {
   "cell_type": "code",
   "execution_count": 3,
   "metadata": {},
   "outputs": [
    {
     "name": "stdout",
     "output_type": "stream",
     "text": [
      "_________________________________________________________________\n",
      "Layer (type)                 Output Shape              Param #   \n",
      "=================================================================\n",
      "flatten_1 (Flatten)          (None, 67500)             0         \n",
      "_________________________________________________________________\n",
      "batch_normalization_1 (Batch (None, 67500)             270000    \n",
      "_________________________________________________________________\n",
      "dense_1 (Dense)              (None, 256)               17280256  \n",
      "_________________________________________________________________\n",
      "dropout_1 (Dropout)          (None, 256)               0         \n",
      "_________________________________________________________________\n",
      "dense_2 (Dense)              (None, 128)               32896     \n",
      "_________________________________________________________________\n",
      "dropout_2 (Dropout)          (None, 128)               0         \n",
      "_________________________________________________________________\n",
      "dense_3 (Dense)              (None, 3)                 387       \n",
      "=================================================================\n",
      "Total params: 17,583,539\n",
      "Trainable params: 17,448,539\n",
      "Non-trainable params: 135,000\n",
      "_________________________________________________________________\n",
      "Epoch 1/25\n",
      "75/75 [==============================] - 44s 590ms/step - loss: 9.4416 - acc: 0.3975 - val_loss: 8.9540 - val_acc: 0.4358\n",
      "Epoch 2/25\n",
      "75/75 [==============================] - 43s 575ms/step - loss: 9.0468 - acc: 0.4312 - val_loss: 8.5424 - val_acc: 0.4595\n",
      "Epoch 3/25\n",
      "75/75 [==============================] - 44s 592ms/step - loss: 8.3673 - acc: 0.4733 - val_loss: 8.9606 - val_acc: 0.4401\n",
      "Epoch 4/25\n",
      "75/75 [==============================] - 44s 591ms/step - loss: 8.3857 - acc: 0.4754 - val_loss: 8.0759 - val_acc: 0.4965\n",
      "Epoch 5/25\n",
      "75/75 [==============================] - 44s 580ms/step - loss: 8.5189 - acc: 0.4675 - val_loss: 8.9476 - val_acc: 0.4349\n",
      "Epoch 6/25\n",
      "75/75 [==============================] - 44s 591ms/step - loss: 8.1666 - acc: 0.4904 - val_loss: 8.1037 - val_acc: 0.4965\n",
      "Epoch 7/25\n",
      "75/75 [==============================] - 49s 654ms/step - loss: 7.9972 - acc: 0.5004 - val_loss: 8.6979 - val_acc: 0.4595\n",
      "Epoch 8/25\n",
      "75/75 [==============================] - 48s 638ms/step - loss: 7.8317 - acc: 0.5100 - val_loss: 8.7188 - val_acc: 0.4577\n",
      "Epoch 9/25\n",
      "75/75 [==============================] - 50s 661ms/step - loss: 8.2863 - acc: 0.4833 - val_loss: 7.9782 - val_acc: 0.4982\n",
      "Epoch 10/25\n",
      "75/75 [==============================] - 48s 644ms/step - loss: 8.2687 - acc: 0.4842 - val_loss: 8.4438 - val_acc: 0.4665\n",
      "Epoch 11/25\n",
      "75/75 [==============================] - 48s 638ms/step - loss: 7.9769 - acc: 0.5025 - val_loss: 8.7410 - val_acc: 0.4577\n",
      "Epoch 12/25\n",
      "75/75 [==============================] - 47s 626ms/step - loss: 7.8038 - acc: 0.5138 - val_loss: 8.1156 - val_acc: 0.4947\n",
      "Epoch 13/25\n",
      "75/75 [==============================] - 48s 639ms/step - loss: 7.8854 - acc: 0.5092 - val_loss: 8.1172 - val_acc: 0.4947\n",
      "Epoch 14/25\n",
      "75/75 [==============================] - 50s 668ms/step - loss: 8.2459 - acc: 0.4867 - val_loss: 8.4388 - val_acc: 0.4754\n",
      "Epoch 15/25\n",
      "75/75 [==============================] - 50s 665ms/step - loss: 8.0106 - acc: 0.5017 - val_loss: 8.1887 - val_acc: 0.4894\n",
      "Epoch 16/25\n",
      "75/75 [==============================] - 55s 728ms/step - loss: 7.9292 - acc: 0.5042 - val_loss: 8.5960 - val_acc: 0.4648\n",
      "Epoch 17/25\n",
      "75/75 [==============================] - 52s 692ms/step - loss: 8.0487 - acc: 0.4988 - val_loss: 8.7685 - val_acc: 0.4560\n",
      "Epoch 18/25\n",
      "75/75 [==============================] - 53s 710ms/step - loss: 8.0685 - acc: 0.4971 - val_loss: 8.6649 - val_acc: 0.4613\n",
      "Epoch 19/25\n",
      "75/75 [==============================] - 49s 658ms/step - loss: 8.4037 - acc: 0.4758 - val_loss: 8.7602 - val_acc: 0.4560\n",
      "Epoch 20/25\n",
      "75/75 [==============================] - 50s 663ms/step - loss: 8.1672 - acc: 0.4913 - val_loss: 8.5767 - val_acc: 0.4653\n",
      "Epoch 21/25\n",
      "75/75 [==============================] - 50s 670ms/step - loss: 8.3868 - acc: 0.4783 - val_loss: 8.6366 - val_acc: 0.4630\n",
      "Epoch 22/25\n",
      "75/75 [==============================] - 52s 698ms/step - loss: 8.4761 - acc: 0.4725 - val_loss: 8.7693 - val_acc: 0.4560\n",
      "Epoch 23/25\n",
      "75/75 [==============================] - 51s 685ms/step - loss: 8.5478 - acc: 0.4683 - val_loss: 8.5982 - val_acc: 0.4665\n",
      "Epoch 24/25\n",
      "75/75 [==============================] - 53s 700ms/step - loss: 8.2892 - acc: 0.4850 - val_loss: 8.7253 - val_acc: 0.4560\n",
      "Epoch 25/25\n",
      "75/75 [==============================] - 46s 613ms/step - loss: 8.2398 - acc: 0.4879 - val_loss: 8.0618 - val_acc: 0.4982\n",
      "Accuracy validation:  0.5\n",
      "Accuracy validation:  0.578125\n",
      "Accuracy validation:  0.5729166666666666\n",
      "Accuracy validation:  0.4765625\n",
      "Accuracy validation:  0.5125\n",
      "Accuracy validation:  0.4945652186870575\n",
      "Accuracy validation:  0.5535714285714286\n",
      "Accuracy validation:  0.4475806461226556\n",
      "Accuracy validation:  0.4861111111111111\n",
      "Accuracy validation:  0.4935897428255815\n",
      "Accuracy validation:  0.5056818181818182\n",
      "Accuracy validation:  0.48138297745522035\n",
      "Accuracy validation:  0.49754901960784315\n",
      "Accuracy validation:  0.5\n",
      "Accuracy validation:  0.5104166666666666\n",
      "Accuracy validation:  0.48412698412698413\n",
      "Accuracy validation:  0.47947761194029853\n",
      "Accuracy validation:  0.5105633811211922\n",
      "Accuracy validation:  0.48666666706403094\n",
      "Accuracy validation:  0.5047468350657934\n",
      "Accuracy validation:  0.49548192699271515\n",
      "Accuracy validation:  0.48563218390804597\n",
      "Accuracy validation:  0.4917582411032457\n",
      "Accuracy validation:  0.5289473687347613\n",
      "Accuracy validation:  0.4872448979591837\n",
      "Accuracy validation:  0.5024271844660194\n",
      "Accuracy validation:  0.48820754801327326\n",
      "Accuracy validation:  0.48536036009187095\n",
      "Accuracy validation:  0.5120614037701958\n",
      "Accuracy validation:  0.4842436974789916\n",
      "Accuracy validation:  0.5040983611443004\n",
      "Accuracy validation:  0.48908730158730157\n",
      "Accuracy validation:  0.49904580198171483\n",
      "Accuracy validation:  0.4944444440029286\n",
      "Accuracy validation:  0.5045289855072463\n",
      "Accuracy validation:  0.49735915450982643\n",
      "Accuracy validation:  0.4957191782863173\n",
      "Accuracy validation:  0.501666667064031\n",
      "Accuracy validation:  0.4894480523350951\n",
      "Accuracy validation:  0.4952531651228289\n",
      "Accuracy validation:  0.4922839508012489\n",
      "Accuracy validation:  0.4984939760831465\n",
      "Accuracy validation:  0.5051470595247606\n",
      "Accuracy validation:  0.49277456647398843\n",
      "Accuracy validation:  0.49719101123595505\n",
      "Accuracy validation:  0.4965469616552743\n",
      "Accuracy validation:  0.49327956973224557\n",
      "Accuracy validation:  0.4966931216931217\n",
      "Accuracy validation:  0.4948453608247423\n",
      "Accuracy validation:  0.4942893402528037\n",
      "Wall time: 23min 33s\n"
     ]
    }
   ],
   "source": [
    "%%time\n",
    "ltime=[]\n",
    "step = []\n",
    "error = []\n",
    "best = 99.9\n",
    "best_step = 0\n",
    "model = Sequential()\n",
    "model.add(Flatten(input_shape=train_generator.image_shape)) #full dense\n",
    "model.add(BatchNormalization()) #to normalize the input..\n",
    "model.add(Dense(256,activation='relu'))\n",
    "model.add(Dropout(0.25))\n",
    "model.add(Dense(128,activation='relu')) #128\n",
    "model.add(Dropout(0.25))\n",
    "model.add(Dense(3,activation='softmax'))\n",
    "model.compile(loss='categorical_crossentropy', optimizer='rmsprop', metrics=['accuracy']) # Let's train the model using RMSprop\n",
    "model.summary()\n",
    "model.fit_generator(\n",
    "        train_generator,\n",
    "        steps_per_epoch=len(train_generator.classes)//train_generator.batch_size, #samples//batch_size\n",
    "        epochs=25,\n",
    "        validation_data=validation_generator,\n",
    "        validation_steps=len(validation_generator.classes)//validation_generator.batch_size)\n",
    "for i in range(50):\n",
    "    error.append(model.evaluate_generator(generator=validation_generator,steps = (i+1))[1])#probar algo distinto de 2\n",
    "    print(\"Accuracy validation: \",error[i])\n",
    "    end = time.time()\n",
    "    step.append(i+1)\n",
    "    if error[i]<best:\n",
    "        best = error[i]\n",
    "        best_step = i+1"
   ]
  },
  {
   "cell_type": "markdown",
   "metadata": {},
   "source": [
    "Aquí se varío el parametro Step que corresponde al número de pasos a realizar en nuestra red neuronal feed foward y se graficó la presición con respecto a los pasos utilizados."
   ]
  },
  {
   "cell_type": "markdown",
   "metadata": {},
   "source": [
    "\n"
   ]
  },
  {
   "cell_type": "code",
   "execution_count": 4,
   "metadata": {},
   "outputs": [
    {
     "data": {
      "text/plain": [
       "[<matplotlib.lines.Line2D at 0x24fa4ffea58>]"
      ]
     },
     "execution_count": 4,
     "metadata": {},
     "output_type": "execute_result"
    },
    {
     "data": {
      "image/png": "[encoded data removed]",
      "text/plain": [
       "<Figure size 432x288 with 1 Axes>"
      ]
     },
     "metadata": {},
     "output_type": "display_data"
    }
   ],
   "source": [
    "plt.plot(step,error)"
   ]
  },
  {
   "cell_type": "markdown",
   "metadata": {},
   "source": [
    "la probabilidad converge a 50 es rara, ver pq . estudiar la composición"
   ]
  },
  {
   "cell_type": "markdown",
   "metadata": {},
   "source": [
    "> c) Utilice la red convolucional (**CNN**) entregada en el código para ser entrenada sobre los datos brutos, matrices RGB de píxeles, y las 3 clases a las que se enfrenta. Evalúe el modelo con la métrica *accuracy* sobre el conjunto de validación. Compare."
   ]
  },
  {
   "cell_type": "code",
   "execution_count": 6,
   "metadata": {},
   "outputs": [
    {
     "name": "stdout",
     "output_type": "stream",
     "text": [
      "_________________________________________________________________\n",
      "Layer (type)                 Output Shape              Param #   \n",
      "=================================================================\n",
      "conv2d_1 (Conv2D)            (None, 150, 150, 32)      896       \n",
      "_________________________________________________________________\n",
      "conv2d_2 (Conv2D)            (None, 148, 148, 32)      9248      \n",
      "_________________________________________________________________\n",
      "max_pooling2d_1 (MaxPooling2 (None, 74, 74, 32)        0         \n",
      "_________________________________________________________________\n",
      "dropout_5 (Dropout)          (None, 74, 74, 32)        0         \n",
      "_________________________________________________________________\n",
      "conv2d_3 (Conv2D)            (None, 74, 74, 64)        18496     \n",
      "_________________________________________________________________\n",
      "conv2d_4 (Conv2D)            (None, 72, 72, 64)        36928     \n",
      "_________________________________________________________________\n",
      "max_pooling2d_2 (MaxPooling2 (None, 36, 36, 64)        0         \n",
      "_________________________________________________________________\n",
      "dropout_6 (Dropout)          (None, 36, 36, 64)        0         \n",
      "_________________________________________________________________\n",
      "flatten_3 (Flatten)          (None, 82944)             0         \n",
      "_________________________________________________________________\n",
      "dense_7 (Dense)              (None, 128)               10616960  \n",
      "_________________________________________________________________\n",
      "dropout_7 (Dropout)          (None, 128)               0         \n",
      "_________________________________________________________________\n",
      "dense_8 (Dense)              (None, 3)                 387       \n",
      "=================================================================\n",
      "Total params: 10,682,915\n",
      "Trainable params: 10,682,915\n",
      "Non-trainable params: 0\n",
      "_________________________________________________________________\n",
      "Epoch 1/25\n",
      "75/75 [==============================] - 304s 4s/step - loss: 1.2018 - acc: 0.3371 - val_loss: 1.0724 - val_acc: 0.3574\n",
      "Epoch 2/25\n",
      "75/75 [==============================] - 300s 4s/step - loss: 1.0706 - acc: 0.4333 - val_loss: 1.0528 - val_acc: 0.4824\n",
      "Epoch 3/25\n",
      "75/75 [==============================] - 305s 4s/step - loss: 1.0631 - acc: 0.4658 - val_loss: 1.0297 - val_acc: 0.5106\n",
      "Epoch 4/25\n",
      "75/75 [==============================] - 302s 4s/step - loss: 1.0394 - acc: 0.5004 - val_loss: 0.9485 - val_acc: 0.5528\n",
      "Epoch 5/25\n",
      "75/75 [==============================] - 303s 4s/step - loss: 1.0139 - acc: 0.5179 - val_loss: 0.9097 - val_acc: 0.5951\n",
      "Epoch 6/25\n",
      "75/75 [==============================] - 305s 4s/step - loss: 0.9630 - acc: 0.5625 - val_loss: 0.8675 - val_acc: 0.6408\n",
      "Epoch 7/25\n",
      "75/75 [==============================] - 305s 4s/step - loss: 0.9060 - acc: 0.5842 - val_loss: 1.2759 - val_acc: 0.4789\n",
      "Epoch 8/25\n",
      "75/75 [==============================] - 305s 4s/step - loss: 0.8747 - acc: 0.6025 - val_loss: 0.7608 - val_acc: 0.6972\n",
      "Epoch 9/25\n",
      "75/75 [==============================] - 305s 4s/step - loss: 0.8390 - acc: 0.6304 - val_loss: 0.9766 - val_acc: 0.5440\n",
      "Epoch 10/25\n",
      "75/75 [==============================] - 303s 4s/step - loss: 0.8233 - acc: 0.6433 - val_loss: 0.7943 - val_acc: 0.6320\n",
      "Epoch 11/25\n",
      "75/75 [==============================] - 306s 4s/step - loss: 0.7973 - acc: 0.6604 - val_loss: 0.7731 - val_acc: 0.6655\n",
      "Epoch 12/25\n",
      "75/75 [==============================] - 305s 4s/step - loss: 0.7576 - acc: 0.6754 - val_loss: 0.7147 - val_acc: 0.7165\n",
      "Epoch 13/25\n",
      "75/75 [==============================] - 306s 4s/step - loss: 0.7399 - acc: 0.6871 - val_loss: 0.7468 - val_acc: 0.6725\n",
      "Epoch 14/25\n",
      "75/75 [==============================] - 307s 4s/step - loss: 0.7161 - acc: 0.7017 - val_loss: 0.7884 - val_acc: 0.6354\n",
      "Epoch 15/25\n",
      "75/75 [==============================] - 305s 4s/step - loss: 0.7261 - acc: 0.6967 - val_loss: 0.6934 - val_acc: 0.6989\n",
      "Epoch 16/25\n",
      "75/75 [==============================] - 307s 4s/step - loss: 0.6717 - acc: 0.7175 - val_loss: 0.6682 - val_acc: 0.7271\n",
      "Epoch 17/25\n",
      "75/75 [==============================] - 307s 4s/step - loss: 0.6911 - acc: 0.7100 - val_loss: 0.6893 - val_acc: 0.6937\n",
      "Epoch 18/25\n",
      "75/75 [==============================] - 306s 4s/step - loss: 0.6518 - acc: 0.7296 - val_loss: 0.7503 - val_acc: 0.6849\n",
      "Epoch 19/25\n",
      "75/75 [==============================] - 307s 4s/step - loss: 0.6649 - acc: 0.7283 - val_loss: 0.8143 - val_acc: 0.6144\n",
      "Epoch 20/25\n",
      "75/75 [==============================] - 308s 4s/step - loss: 0.6266 - acc: 0.7446 - val_loss: 0.7336 - val_acc: 0.6743\n",
      "Epoch 21/25\n",
      "75/75 [==============================] - 306s 4s/step - loss: 0.6400 - acc: 0.7450 - val_loss: 0.8026 - val_acc: 0.6549\n",
      "Epoch 22/25\n",
      "75/75 [==============================] - 304s 4s/step - loss: 0.6278 - acc: 0.7517 - val_loss: 0.7042 - val_acc: 0.7130\n",
      "Epoch 23/25\n",
      "75/75 [==============================] - 306s 4s/step - loss: 0.6266 - acc: 0.7546 - val_loss: 0.6672 - val_acc: 0.6954\n",
      "Epoch 24/25\n",
      "75/75 [==============================] - 306s 4s/step - loss: 0.6164 - acc: 0.7537 - val_loss: 0.6930 - val_acc: 0.7306\n",
      "Epoch 25/25\n",
      "75/75 [==============================] - 308s 4s/step - loss: 0.6209 - acc: 0.7488 - val_loss: 0.6330 - val_acc: 0.7518\n"
     ]
    },
    {
     "data": {
      "text/plain": [
       "<keras.callbacks.History at 0x24fa5a61438>"
      ]
     },
     "execution_count": 6,
     "metadata": {},
     "output_type": "execute_result"
    }
   ],
   "source": [
    "model = Sequential()\n",
    "model.add(Conv2D(32, (3, 3), padding='same',input_shape=train_generator.image_shape,activation='relu'))\n",
    "model.add(Conv2D(32, (3, 3),activation='relu'))\n",
    "model.add(MaxPool2D(pool_size=(2, 2)))\n",
    "model.add(Dropout(0.25))\n",
    "model.add(Conv2D(64, (3, 3), padding='same',activation='relu'))\n",
    "model.add(Conv2D(64, (3, 3),activation='relu'))\n",
    "model.add(MaxPool2D(pool_size=(2, 2)))\n",
    "model.add(Dropout(0.25))\n",
    "model.add(Flatten())\n",
    "model.add(Dense(128,activation='relu'))\n",
    "model.add(Dropout(0.5)) \n",
    "model.add(Dense(len(train_generator.class_indices),activation='softmax'))\n",
    "model.compile(loss='categorical_crossentropy', optimizer='rmsprop', metrics=['accuracy']) # Let's train the model using RMSprop\n",
    "model.summary()\n",
    "model.fit_generator(\n",
    "        train_generator,\n",
    "        steps_per_epoch=len(train_generator.classes)//train_generator.batch_size, #samples//batch_size\n",
    "        epochs=25,\n",
    "        validation_data=validation_generator,\n",
    "        validation_steps=len(validation_generator.classes)//validation_generator.batch_size)"
   ]
  },
  {
   "cell_type": "markdown",
   "metadata": {},
   "source": [
    "> d) Genere un conjunto datos con incorrecta etiquetación de manera manual y vea si el modelo convolucional se sigue comportando de la misma manera. Para esto tome 100 imágenes aleatorias de entrenamiento de la carpeta *hot dog* y 100 imágenes aleatorias de entrenamiento de la carpeta *hamburger* e intercambielas, sin manipular las imágenes de la carpeta *pizza* y con el conjunto de validación intacto. Genere las matrices de confusión en el conjunto de validación para visualizar cómo afectó al modelo la corrupción realizada a los datos."
   ]
  },
  {
   "cell_type": "code",
   "execution_count": 7,
   "metadata": {},
   "outputs": [],
   "source": [
    "Y_pred = model.predict_generator(validation_generator,len(validation_generator.classes)//validation_generator.batch_size+1)\n",
    "y_pred = np.argmax(Y_pred, axis=1)\n",
    "confusion_matrix = confusion_matrix(validation_generator.classes, y_pred)"
   ]
  },
  {
   "cell_type": "code",
   "execution_count": 8,
   "metadata": {},
   "outputs": [
    {
     "name": "stdout",
     "output_type": "stream",
     "text": [
      "[[59 65 76]\n",
      " [74 51 75]\n",
      " [56 73 71]]\n"
     ]
    }
   ],
   "source": [
    "print(confusion_matrix)"
   ]
  },
  {
   "cell_type": "code",
   "execution_count": null,
   "metadata": {},
   "outputs": [],
   "source": []
  }
 ],
 "metadata": {
  "kernelspec": {
   "display_name": "Python 3",
   "language": "python",
   "name": "python3"
  },
  "language_info": {
   "codemirror_mode": {
    "name": "ipython",
    "version": 3
   },
   "file_extension": ".py",
   "mimetype": "text/x-python",
   "name": "python",
   "nbconvert_exporter": "python",
   "pygments_lexer": "ipython3",
   "version": "3.6.5"
  }
 },
 "nbformat": 4,
 "nbformat_minor": 2
}
