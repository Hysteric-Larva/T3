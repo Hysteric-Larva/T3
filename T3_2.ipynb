{
 "cells": [
  {
   "cell_type": "markdown",
   "metadata": {},
   "source": [
    "## 2. Redes Convolucionales sobre imágenes\n",
    "---\n",
    "Las redes neuronales hoy en día han sido extendidas a numerosas aplicaciones gracias a la arquitectura definida para cada tipo de problema. Las redes neuronales que aplican la operación de convolución [[3]](#refs) o convoluciones en sus capas son concidas como *CNN* o *ConvNets*, lo cual se especializa en trabajar en datos con forma matricial (ya sea bi-dimensional o tri-dimensional), lo cual se adecúa perfectamente a imágenes (matrices), ya que gracias a su conectividad local se especializan en reconocer patrones sobre los datos de manera espacial, como refleja la siguiente imagen:\n",
    "\n",
    "<img src=\"https://cdn-images-1.medium.com/max/1600/1*N4h1SgwbWNmtrRhszM9EJg.png\" title=\"Title text\" width=\"90%\" />\n",
    "\n",
    "\n",
    "En esta actividad trabajará con un extracto bastante pequeño del dataset conocido como **101-Food**[[4]](#refs), el cual consta de mil imágenes pertenecientes a 3 clases (*Hambuger, Hot Dog* y *Pizza*) separados en conjunto de entrenamiento y validación.  \n",
    "El extracto pequeño del dataset con el que se trabajará deberá ser descargado del siguiente __[link](https://www.dropbox.com/s/56xqazmhbh0doi7/food_data.zip?dl=0)__ a través de Dropbox."
   ]
  },
  {
   "cell_type": "markdown",
   "metadata": {},
   "source": [
    "> a) Construya funciones para leer los datos y cargarlos al momento de entrenar (durante cada *epoch*), para ésto utilice *Image Data Generator* de keras."
   ]
  },
  {
   "cell_type": "code",
   "execution_count": 1,
   "metadata": {},
   "outputs": [
    {
     "name": "stderr",
     "output_type": "stream",
     "text": [
      "C:\\Users\\kzep\\Anaconda3\\lib\\site-packages\\h5py\\__init__.py:36: FutureWarning: Conversion of the second argument of issubdtype from `float` to `np.floating` is deprecated. In future, it will be treated as `np.float64 == np.dtype(float).type`.\n",
      "  from ._conv import register_converters as _register_converters\n",
      "Using TensorFlow backend.\n"
     ]
    }
   ],
   "source": [
    "from keras.preprocessing.image import ImageDataGenerator\n",
    "from keras.models import Sequential\n",
    "from keras.layers import *\n",
    "import time\n",
    "from sklearn.metrics import confusion_matrix \n",
    "import matplotlib.pyplot as plt"
   ]
  },
  {
   "cell_type": "code",
   "execution_count": 2,
   "metadata": {},
   "outputs": [
    {
     "name": "stdout",
     "output_type": "stream",
     "text": [
      "Found 2400 images belonging to 3 classes.\n",
      "Found 600 images belonging to 3 classes.\n"
     ]
    }
   ],
   "source": [
    "\n",
    "train_datagen = ImageDataGenerator(\n",
    "        rescale=1./255,\n",
    "        shear_range=0.2,\n",
    "        zoom_range=0.2,\n",
    "        horizontal_flip=True)\n",
    "test_datagen = ImageDataGenerator(rescale=1./255) #no transformation\n",
    "train_generator = train_datagen.flow_from_directory(\n",
    "        'food_data/train',\n",
    "        target_size=(150, 150),\n",
    "        color_mode='rgb',\n",
    "        batch_size=32)\n",
    "validation_generator = test_datagen.flow_from_directory(\n",
    "        'food_data/val',\n",
    "        target_size=(150, 150),\n",
    "        color_mode='rgb',\n",
    "        batch_size=32)"
   ]
  },
  {
   "cell_type": "markdown",
   "metadata": {},
   "source": [
    "> b) Utilice la red tradicional (*Feed Forward*) entregada en el código para ser entrenada sobre los datos vectorizados, esto es que cada imagen queda representada como un vector gigante, y las 3 clases a las que se enfrenta. Evalúe el modelo con la métrica *accuracy* sobre el conjunto de validación."
   ]
  },
  {
   "cell_type": "code",
   "execution_count": 9,
   "metadata": {},
   "outputs": [
    {
     "name": "stdout",
     "output_type": "stream",
     "text": [
      "_________________________________________________________________\n",
      "Layer (type)                 Output Shape              Param #   \n",
      "=================================================================\n",
      "flatten_3 (Flatten)          (None, 67500)             0         \n",
      "_________________________________________________________________\n",
      "batch_normalization_2 (Batch (None, 67500)             270000    \n",
      "_________________________________________________________________\n",
      "dense_6 (Dense)              (None, 256)               17280256  \n",
      "_________________________________________________________________\n",
      "dropout_6 (Dropout)          (None, 256)               0         \n",
      "_________________________________________________________________\n",
      "dense_7 (Dense)              (None, 128)               32896     \n",
      "_________________________________________________________________\n",
      "dropout_7 (Dropout)          (None, 128)               0         \n",
      "_________________________________________________________________\n",
      "dense_8 (Dense)              (None, 3)                 387       \n",
      "=================================================================\n",
      "Total params: 17,583,539\n",
      "Trainable params: 17,448,539\n",
      "Non-trainable params: 135,000\n",
      "_________________________________________________________________\n",
      "Epoch 1/25\n",
      "75/75 [==============================] - 42s 560ms/step - loss: 9.0165 - acc: 0.4200 - val_loss: 9.9272 - val_acc: 0.3750\n",
      "Epoch 2/25\n",
      "75/75 [==============================] - 44s 581ms/step - loss: 8.8936 - acc: 0.4404 - val_loss: 9.2271 - val_acc: 0.4173\n",
      "Epoch 3/25\n",
      "75/75 [==============================] - 44s 583ms/step - loss: 8.8563 - acc: 0.4429 - val_loss: 8.6810 - val_acc: 0.4613\n",
      "Epoch 4/25\n",
      "75/75 [==============================] - 44s 584ms/step - loss: 8.3270 - acc: 0.4787 - val_loss: 8.3248 - val_acc: 0.4771\n",
      "Epoch 5/25\n",
      "75/75 [==============================] - 44s 589ms/step - loss: 8.8727 - acc: 0.4450 - val_loss: 8.3957 - val_acc: 0.4789\n",
      "Epoch 6/25\n",
      "75/75 [==============================] - 45s 595ms/step - loss: 8.7562 - acc: 0.4521 - val_loss: 8.7951 - val_acc: 0.4525\n",
      "Epoch 7/25\n",
      "75/75 [==============================] - 46s 611ms/step - loss: 8.7778 - acc: 0.4517 - val_loss: 8.3956 - val_acc: 0.4705\n",
      "Epoch 8/25\n",
      "75/75 [==============================] - 45s 598ms/step - loss: 8.4044 - acc: 0.4750 - val_loss: 9.0657 - val_acc: 0.4331\n",
      "Epoch 9/25\n",
      "75/75 [==============================] - 45s 600ms/step - loss: 8.4952 - acc: 0.4679 - val_loss: 8.3810 - val_acc: 0.4754\n",
      "Epoch 10/25\n",
      "75/75 [==============================] - 45s 606ms/step - loss: 8.7587 - acc: 0.4537 - val_loss: 8.6997 - val_acc: 0.4577\n",
      "Epoch 11/25\n",
      "75/75 [==============================] - 49s 653ms/step - loss: 8.4474 - acc: 0.4742 - val_loss: 8.5883 - val_acc: 0.4648\n",
      "Epoch 12/25\n",
      "75/75 [==============================] - 49s 655ms/step - loss: 8.6161 - acc: 0.4633 - val_loss: 9.0615 - val_acc: 0.4349\n",
      "Epoch 13/25\n",
      "75/75 [==============================] - 50s 667ms/step - loss: 8.1847 - acc: 0.4908 - val_loss: 8.2232 - val_acc: 0.4842\n",
      "Epoch 14/25\n",
      "75/75 [==============================] - 53s 703ms/step - loss: 8.2852 - acc: 0.4833 - val_loss: 8.6250 - val_acc: 0.4613\n",
      "Epoch 15/25\n",
      "75/75 [==============================] - 55s 732ms/step - loss: 8.3524 - acc: 0.4792 - val_loss: 9.0218 - val_acc: 0.4384\n",
      "Epoch 16/25\n",
      "75/75 [==============================] - 50s 673ms/step - loss: 8.1962 - acc: 0.4883 - val_loss: 8.8654 - val_acc: 0.4437\n",
      "Epoch 17/25\n",
      "75/75 [==============================] - 44s 585ms/step - loss: 8.2880 - acc: 0.4842 - val_loss: 9.1964 - val_acc: 0.4278\n",
      "Epoch 18/25\n",
      "75/75 [==============================] - 45s 601ms/step - loss: 8.0653 - acc: 0.4971 - val_loss: 8.9531 - val_acc: 0.4401\n",
      "Epoch 19/25\n",
      "75/75 [==============================] - 46s 615ms/step - loss: 8.3549 - acc: 0.4787 - val_loss: 8.7160 - val_acc: 0.4577\n",
      "Epoch 20/25\n",
      "75/75 [==============================] - 47s 625ms/step - loss: 8.1400 - acc: 0.4937 - val_loss: 8.9879 - val_acc: 0.4419\n",
      "Epoch 21/25\n",
      "75/75 [==============================] - 47s 630ms/step - loss: 8.3030 - acc: 0.4829 - val_loss: 8.5704 - val_acc: 0.4683\n",
      "Epoch 22/25\n",
      "75/75 [==============================] - 45s 594ms/step - loss: 7.7128 - acc: 0.5187 - val_loss: 8.3429 - val_acc: 0.4824\n",
      "Epoch 23/25\n",
      "75/75 [==============================] - 44s 592ms/step - loss: 7.9180 - acc: 0.5083 - val_loss: 8.1702 - val_acc: 0.4930\n",
      "Epoch 24/25\n",
      "75/75 [==============================] - 45s 595ms/step - loss: 7.6113 - acc: 0.5246 - val_loss: 8.1190 - val_acc: 0.4947\n",
      "Epoch 25/25\n",
      "75/75 [==============================] - 44s 586ms/step - loss: 7.9006 - acc: 0.5079 - val_loss: 8.4261 - val_acc: 0.4771\n",
      "Accuracy validation:  0.4375\n",
      "Accuracy validation:  0.515625\n",
      "Accuracy validation:  0.4166666666666667\n",
      "Accuracy validation:  0.5078125\n",
      "Accuracy validation:  0.5723684210526315\n",
      "Accuracy validation:  0.484375\n",
      "Accuracy validation:  0.45535714285714285\n",
      "Accuracy validation:  0.47983871160014985\n",
      "Accuracy validation:  0.5104166666666666\n",
      "Accuracy validation:  0.47756410179994047\n",
      "Accuracy validation:  0.49709302325581395\n",
      "Accuracy validation:  0.4739583333333333\n",
      "Accuracy validation:  0.49264705823917015\n",
      "Accuracy validation:  0.4568181829019026\n",
      "Accuracy validation:  0.5042372881355932\n",
      "Accuracy validation:  0.48809523904134355\n",
      "Accuracy validation:  0.47794117647058826\n",
      "Accuracy validation:  0.4878472222222222\n",
      "Accuracy validation:  0.4833333325386047\n",
      "Accuracy validation:  0.47310126657727397\n",
      "Accuracy validation:  0.4879518075879798\n",
      "Accuracy validation:  0.477011494595429\n",
      "Accuracy validation:  0.4835164831889855\n",
      "Accuracy validation:  0.4787234045723651\n",
      "Accuracy validation:  0.49242424212320884\n",
      "Accuracy validation:  0.4842233009708738\n",
      "Accuracy validation:  0.4976415085905003\n",
      "Accuracy validation:  0.46283783783783783\n",
      "Accuracy validation:  0.47478070070869044\n",
      "Accuracy validation:  0.4957627118644068\n",
      "Accuracy validation:  0.48678861764388354\n",
      "Accuracy validation:  0.47321428618733846\n",
      "Accuracy validation:  0.5019230773815742\n",
      "Accuracy validation:  0.4869402987298681\n",
      "Accuracy validation:  0.47826086999713513\n",
      "Accuracy validation:  0.48339160860001623\n",
      "Accuracy validation:  0.48299319727891155\n",
      "Accuracy validation:  0.4833333331346512\n",
      "Accuracy validation:  0.4829545458415886\n",
      "Accuracy validation:  0.4810126584164704\n",
      "Accuracy validation:  0.49614197530864196\n",
      "Accuracy validation:  0.47665662722415236\n",
      "Accuracy validation:  0.4822485208864043\n",
      "Accuracy validation:  0.489942528221799\n",
      "Accuracy validation:  0.4845505619651816\n",
      "Accuracy validation:  0.4758287294464217\n",
      "Accuracy validation:  0.4899193543580271\n",
      "Accuracy validation:  0.47949735465503873\n",
      "Accuracy validation:  0.48575129518237137\n",
      "Accuracy validation:  0.48547979797979796\n",
      "Wall time: 22min 48s\n"
     ]
    }
   ],
   "source": [
    "%%time\n",
    "ltime=[]\n",
    "step = []\n",
    "error = []\n",
    "model = Sequential()\n",
    "model.add(Flatten(input_shape=train_generator.image_shape)) #full dense\n",
    "model.add(BatchNormalization()) #to normalize the input..\n",
    "model.add(Dense(256,activation='relu'))\n",
    "model.add(Dropout(0.25))\n",
    "model.add(Dense(128,activation='relu')) #128\n",
    "model.add(Dropout(0.25))\n",
    "model.add(Dense(3,activation='softmax'))\n",
    "model.compile(loss='categorical_crossentropy', optimizer='rmsprop', metrics=['accuracy']) # Let's train the model using RMSprop\n",
    "model.summary()\n",
    "model.fit_generator(\n",
    "        train_generator,\n",
    "        steps_per_epoch=len(train_generator.classes)//train_generator.batch_size, #samples//batch_size\n",
    "        epochs=25,\n",
    "        validation_data=validation_generator,\n",
    "        validation_steps=len(validation_generator.classes)//validation_generator.batch_size)\n",
    "for i in range(50):\n",
    "    error.append(model.evaluate_generator(generator=validation_generator,steps = i+1)[1])#probar algo distinto de 2\n",
    "    print(\"Accuracy validation: \",error[i])\n",
    "    end = time.time()\n",
    "    step.append(i)"
   ]
  },
  {
   "cell_type": "markdown",
   "metadata": {},
   "source": [
    "Con fines personales:\n",
    "\n",
    "steps 1 - Acuraccy 0.41666666\n",
    "\n",
    "Steps 2 - Acuraccy 0.484375\n",
    "\n",
    "Steps 3. Accuracy 0.4375\n",
    "\n",
    "Steps 4 - Accuracy 0.484375\n",
    "\n",
    "Stepts 5 - Accuracy 0.49375\n",
    "\n",
    "Steps 6- Accuracy 0.40760869\n",
    "\n"
   ]
  },
  {
   "cell_type": "code",
   "execution_count": 4,
   "metadata": {},
   "outputs": [
    {
     "data": {
      "text/plain": [
       "[<matplotlib.lines.Line2D at 0x239be094b70>]"
      ]
     },
     "execution_count": 4,
     "metadata": {},
     "output_type": "execute_result"
    },
    {
     "data": {
      "image/png": "[encoded data removed]",
      "text/plain": [
       "<Figure size 432x288 with 1 Axes>"
      ]
     },
     "metadata": {},
     "output_type": "display_data"
    }
   ],
   "source": [
    "plt.plot(step,error)"
   ]
  },
  {
   "cell_type": "code",
   "execution_count": 5,
   "metadata": {},
   "outputs": [
    {
     "data": {
      "text/plain": [
       "[<matplotlib.lines.Line2D at 0x239be121dd8>]"
      ]
     },
     "execution_count": 5,
     "metadata": {},
     "output_type": "execute_result"
    },
    {
     "data": {
      "image/png": "[encoded data removed]",
      "text/plain": [
       "<Figure size 432x288 with 1 Axes>"
      ]
     },
     "metadata": {},
     "output_type": "display_data"
    }
   ],
   "source": [
    "plt.plot(step,ltime)"
   ]
  },
  {
   "cell_type": "markdown",
   "metadata": {},
   "source": [
    "> c) Utilice la red convolucional (**CNN**) entregada en el código para ser entrenada sobre los datos brutos, matrices RGB de píxeles, y las 3 clases a las que se enfrenta. Evalúe el modelo con la métrica *accuracy* sobre el conjunto de validación. Compare."
   ]
  },
  {
   "cell_type": "code",
   "execution_count": 6,
   "metadata": {},
   "outputs": [
    {
     "name": "stdout",
     "output_type": "stream",
     "text": [
      "_________________________________________________________________\n",
      "Layer (type)                 Output Shape              Param #   \n",
      "=================================================================\n",
      "conv2d_1 (Conv2D)            (None, 150, 150, 32)      896       \n",
      "_________________________________________________________________\n",
      "conv2d_2 (Conv2D)            (None, 148, 148, 32)      9248      \n",
      "_________________________________________________________________\n",
      "max_pooling2d_1 (MaxPooling2 (None, 74, 74, 32)        0         \n",
      "_________________________________________________________________\n",
      "dropout_3 (Dropout)          (None, 74, 74, 32)        0         \n",
      "_________________________________________________________________\n",
      "conv2d_3 (Conv2D)            (None, 74, 74, 64)        18496     \n",
      "_________________________________________________________________\n",
      "conv2d_4 (Conv2D)            (None, 72, 72, 64)        36928     \n",
      "_________________________________________________________________\n",
      "max_pooling2d_2 (MaxPooling2 (None, 36, 36, 64)        0         \n",
      "_________________________________________________________________\n",
      "dropout_4 (Dropout)          (None, 36, 36, 64)        0         \n",
      "_________________________________________________________________\n",
      "flatten_2 (Flatten)          (None, 82944)             0         \n",
      "_________________________________________________________________\n",
      "dense_4 (Dense)              (None, 128)               10616960  \n",
      "_________________________________________________________________\n",
      "dropout_5 (Dropout)          (None, 128)               0         \n",
      "_________________________________________________________________\n",
      "dense_5 (Dense)              (None, 3)                 387       \n",
      "=================================================================\n",
      "Total params: 10,682,915\n",
      "Trainable params: 10,682,915\n",
      "Non-trainable params: 0\n",
      "_________________________________________________________________\n",
      "Epoch 1/25\n",
      "75/75 [==============================] - 377s 5s/step - loss: 1.2199 - acc: 0.3579 - val_loss: 1.0801 - val_acc: 0.4120\n",
      "Epoch 2/25\n",
      "75/75 [==============================] - 377s 5s/step - loss: 1.0659 - acc: 0.4521 - val_loss: 1.0473 - val_acc: 0.4630\n",
      "Epoch 3/25\n",
      "75/75 [==============================] - 372s 5s/step - loss: 1.0231 - acc: 0.5046 - val_loss: 0.9469 - val_acc: 0.5581\n",
      "Epoch 4/25\n",
      "75/75 [==============================] - 369s 5s/step - loss: 0.9923 - acc: 0.5208 - val_loss: 0.9901 - val_acc: 0.5088\n",
      "Epoch 5/25\n",
      "75/75 [==============================] - 348s 5s/step - loss: 0.9396 - acc: 0.5642 - val_loss: 1.0981 - val_acc: 0.5211\n",
      "Epoch 6/25\n",
      "75/75 [==============================] - 347s 5s/step - loss: 0.9496 - acc: 0.5567 - val_loss: 0.9819 - val_acc: 0.5352\n",
      "Epoch 7/25\n",
      "75/75 [==============================] - 329s 4s/step - loss: 0.9185 - acc: 0.5667 - val_loss: 0.9197 - val_acc: 0.5722\n",
      "Epoch 8/25\n",
      "75/75 [==============================] - 314s 4s/step - loss: 0.8930 - acc: 0.6012 - val_loss: 0.9146 - val_acc: 0.5792\n",
      "Epoch 9/25\n",
      "75/75 [==============================] - 359s 5s/step - loss: 0.8578 - acc: 0.6150 - val_loss: 1.2396 - val_acc: 0.4894\n",
      "Epoch 10/25\n",
      "75/75 [==============================] - 379s 5s/step - loss: 0.8500 - acc: 0.6221 - val_loss: 0.8378 - val_acc: 0.6007\n",
      "Epoch 11/25\n",
      "75/75 [==============================] - 377s 5s/step - loss: 0.8182 - acc: 0.6358 - val_loss: 0.9040 - val_acc: 0.5757\n",
      "Epoch 12/25\n",
      "75/75 [==============================] - 372s 5s/step - loss: 0.8030 - acc: 0.6504 - val_loss: 0.8652 - val_acc: 0.6162\n",
      "Epoch 13/25\n",
      "75/75 [==============================] - 365s 5s/step - loss: 0.7872 - acc: 0.6625 - val_loss: 1.0049 - val_acc: 0.5405\n",
      "Epoch 14/25\n",
      "75/75 [==============================] - 349s 5s/step - loss: 0.7704 - acc: 0.6533 - val_loss: 0.8706 - val_acc: 0.6074\n",
      "Epoch 15/25\n",
      "75/75 [==============================] - 344s 5s/step - loss: 0.7625 - acc: 0.6646 - val_loss: 0.7874 - val_acc: 0.6567\n",
      "Epoch 16/25\n",
      "75/75 [==============================] - 347s 5s/step - loss: 0.7296 - acc: 0.6800 - val_loss: 0.6851 - val_acc: 0.6954\n",
      "Epoch 17/25\n",
      "75/75 [==============================] - 350s 5s/step - loss: 0.7110 - acc: 0.6954 - val_loss: 0.7156 - val_acc: 0.6901\n",
      "Epoch 18/25\n",
      "75/75 [==============================] - 337s 4s/step - loss: 0.7171 - acc: 0.6912 - val_loss: 0.7262 - val_acc: 0.6761\n",
      "Epoch 19/25\n",
      "75/75 [==============================] - 341s 5s/step - loss: 0.6979 - acc: 0.7008 - val_loss: 1.2822 - val_acc: 0.5493\n",
      "Epoch 20/25\n",
      "75/75 [==============================] - 344s 5s/step - loss: 0.6962 - acc: 0.7125 - val_loss: 0.6516 - val_acc: 0.7060\n",
      "Epoch 21/25\n",
      "75/75 [==============================] - 357s 5s/step - loss: 0.6797 - acc: 0.7146 - val_loss: 0.8501 - val_acc: 0.6532\n",
      "Epoch 22/25\n",
      "75/75 [==============================] - 368s 5s/step - loss: 0.6601 - acc: 0.7254 - val_loss: 0.7110 - val_acc: 0.7042\n",
      "Epoch 23/25\n",
      "75/75 [==============================] - 383s 5s/step - loss: 0.6801 - acc: 0.7196 - val_loss: 0.6607 - val_acc: 0.7324\n",
      "Epoch 24/25\n",
      "75/75 [==============================] - 342s 5s/step - loss: 0.6431 - acc: 0.7325 - val_loss: 0.6591 - val_acc: 0.7148\n",
      "Epoch 25/25\n",
      "75/75 [==============================] - 356s 5s/step - loss: 0.6419 - acc: 0.7225 - val_loss: 0.8211 - val_acc: 0.6320\n"
     ]
    },
    {
     "data": {
      "text/plain": [
       "<keras.callbacks.History at 0x239be26ba58>"
      ]
     },
     "execution_count": 6,
     "metadata": {},
     "output_type": "execute_result"
    }
   ],
   "source": [
    "model = Sequential()\n",
    "model.add(Conv2D(32, (3, 3), padding='same',input_shape=train_generator.image_shape,activation='relu'))\n",
    "model.add(Conv2D(32, (3, 3),activation='relu'))\n",
    "model.add(MaxPool2D(pool_size=(2, 2)))\n",
    "model.add(Dropout(0.25))\n",
    "model.add(Conv2D(64, (3, 3), padding='same',activation='relu'))\n",
    "model.add(Conv2D(64, (3, 3),activation='relu'))\n",
    "model.add(MaxPool2D(pool_size=(2, 2)))\n",
    "model.add(Dropout(0.25))\n",
    "model.add(Flatten())\n",
    "model.add(Dense(128,activation='relu'))\n",
    "model.add(Dropout(0.5)) \n",
    "model.add(Dense(len(train_generator.class_indices),activation='softmax'))\n",
    "model.compile(loss='categorical_crossentropy', optimizer='rmsprop', metrics=['accuracy']) # Let's train the model using RMSprop\n",
    "model.summary()\n",
    "model.fit_generator(\n",
    "        train_generator,\n",
    "        steps_per_epoch=len(train_generator.classes)//train_generator.batch_size, #samples//batch_size\n",
    "        epochs=25,\n",
    "        validation_data=validation_generator,\n",
    "        validation_steps=len(validation_generator.classes)//validation_generator.batch_size)"
   ]
  },
  {
   "cell_type": "markdown",
   "metadata": {},
   "source": [
    "> d) Genere un conjunto datos con incorrecta etiquetación de manera manual y vea si el modelo convolucional se sigue comportando de la misma manera. Para esto tome 100 imágenes aleatorias de entrenamiento de la carpeta *hot dog* y 100 imágenes aleatorias de entrenamiento de la carpeta *hamburger* e intercambielas, sin manipular las imágenes de la carpeta *pizza* y con el conjunto de validación intacto. Genere las matrices de confusión en el conjunto de validación para visualizar cómo afectó al modelo la corrupción realizada a los datos."
   ]
  },
  {
   "cell_type": "code",
   "execution_count": 7,
   "metadata": {},
   "outputs": [],
   "source": [
    "Y_pred = model.predict_generator(validation_generator,len(validation_generator.classes)//validation_generator.batch_size+1)\n",
    "y_pred = np.argmax(Y_pred, axis=1)\n",
    "confusion_matrix = confusion_matrix(validation_generator.classes, y_pred)"
   ]
  },
  {
   "cell_type": "code",
   "execution_count": 8,
   "metadata": {},
   "outputs": [
    {
     "name": "stdout",
     "output_type": "stream",
     "text": [
      "[[ 39  62  99]\n",
      " [ 45  55 100]\n",
      " [ 28  64 108]]\n"
     ]
    }
   ],
   "source": [
    "print(confusion_matrix)"
   ]
  },
  {
   "cell_type": "code",
   "execution_count": null,
   "metadata": {},
   "outputs": [],
   "source": []
  }
 ],
 "metadata": {
  "kernelspec": {
   "display_name": "Python 3",
   "language": "python",
   "name": "python3"
  },
  "language_info": {
   "codemirror_mode": {
    "name": "ipython",
    "version": 3
   },
   "file_extension": ".py",
   "mimetype": "text/x-python",
   "name": "python",
   "nbconvert_exporter": "python",
   "pygments_lexer": "ipython3",
   "version": "3.6.5"
  }
 },
 "nbformat": 4,
 "nbformat_minor": 2
}
