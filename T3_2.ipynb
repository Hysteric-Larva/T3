{
 "cells": [
  {
   "cell_type": "markdown",
   "metadata": {},
   "source": [
    "## 2. Redes Convolucionales sobre imágenes\n",
    "---\n",
    "Las redes neuronales hoy en día han sido extendidas a numerosas aplicaciones gracias a la arquitectura definida para cada tipo de problema. Las redes neuronales que aplican la operación de convolución [[3]](#refs) o convoluciones en sus capas son concidas como *CNN* o *ConvNets*, lo cual se especializa en trabajar en datos con forma matricial (ya sea bi-dimensional o tri-dimensional), lo cual se adecúa perfectamente a imágenes (matrices), ya que gracias a su conectividad local se especializan en reconocer patrones sobre los datos de manera espacial, como refleja la siguiente imagen:\n",
    "\n",
    "<img src=\"https://cdn-images-1.medium.com/max/1600/1*N4h1SgwbWNmtrRhszM9EJg.png\" title=\"Title text\" width=\"90%\" />\n",
    "\n",
    "\n",
    "En esta actividad trabajará con un extracto bastante pequeño del dataset conocido como **101-Food**[[4]](#refs), el cual consta de mil imágenes pertenecientes a 3 clases (*Hambuger, Hot Dog* y *Pizza*) separados en conjunto de entrenamiento y validación.  \n",
    "El extracto pequeño del dataset con el que se trabajará deberá ser descargado del siguiente __[link](https://www.dropbox.com/s/56xqazmhbh0doi7/food_data.zip?dl=0)__ a través de Dropbox."
   ]
  },
  {
   "cell_type": "markdown",
   "metadata": {},
   "source": [
    "En Machine Learning las redes convolucionales sobre imagenes se utilizan para reducir el tamaño de los atributos de esta sin perder la riqueza de la información que esta posee, es decir, de cada conjunto se posee una especie de dato representante dentro de una vecindad que la caracteriza y con eso se reduce tiempos de ejecución e incluso puede mejorar los resultadosde algoritmos de esta área .\n"
   ]
  },
  {
   "cell_type": "markdown",
   "metadata": {},
   "source": [
    "> a) Construya funciones para leer los datos y cargarlos al momento de entrenar (durante cada *epoch*), para ésto utilice *Image Data Generator* de keras."
   ]
  },
  {
   "cell_type": "code",
   "execution_count": 1,
   "metadata": {},
   "outputs": [
    {
     "name": "stderr",
     "output_type": "stream",
     "text": [
      "C:\\Users\\kzep\\Anaconda3\\lib\\site-packages\\h5py\\__init__.py:36: FutureWarning: Conversion of the second argument of issubdtype from `float` to `np.floating` is deprecated. In future, it will be treated as `np.float64 == np.dtype(float).type`.\n",
      "  from ._conv import register_converters as _register_converters\n",
      "Using TensorFlow backend.\n"
     ]
    }
   ],
   "source": [
    "from keras.preprocessing.image import ImageDataGenerator\n",
    "from keras.models import Sequential\n",
    "from keras.layers import *\n",
    "import time\n",
    "from sklearn.metrics import confusion_matrix \n",
    "import matplotlib.pyplot as plt\n",
    "import itertools\n",
    "import numpy as np\n",
    "import matplotlib.pyplot as plt\n",
    "\n",
    "import itertools"
   ]
  },
  {
   "cell_type": "code",
   "execution_count": 2,
   "metadata": {},
   "outputs": [],
   "source": [
    "def plot_state_matrix(cm, states,title='Transition Probabilities',cmap=plt.cm.Blues):\n",
    "    plt.imshow(cm, interpolation='nearest', cmap=cmap)\n",
    "    plt.title(title)\n",
    "    plt.colorbar()\n",
    "    tick_marks = np.arange(len(states))\n",
    "    plt.xticks(tick_marks, states)\n",
    "    plt.yticks(tick_marks, states)\n",
    "    for i, j in itertools.product(range(cm.shape[0]), range(cm.shape[1])):\n",
    "        plt.text(j, i, format(cm[i, j], '.2f'),\n",
    "                 horizontalalignment=\"center\",\n",
    "                 color=\"white\" if cm[i, j] > cm.max() / 2. else \"black\")\n",
    "    plt.ylabel('Origin state')\n",
    "    plt.xlabel('Destination state')\n",
    "    plt.tight_layout()"
   ]
  },
  {
   "cell_type": "markdown",
   "metadata": {},
   "source": [
    "Acá lo que se hace es generar un conjunto de pruebas, entrenamiento (y tambien de validacion por consiguiente) para nuestra red de coonvolucion calculando la cantidad de clases para cada conjuntos"
   ]
  },
  {
   "cell_type": "code",
   "execution_count": 3,
   "metadata": {},
   "outputs": [
    {
     "name": "stdout",
     "output_type": "stream",
     "text": [
      "Found 2400 images belonging to 3 classes.\n",
      "Found 600 images belonging to 3 classes.\n"
     ]
    }
   ],
   "source": [
    "train_datagen = ImageDataGenerator(\n",
    "        rescale=1./255,\n",
    "        shear_range=0.2,\n",
    "        zoom_range=0.2,\n",
    "        horizontal_flip=True)\n",
    "test_datagen = ImageDataGenerator(rescale=1./255) #no transformation\n",
    "train_generator = train_datagen.flow_from_directory(\n",
    "        'food_data/train',\n",
    "        target_size=(150, 150),\n",
    "        color_mode='rgb',\n",
    "        batch_size=32)\n",
    "validation_generator = test_datagen.flow_from_directory(\n",
    "        'food_data/val',\n",
    "        target_size=(150, 150),\n",
    "        color_mode='rgb',\n",
    "        batch_size=32)"
   ]
  },
  {
   "cell_type": "markdown",
   "metadata": {},
   "source": [
    "trujulear para ver que clases son y describir los parametros"
   ]
  },
  {
   "cell_type": "markdown",
   "metadata": {},
   "source": [
    "> b) Utilice la red tradicional (*Feed Forward*) entregada en el código para ser entrenada sobre los datos vectorizados, esto es que cada imagen queda representada como un vector gigante, y las 3 clases a las que se enfrenta. Evalúe el modelo con la métrica *accuracy* sobre el conjunto de validación."
   ]
  },
  {
   "cell_type": "raw",
   "metadata": {},
   "source": [
    "Una Red Neuronal Feed Foward es aquella cuyos nodos no generan ciclios y funciona en una sola dirección hacia el output. Esto se utilizará para transformar las imagenes en vectores como ya se mencionó y entrenarlo. Con ella se experimentará para ver como se comporta la función con respecto a la variación de este parámetro."
   ]
  },
  {
   "cell_type": "code",
   "execution_count": 4,
   "metadata": {},
   "outputs": [
    {
     "name": "stdout",
     "output_type": "stream",
     "text": [
      "_________________________________________________________________\n",
      "Layer (type)                 Output Shape              Param #   \n",
      "=================================================================\n",
      "flatten_1 (Flatten)          (None, 67500)             0         \n",
      "_________________________________________________________________\n",
      "batch_normalization_1 (Batch (None, 67500)             270000    \n",
      "_________________________________________________________________\n",
      "dense_1 (Dense)              (None, 256)               17280256  \n",
      "_________________________________________________________________\n",
      "dropout_1 (Dropout)          (None, 256)               0         \n",
      "_________________________________________________________________\n",
      "dense_2 (Dense)              (None, 128)               32896     \n",
      "_________________________________________________________________\n",
      "dropout_2 (Dropout)          (None, 128)               0         \n",
      "_________________________________________________________________\n",
      "dense_3 (Dense)              (None, 3)                 387       \n",
      "=================================================================\n",
      "Total params: 17,583,539\n",
      "Trainable params: 17,448,539\n",
      "Non-trainable params: 135,000\n",
      "_________________________________________________________________\n",
      "Epoch 1/25\n",
      "75/75 [==============================] - 47s 627ms/step - loss: 9.7623 - acc: 0.3738 - val_loss: 10.2222 - val_acc: 0.3628\n",
      "Epoch 2/25\n",
      "75/75 [==============================] - 48s 644ms/step - loss: 9.4674 - acc: 0.4017 - val_loss: 9.2865 - val_acc: 0.4208\n",
      "Epoch 3/25\n",
      "75/75 [==============================] - 51s 676ms/step - loss: 8.5573 - acc: 0.4625 - val_loss: 8.9950 - val_acc: 0.4349\n",
      "Epoch 4/25\n",
      "75/75 [==============================] - 50s 670ms/step - loss: 8.5523 - acc: 0.4654 - val_loss: 9.1409 - val_acc: 0.4313\n",
      "Epoch 5/25\n",
      "75/75 [==============================] - 55s 727ms/step - loss: 8.7478 - acc: 0.4546 - val_loss: 9.2366 - val_acc: 0.4243\n",
      "Epoch 6/25\n",
      "75/75 [==============================] - 52s 692ms/step - loss: 8.5726 - acc: 0.4629 - val_loss: 9.0684 - val_acc: 0.4349\n",
      "Epoch 7/25\n",
      "75/75 [==============================] - 49s 659ms/step - loss: 9.0910 - acc: 0.4333 - val_loss: 8.9894 - val_acc: 0.4331\n",
      "Epoch 8/25\n",
      "75/75 [==============================] - 49s 656ms/step - loss: 9.1995 - acc: 0.4288 - val_loss: 9.3137 - val_acc: 0.4190\n",
      "Epoch 9/25\n",
      "75/75 [==============================] - 50s 661ms/step - loss: 8.9082 - acc: 0.4458 - val_loss: 8.6890 - val_acc: 0.4595\n",
      "Epoch 10/25\n",
      "75/75 [==============================] - 49s 648ms/step - loss: 8.9759 - acc: 0.4400 - val_loss: 9.4779 - val_acc: 0.4120\n",
      "Epoch 11/25\n",
      "75/75 [==============================] - 48s 633ms/step - loss: 8.8787 - acc: 0.4475 - val_loss: 9.3384 - val_acc: 0.4173\n",
      "Epoch 12/25\n",
      "75/75 [==============================] - 46s 612ms/step - loss: 8.9704 - acc: 0.4421 - val_loss: 9.4909 - val_acc: 0.4085\n",
      "Epoch 13/25\n",
      "75/75 [==============================] - 46s 608ms/step - loss: 8.7217 - acc: 0.4562 - val_loss: 8.7739 - val_acc: 0.4489\n",
      "Epoch 14/25\n",
      "75/75 [==============================] - 47s 631ms/step - loss: 8.6050 - acc: 0.4625 - val_loss: 8.5955 - val_acc: 0.4648\n",
      "Epoch 15/25\n",
      "75/75 [==============================] - 46s 616ms/step - loss: 8.6621 - acc: 0.4604 - val_loss: 8.2358 - val_acc: 0.4842\n",
      "Epoch 16/25\n",
      "75/75 [==============================] - 47s 631ms/step - loss: 8.4787 - acc: 0.4712 - val_loss: 8.7404 - val_acc: 0.4560\n",
      "Epoch 17/25\n",
      "75/75 [==============================] - 47s 631ms/step - loss: 8.1339 - acc: 0.4925 - val_loss: 8.2450 - val_acc: 0.4877\n",
      "Epoch 18/25\n",
      "75/75 [==============================] - 46s 618ms/step - loss: 8.2729 - acc: 0.4850 - val_loss: 8.6601 - val_acc: 0.4595\n",
      "Epoch 19/25\n",
      "75/75 [==============================] - 46s 608ms/step - loss: 7.9453 - acc: 0.5058 - val_loss: 7.9697 - val_acc: 0.5035\n",
      "Epoch 20/25\n",
      "75/75 [==============================] - 47s 621ms/step - loss: 8.1065 - acc: 0.4933 - val_loss: 7.9764 - val_acc: 0.5017\n",
      "Epoch 21/25\n",
      "75/75 [==============================] - 49s 658ms/step - loss: 8.1566 - acc: 0.4929 - val_loss: 8.0574 - val_acc: 0.4982\n",
      "Epoch 22/25\n",
      "75/75 [==============================] - 46s 611ms/step - loss: 8.3088 - acc: 0.4833 - val_loss: 8.2293 - val_acc: 0.4894\n",
      "Epoch 23/25\n",
      "75/75 [==============================] - 53s 701ms/step - loss: 8.2499 - acc: 0.4854 - val_loss: 8.1465 - val_acc: 0.4912\n",
      "Epoch 24/25\n",
      "75/75 [==============================] - 54s 715ms/step - loss: 8.1791 - acc: 0.4900 - val_loss: 8.2046 - val_acc: 0.4894\n",
      "Epoch 25/25\n",
      "75/75 [==============================] - 53s 702ms/step - loss: 8.1863 - acc: 0.4904 - val_loss: 8.3915 - val_acc: 0.4789\n",
      "Accuracy validation:  0.46875\n",
      "Accuracy validation:  0.390625\n",
      "Accuracy validation:  0.4583333333333333\n",
      "Accuracy validation:  0.3984375\n",
      "Accuracy validation:  0.48125\n",
      "Accuracy validation:  0.5271739104519719\n",
      "Accuracy validation:  0.42857142857142855\n",
      "Accuracy validation:  0.4475806451612903\n",
      "Accuracy validation:  0.4756944444444444\n",
      "Accuracy validation:  0.44551282051282054\n",
      "Accuracy validation:  0.46875\n",
      "Accuracy validation:  0.4095744674510144\n",
      "Accuracy validation:  0.5122549031295028\n",
      "Accuracy validation:  0.453125\n",
      "Accuracy validation:  0.46875\n",
      "Accuracy validation:  0.45634920634920634\n",
      "Accuracy validation:  0.4514925377582436\n",
      "Accuracy validation:  0.4735915501352767\n",
      "Accuracy validation:  0.456666667064031\n",
      "Accuracy validation:  0.46993670923800407\n",
      "Accuracy validation:  0.4442771087927991\n",
      "Accuracy validation:  0.4727011490827319\n",
      "Accuracy validation:  0.45329670296920527\n",
      "Accuracy validation:  0.4473684207389229\n",
      "Accuracy validation:  0.4630102040816326\n",
      "Accuracy validation:  0.4733009708737864\n",
      "Accuracy validation:  0.44929245311134264\n",
      "Accuracy validation:  0.4594594594594595\n",
      "Accuracy validation:  0.4649122807017544\n",
      "Accuracy validation:  0.45588235294117646\n",
      "Accuracy validation:  0.463114754342642\n",
      "Accuracy validation:  0.4583333328602806\n",
      "Accuracy validation:  0.4656488545068348\n",
      "Accuracy validation:  0.4583333333333333\n",
      "Accuracy validation:  0.4673913047797438\n",
      "Accuracy validation:  0.45774647971274146\n",
      "Accuracy validation:  0.4597602737684772\n",
      "Accuracy validation:  0.4541666668653488\n",
      "Accuracy validation:  0.4545454547389761\n",
      "Accuracy validation:  0.45965189854555494\n",
      "Wall time: 22min 52s\n"
     ]
    }
   ],
   "source": [
    "%%time\n",
    "ltime=[]\n",
    "step = []\n",
    "error = []#En realidad esta vriable contiene el accuracy.\n",
    "best = 0\n",
    "best_step = 0\n",
    "model = Sequential()\n",
    "model.add(Flatten(input_shape=train_generator.image_shape)) #full dense\n",
    "model.add(BatchNormalization()) #to normalize the input..\n",
    "model.add(Dense(256,activation='relu'))\n",
    "model.add(Dropout(0.25))\n",
    "model.add(Dense(128,activation='relu')) #128\n",
    "model.add(Dropout(0.25))\n",
    "model.add(Dense(3,activation='softmax'))\n",
    "model.compile(loss='categorical_crossentropy', optimizer='rmsprop', metrics=['accuracy']) # Let's train the model using RMSprop\n",
    "model.summary()\n",
    "model.fit_generator(\n",
    "        train_generator,\n",
    "        steps_per_epoch=len(train_generator.classes)//train_generator.batch_size, #samples//batch_size\n",
    "        epochs=25,\n",
    "        validation_data=validation_generator,\n",
    "        validation_steps=len(validation_generator.classes)//validation_generator.batch_size)\n",
    "for i in range(40):\n",
    "    error.append(model.evaluate_generator(generator=validation_generator,steps = (i+1))[1])#probar algo distinto de 2\n",
    "    print(\"Accuracy validation: \",error[i])\n",
    "    end = time.time()\n",
    "    step.append(i+1)\n",
    "    if error[i]>best:\n",
    "        best = error[i]\n",
    "        best_step = i+1"
   ]
  },
  {
   "cell_type": "markdown",
   "metadata": {},
   "source": [
    "Uno de los conflictos más grandes es que el modelo realmente no esta funcionando ya que el parametro de steps tiene que ver con los tiempos de ejecucucion por lo que la existencia de estos cambios en el valor, tiene que ver con que aleatoriamente dió con el conjunto en cuestión. "
   ]
  },
  {
   "cell_type": "code",
   "execution_count": 5,
   "metadata": {},
   "outputs": [
    {
     "data": {
      "text/plain": [
       "Text(0.5,1,'Accuracy vs steps')"
      ]
     },
     "execution_count": 5,
     "metadata": {},
     "output_type": "execute_result"
    },
    {
     "data": {
      "image/png": "[encoded data removed]",
      "text/plain": [
       "<Figure size 432x288 with 1 Axes>"
      ]
     },
     "metadata": {},
     "output_type": "display_data"
    }
   ],
   "source": [
    "plt.plot(step,error)\n",
    "plt.title(\"Accuracy vs steps\")"
   ]
  },
  {
   "cell_type": "markdown",
   "metadata": {},
   "source": [
    "Se muestra el máximo global de la cantidad de pasos considerados, note que a partir de 40 el valor se empieza a estabilizar por lo que debiese existir una relación causal del parametro dada la data, pero como ya se mencionó el parametro tiene que ver en cuantas evaluaciones se hacen del modelo por lo que afecta al tiempo de ejecucuion."
   ]
  },
  {
   "cell_type": "code",
   "execution_count": 6,
   "metadata": {},
   "outputs": [
    {
     "name": "stdout",
     "output_type": "stream",
     "text": [
      "Mejor accuracy;  0.5271739104519719 con  6 pasos\n"
     ]
    }
   ],
   "source": [
    "print(\"Mejor accuracy; \",best,\"con \",best_step,\"pasos\")"
   ]
  },
  {
   "cell_type": "markdown",
   "metadata": {},
   "source": [
    "Ahora precargaremos el conjunto con un número fijo de pasos (7) para continuar con el informe. Note que se trabaja con 17 millones de datos."
   ]
  },
  {
   "cell_type": "code",
   "execution_count": 7,
   "metadata": {},
   "outputs": [
    {
     "name": "stdout",
     "output_type": "stream",
     "text": [
      "_________________________________________________________________\n",
      "Layer (type)                 Output Shape              Param #   \n",
      "=================================================================\n",
      "flatten_2 (Flatten)          (None, 67500)             0         \n",
      "_________________________________________________________________\n",
      "batch_normalization_2 (Batch (None, 67500)             270000    \n",
      "_________________________________________________________________\n",
      "dense_4 (Dense)              (None, 256)               17280256  \n",
      "_________________________________________________________________\n",
      "dropout_3 (Dropout)          (None, 256)               0         \n",
      "_________________________________________________________________\n",
      "dense_5 (Dense)              (None, 128)               32896     \n",
      "_________________________________________________________________\n",
      "dropout_4 (Dropout)          (None, 128)               0         \n",
      "_________________________________________________________________\n",
      "dense_6 (Dense)              (None, 3)                 387       \n",
      "=================================================================\n",
      "Total params: 17,583,539\n",
      "Trainable params: 17,448,539\n",
      "Non-trainable params: 135,000\n",
      "_________________________________________________________________\n",
      "Epoch 1/25\n",
      "75/75 [==============================] - 47s 629ms/step - loss: 9.0485 - acc: 0.4179 - val_loss: 9.1461 - val_acc: 0.4253\n",
      "Epoch 2/25\n",
      "75/75 [==============================] - 46s 613ms/step - loss: 9.0755 - acc: 0.4292 - val_loss: 9.2086 - val_acc: 0.4243\n",
      "Epoch 3/25\n",
      "75/75 [==============================] - 48s 643ms/step - loss: 8.9929 - acc: 0.4379 - val_loss: 9.5221 - val_acc: 0.4032\n",
      "Epoch 4/25\n",
      "75/75 [==============================] - 48s 635ms/step - loss: 9.2351 - acc: 0.4229 - val_loss: 9.3853 - val_acc: 0.4173\n",
      "Epoch 5/25\n",
      "75/75 [==============================] - 47s 633ms/step - loss: 8.9126 - acc: 0.4438 - val_loss: 9.2487 - val_acc: 0.4261\n",
      "Epoch 6/25\n",
      "75/75 [==============================] - 46s 609ms/step - loss: 8.6308 - acc: 0.4621 - val_loss: 9.3173 - val_acc: 0.4173\n",
      "Epoch 7/25\n",
      "75/75 [==============================] - 45s 606ms/step - loss: 8.4847 - acc: 0.4700 - val_loss: 8.7265 - val_acc: 0.4560\n",
      "Epoch 8/25\n",
      "75/75 [==============================] - 45s 604ms/step - loss: 8.2238 - acc: 0.4862 - val_loss: 9.1252 - val_acc: 0.4313\n",
      "Epoch 9/25\n",
      "75/75 [==============================] - 49s 659ms/step - loss: 8.2553 - acc: 0.4842 - val_loss: 8.6833 - val_acc: 0.4542\n",
      "Epoch 10/25\n",
      "75/75 [==============================] - 52s 692ms/step - loss: 8.2324 - acc: 0.4871 - val_loss: 8.8019 - val_acc: 0.4507\n",
      "Epoch 11/25\n",
      "75/75 [==============================] - 53s 700ms/step - loss: 8.4175 - acc: 0.4763 - val_loss: 9.0896 - val_acc: 0.4331\n",
      "Epoch 12/25\n",
      "75/75 [==============================] - 47s 622ms/step - loss: 8.5503 - acc: 0.4688 - val_loss: 8.7346 - val_acc: 0.4577\n",
      "Epoch 13/25\n",
      "75/75 [==============================] - 45s 605ms/step - loss: 8.4834 - acc: 0.4712 - val_loss: 9.0886 - val_acc: 0.4313\n",
      "Epoch 14/25\n",
      "75/75 [==============================] - 47s 625ms/step - loss: 8.6422 - acc: 0.4621 - val_loss: 8.3805 - val_acc: 0.4789\n",
      "Epoch 15/25\n",
      "75/75 [==============================] - 46s 619ms/step - loss: 8.7112 - acc: 0.4571 - val_loss: 9.5069 - val_acc: 0.4085\n",
      "Epoch 16/25\n",
      "75/75 [==============================] - 50s 666ms/step - loss: 8.3369 - acc: 0.4813 - val_loss: 8.9414 - val_acc: 0.4437\n",
      "Epoch 17/25\n",
      "75/75 [==============================] - 50s 665ms/step - loss: 8.6432 - acc: 0.4625 - val_loss: 8.9116 - val_acc: 0.4472\n",
      "Epoch 18/25\n",
      "75/75 [==============================] - 47s 633ms/step - loss: 8.5093 - acc: 0.4696 - val_loss: 8.4189 - val_acc: 0.4771\n",
      "Epoch 19/25\n",
      "75/75 [==============================] - 46s 614ms/step - loss: 8.1318 - acc: 0.4946 - val_loss: 8.6551 - val_acc: 0.4630\n",
      "Epoch 20/25\n",
      "75/75 [==============================] - 46s 614ms/step - loss: 8.3420 - acc: 0.4804 - val_loss: 9.0979 - val_acc: 0.4340\n",
      "Epoch 21/25\n",
      "75/75 [==============================] - 46s 608ms/step - loss: 8.2087 - acc: 0.4888 - val_loss: 8.5945 - val_acc: 0.4630\n",
      "Epoch 22/25\n",
      "75/75 [==============================] - 48s 638ms/step - loss: 8.4055 - acc: 0.4763 - val_loss: 8.9659 - val_acc: 0.4419\n",
      "Epoch 23/25\n",
      "75/75 [==============================] - 49s 652ms/step - loss: 8.4911 - acc: 0.4712 - val_loss: 8.4351 - val_acc: 0.4736\n",
      "Epoch 24/25\n",
      "75/75 [==============================] - 49s 655ms/step - loss: 8.3468 - acc: 0.4804 - val_loss: 8.5784 - val_acc: 0.4648\n",
      "Epoch 25/25\n",
      "75/75 [==============================] - 49s 652ms/step - loss: 8.3889 - acc: 0.4779 - val_loss: 8.5988 - val_acc: 0.4665\n"
     ]
    }
   ],
   "source": [
    "%%time\n",
    "model = Sequential()\n",
    "model.add(Flatten(input_shape=train_generator.image_shape)) #full dense\n",
    "model.add(BatchNormalization()) #to normalize the input..\n",
    "model.add(Dense(256,activation='relu'))\n",
    "model.add(Dropout(0.25))\n",
    "model.add(Dense(128,activation='relu')) #128\n",
    "model.add(Dropout(0.25))\n",
    "model.add(Dense(3,activation='softmax'))\n",
    "model.compile(loss='categorical_crossentropy', optimizer='rmsprop', metrics=['accuracy']) # Let's train the model using RMSprop\n",
    "model.summary()\n",
    "model.fit_generator(\n",
    "        train_generator,\n",
    "        steps_per_epoch=len(train_generator.classes)//train_generator.batch_size, #samples//batch_size\n",
    "        epochs=25,\n",
    "        validation_data=validation_generator,\n",
    "        validation_steps=len(validation_generator.classes)//validation_generator.batch_size)\n",
    "\n",
    "error.append(model.evaluate_generator(generator=validation_generator,steps = 7 )[1])#probar algo distinto de 2"
   ]
  },
  {
   "cell_type": "code",
   "execution_count": 8,
   "metadata": {},
   "outputs": [
    {
     "data": {
      "image/png": "[encoded data removed]",
      "text/plain": [
       "<Figure size 432x288 with 2 Axes>"
      ]
     },
     "metadata": {},
     "output_type": "display_data"
    }
   ],
   "source": [
    "Y_pred = model.predict_generator(validation_generator,len(validation_generator.classes)//validation_generator.batch_size+1)\n",
    "y_pred = np.argmax(Y_pred, axis=1)\n",
    "confusion_matrix = confusion_matrix(validation_generator.classes, y_pred)\n",
    "confusion_matrix = confusion_matrix.astype('float') / confusion_matrix.sum(axis=1)\n",
    "classes = [\"Hot-dog\",\"Hamburguer\",\"Pizza\"]\n",
    "plot_state_matrix(confusion_matrix, classes,title='Confusion Matrix',cmap=plt.cm.Blues)"
   ]
  },
  {
   "cell_type": "markdown",
   "metadata": {},
   "source": [
    "> c) Utilice la red convolucional (**CNN**) entregada en el código para ser entrenada sobre los datos brutos, matrices RGB de píxeles, y las 3 clases a las que se enfrenta. Evalúe el modelo con la métrica *accuracy* sobre el conjunto de validación. Compare."
   ]
  },
  {
   "cell_type": "code",
   "execution_count": 9,
   "metadata": {},
   "outputs": [
    {
     "name": "stdout",
     "output_type": "stream",
     "text": [
      "_________________________________________________________________\n",
      "Layer (type)                 Output Shape              Param #   \n",
      "=================================================================\n",
      "conv2d_1 (Conv2D)            (None, 150, 150, 32)      896       \n",
      "_________________________________________________________________\n",
      "conv2d_2 (Conv2D)            (None, 148, 148, 32)      9248      \n",
      "_________________________________________________________________\n",
      "max_pooling2d_1 (MaxPooling2 (None, 74, 74, 32)        0         \n",
      "_________________________________________________________________\n",
      "dropout_5 (Dropout)          (None, 74, 74, 32)        0         \n",
      "_________________________________________________________________\n",
      "conv2d_3 (Conv2D)            (None, 74, 74, 64)        18496     \n",
      "_________________________________________________________________\n",
      "conv2d_4 (Conv2D)            (None, 72, 72, 64)        36928     \n",
      "_________________________________________________________________\n",
      "max_pooling2d_2 (MaxPooling2 (None, 36, 36, 64)        0         \n",
      "_________________________________________________________________\n",
      "dropout_6 (Dropout)          (None, 36, 36, 64)        0         \n",
      "_________________________________________________________________\n",
      "flatten_3 (Flatten)          (None, 82944)             0         \n",
      "_________________________________________________________________\n",
      "dense_7 (Dense)              (None, 128)               10616960  \n",
      "_________________________________________________________________\n",
      "dropout_7 (Dropout)          (None, 128)               0         \n",
      "_________________________________________________________________\n",
      "dense_8 (Dense)              (None, 3)                 387       \n",
      "=================================================================\n",
      "Total params: 10,682,915\n",
      "Trainable params: 10,682,915\n",
      "Non-trainable params: 0\n",
      "_________________________________________________________________\n",
      "Epoch 1/25\n",
      "75/75 [==============================] - 334s 4s/step - loss: 1.2668 - acc: 0.4058 - val_loss: 1.1769 - val_acc: 0.3099\n",
      "Epoch 2/25\n",
      "75/75 [==============================] - 323s 4s/step - loss: 1.0531 - acc: 0.4704 - val_loss: 1.0282 - val_acc: 0.5123\n",
      "Epoch 3/25\n",
      "75/75 [==============================] - 323s 4s/step - loss: 1.0392 - acc: 0.4929 - val_loss: 0.9889 - val_acc: 0.5493\n",
      "Epoch 4/25\n",
      "75/75 [==============================] - 319s 4s/step - loss: 1.0216 - acc: 0.5100 - val_loss: 0.9233 - val_acc: 0.5651\n",
      "Epoch 5/25\n",
      "75/75 [==============================] - 350s 5s/step - loss: 0.9636 - acc: 0.5471 - val_loss: 0.8671 - val_acc: 0.6076\n",
      "Epoch 6/25\n",
      "75/75 [==============================] - 346s 5s/step - loss: 0.9147 - acc: 0.5858 - val_loss: 0.8556 - val_acc: 0.6127\n",
      "Epoch 7/25\n",
      "75/75 [==============================] - 368s 5s/step - loss: 0.9059 - acc: 0.5904 - val_loss: 0.8628 - val_acc: 0.6004\n",
      "Epoch 8/25\n",
      "75/75 [==============================] - 317s 4s/step - loss: 0.8660 - acc: 0.6238 - val_loss: 0.9168 - val_acc: 0.5687\n",
      "Epoch 9/25\n",
      "18/75 [======>.......................] - ETA: 4:03 - loss: 0.7960 - acc: 0.6510"
     ]
    },
    {
     "ename": "KeyboardInterrupt",
     "evalue": "",
     "output_type": "error",
     "traceback": [
      "\u001b[1;31m---------------------------------------------------------------------------\u001b[0m",
      "\u001b[1;31mKeyboardInterrupt\u001b[0m                         Traceback (most recent call last)",
      "\u001b[1;32m<ipython-input-9-fca0ac5797d4>\u001b[0m in \u001b[0;36m<module>\u001b[1;34m()\u001b[0m\n\u001b[0;32m     19\u001b[0m         \u001b[0mepochs\u001b[0m\u001b[1;33m=\u001b[0m\u001b[1;36m25\u001b[0m\u001b[1;33m,\u001b[0m\u001b[1;33m\u001b[0m\u001b[0m\n\u001b[0;32m     20\u001b[0m         \u001b[0mvalidation_data\u001b[0m\u001b[1;33m=\u001b[0m\u001b[0mvalidation_generator\u001b[0m\u001b[1;33m,\u001b[0m\u001b[1;33m\u001b[0m\u001b[0m\n\u001b[1;32m---> 21\u001b[1;33m         validation_steps=len(validation_generator.classes)//validation_generator.batch_size)\n\u001b[0m",
      "\u001b[1;32m~\\Anaconda3\\lib\\site-packages\\keras\\legacy\\interfaces.py\u001b[0m in \u001b[0;36mwrapper\u001b[1;34m(*args, **kwargs)\u001b[0m\n\u001b[0;32m     89\u001b[0m                 warnings.warn('Update your `' + object_name + '` call to the ' +\n\u001b[0;32m     90\u001b[0m                               'Keras 2 API: ' + signature, stacklevel=2)\n\u001b[1;32m---> 91\u001b[1;33m             \u001b[1;32mreturn\u001b[0m \u001b[0mfunc\u001b[0m\u001b[1;33m(\u001b[0m\u001b[1;33m*\u001b[0m\u001b[0margs\u001b[0m\u001b[1;33m,\u001b[0m \u001b[1;33m**\u001b[0m\u001b[0mkwargs\u001b[0m\u001b[1;33m)\u001b[0m\u001b[1;33m\u001b[0m\u001b[0m\n\u001b[0m\u001b[0;32m     92\u001b[0m         \u001b[0mwrapper\u001b[0m\u001b[1;33m.\u001b[0m\u001b[0m_original_function\u001b[0m \u001b[1;33m=\u001b[0m \u001b[0mfunc\u001b[0m\u001b[1;33m\u001b[0m\u001b[0m\n\u001b[0;32m     93\u001b[0m         \u001b[1;32mreturn\u001b[0m \u001b[0mwrapper\u001b[0m\u001b[1;33m\u001b[0m\u001b[0m\n",
      "\u001b[1;32m~\\Anaconda3\\lib\\site-packages\\keras\\engine\\training.py\u001b[0m in \u001b[0;36mfit_generator\u001b[1;34m(self, generator, steps_per_epoch, epochs, verbose, callbacks, validation_data, validation_steps, class_weight, max_queue_size, workers, use_multiprocessing, shuffle, initial_epoch)\u001b[0m\n\u001b[0;32m   1416\u001b[0m             \u001b[0muse_multiprocessing\u001b[0m\u001b[1;33m=\u001b[0m\u001b[0muse_multiprocessing\u001b[0m\u001b[1;33m,\u001b[0m\u001b[1;33m\u001b[0m\u001b[0m\n\u001b[0;32m   1417\u001b[0m             \u001b[0mshuffle\u001b[0m\u001b[1;33m=\u001b[0m\u001b[0mshuffle\u001b[0m\u001b[1;33m,\u001b[0m\u001b[1;33m\u001b[0m\u001b[0m\n\u001b[1;32m-> 1418\u001b[1;33m             initial_epoch=initial_epoch)\n\u001b[0m\u001b[0;32m   1419\u001b[0m \u001b[1;33m\u001b[0m\u001b[0m\n\u001b[0;32m   1420\u001b[0m     \u001b[1;33m@\u001b[0m\u001b[0minterfaces\u001b[0m\u001b[1;33m.\u001b[0m\u001b[0mlegacy_generator_methods_support\u001b[0m\u001b[1;33m\u001b[0m\u001b[0m\n",
      "\u001b[1;32m~\\Anaconda3\\lib\\site-packages\\keras\\engine\\training_generator.py\u001b[0m in \u001b[0;36mfit_generator\u001b[1;34m(model, generator, steps_per_epoch, epochs, verbose, callbacks, validation_data, validation_steps, class_weight, max_queue_size, workers, use_multiprocessing, shuffle, initial_epoch)\u001b[0m\n\u001b[0;32m    215\u001b[0m                 outs = model.train_on_batch(x, y,\n\u001b[0;32m    216\u001b[0m                                             \u001b[0msample_weight\u001b[0m\u001b[1;33m=\u001b[0m\u001b[0msample_weight\u001b[0m\u001b[1;33m,\u001b[0m\u001b[1;33m\u001b[0m\u001b[0m\n\u001b[1;32m--> 217\u001b[1;33m                                             class_weight=class_weight)\n\u001b[0m\u001b[0;32m    218\u001b[0m \u001b[1;33m\u001b[0m\u001b[0m\n\u001b[0;32m    219\u001b[0m                 \u001b[0mouts\u001b[0m \u001b[1;33m=\u001b[0m \u001b[0mto_list\u001b[0m\u001b[1;33m(\u001b[0m\u001b[0mouts\u001b[0m\u001b[1;33m)\u001b[0m\u001b[1;33m\u001b[0m\u001b[0m\n",
      "\u001b[1;32m~\\Anaconda3\\lib\\site-packages\\keras\\engine\\training.py\u001b[0m in \u001b[0;36mtrain_on_batch\u001b[1;34m(self, x, y, sample_weight, class_weight)\u001b[0m\n\u001b[0;32m   1215\u001b[0m             \u001b[0mins\u001b[0m \u001b[1;33m=\u001b[0m \u001b[0mx\u001b[0m \u001b[1;33m+\u001b[0m \u001b[0my\u001b[0m \u001b[1;33m+\u001b[0m \u001b[0msample_weights\u001b[0m\u001b[1;33m\u001b[0m\u001b[0m\n\u001b[0;32m   1216\u001b[0m         \u001b[0mself\u001b[0m\u001b[1;33m.\u001b[0m\u001b[0m_make_train_function\u001b[0m\u001b[1;33m(\u001b[0m\u001b[1;33m)\u001b[0m\u001b[1;33m\u001b[0m\u001b[0m\n\u001b[1;32m-> 1217\u001b[1;33m         \u001b[0moutputs\u001b[0m \u001b[1;33m=\u001b[0m \u001b[0mself\u001b[0m\u001b[1;33m.\u001b[0m\u001b[0mtrain_function\u001b[0m\u001b[1;33m(\u001b[0m\u001b[0mins\u001b[0m\u001b[1;33m)\u001b[0m\u001b[1;33m\u001b[0m\u001b[0m\n\u001b[0m\u001b[0;32m   1218\u001b[0m         \u001b[1;32mreturn\u001b[0m \u001b[0munpack_singleton\u001b[0m\u001b[1;33m(\u001b[0m\u001b[0moutputs\u001b[0m\u001b[1;33m)\u001b[0m\u001b[1;33m\u001b[0m\u001b[0m\n\u001b[0;32m   1219\u001b[0m \u001b[1;33m\u001b[0m\u001b[0m\n",
      "\u001b[1;32m~\\Anaconda3\\lib\\site-packages\\keras\\backend\\tensorflow_backend.py\u001b[0m in \u001b[0;36m__call__\u001b[1;34m(self, inputs)\u001b[0m\n\u001b[0;32m   2713\u001b[0m                 \u001b[1;32mreturn\u001b[0m \u001b[0mself\u001b[0m\u001b[1;33m.\u001b[0m\u001b[0m_legacy_call\u001b[0m\u001b[1;33m(\u001b[0m\u001b[0minputs\u001b[0m\u001b[1;33m)\u001b[0m\u001b[1;33m\u001b[0m\u001b[0m\n\u001b[0;32m   2714\u001b[0m \u001b[1;33m\u001b[0m\u001b[0m\n\u001b[1;32m-> 2715\u001b[1;33m             \u001b[1;32mreturn\u001b[0m \u001b[0mself\u001b[0m\u001b[1;33m.\u001b[0m\u001b[0m_call\u001b[0m\u001b[1;33m(\u001b[0m\u001b[0minputs\u001b[0m\u001b[1;33m)\u001b[0m\u001b[1;33m\u001b[0m\u001b[0m\n\u001b[0m\u001b[0;32m   2716\u001b[0m         \u001b[1;32melse\u001b[0m\u001b[1;33m:\u001b[0m\u001b[1;33m\u001b[0m\u001b[0m\n\u001b[0;32m   2717\u001b[0m             \u001b[1;32mif\u001b[0m \u001b[0mpy_any\u001b[0m\u001b[1;33m(\u001b[0m\u001b[0mis_tensor\u001b[0m\u001b[1;33m(\u001b[0m\u001b[0mx\u001b[0m\u001b[1;33m)\u001b[0m \u001b[1;32mfor\u001b[0m \u001b[0mx\u001b[0m \u001b[1;32min\u001b[0m \u001b[0minputs\u001b[0m\u001b[1;33m)\u001b[0m\u001b[1;33m:\u001b[0m\u001b[1;33m\u001b[0m\u001b[0m\n",
      "\u001b[1;32m~\\Anaconda3\\lib\\site-packages\\keras\\backend\\tensorflow_backend.py\u001b[0m in \u001b[0;36m_call\u001b[1;34m(self, inputs)\u001b[0m\n\u001b[0;32m   2673\u001b[0m             \u001b[0mfetched\u001b[0m \u001b[1;33m=\u001b[0m \u001b[0mself\u001b[0m\u001b[1;33m.\u001b[0m\u001b[0m_callable_fn\u001b[0m\u001b[1;33m(\u001b[0m\u001b[1;33m*\u001b[0m\u001b[0marray_vals\u001b[0m\u001b[1;33m,\u001b[0m \u001b[0mrun_metadata\u001b[0m\u001b[1;33m=\u001b[0m\u001b[0mself\u001b[0m\u001b[1;33m.\u001b[0m\u001b[0mrun_metadata\u001b[0m\u001b[1;33m)\u001b[0m\u001b[1;33m\u001b[0m\u001b[0m\n\u001b[0;32m   2674\u001b[0m         \u001b[1;32melse\u001b[0m\u001b[1;33m:\u001b[0m\u001b[1;33m\u001b[0m\u001b[0m\n\u001b[1;32m-> 2675\u001b[1;33m             \u001b[0mfetched\u001b[0m \u001b[1;33m=\u001b[0m \u001b[0mself\u001b[0m\u001b[1;33m.\u001b[0m\u001b[0m_callable_fn\u001b[0m\u001b[1;33m(\u001b[0m\u001b[1;33m*\u001b[0m\u001b[0marray_vals\u001b[0m\u001b[1;33m)\u001b[0m\u001b[1;33m\u001b[0m\u001b[0m\n\u001b[0m\u001b[0;32m   2676\u001b[0m         \u001b[1;32mreturn\u001b[0m \u001b[0mfetched\u001b[0m\u001b[1;33m[\u001b[0m\u001b[1;33m:\u001b[0m\u001b[0mlen\u001b[0m\u001b[1;33m(\u001b[0m\u001b[0mself\u001b[0m\u001b[1;33m.\u001b[0m\u001b[0moutputs\u001b[0m\u001b[1;33m)\u001b[0m\u001b[1;33m]\u001b[0m\u001b[1;33m\u001b[0m\u001b[0m\n\u001b[0;32m   2677\u001b[0m \u001b[1;33m\u001b[0m\u001b[0m\n",
      "\u001b[1;32m~\\Anaconda3\\lib\\site-packages\\tensorflow\\python\\client\\session.py\u001b[0m in \u001b[0;36m__call__\u001b[1;34m(self, *args, **kwargs)\u001b[0m\n\u001b[0;32m   1437\u001b[0m           ret = tf_session.TF_SessionRunCallable(\n\u001b[0;32m   1438\u001b[0m               \u001b[0mself\u001b[0m\u001b[1;33m.\u001b[0m\u001b[0m_session\u001b[0m\u001b[1;33m.\u001b[0m\u001b[0m_session\u001b[0m\u001b[1;33m,\u001b[0m \u001b[0mself\u001b[0m\u001b[1;33m.\u001b[0m\u001b[0m_handle\u001b[0m\u001b[1;33m,\u001b[0m \u001b[0margs\u001b[0m\u001b[1;33m,\u001b[0m \u001b[0mstatus\u001b[0m\u001b[1;33m,\u001b[0m\u001b[1;33m\u001b[0m\u001b[0m\n\u001b[1;32m-> 1439\u001b[1;33m               run_metadata_ptr)\n\u001b[0m\u001b[0;32m   1440\u001b[0m         \u001b[1;32mif\u001b[0m \u001b[0mrun_metadata\u001b[0m\u001b[1;33m:\u001b[0m\u001b[1;33m\u001b[0m\u001b[0m\n\u001b[0;32m   1441\u001b[0m           \u001b[0mproto_data\u001b[0m \u001b[1;33m=\u001b[0m \u001b[0mtf_session\u001b[0m\u001b[1;33m.\u001b[0m\u001b[0mTF_GetBuffer\u001b[0m\u001b[1;33m(\u001b[0m\u001b[0mrun_metadata_ptr\u001b[0m\u001b[1;33m)\u001b[0m\u001b[1;33m\u001b[0m\u001b[0m\n",
      "\u001b[1;31mKeyboardInterrupt\u001b[0m: "
     ]
    }
   ],
   "source": [
    "%%time\n",
    "model = Sequential()\n",
    "model.add(Conv2D(32, (3, 3), padding='same',input_shape=train_generator.image_shape,activation='relu'))\n",
    "model.add(Conv2D(32, (3, 3),activation='relu'))\n",
    "model.add(MaxPool2D(pool_size=(2, 2)))\n",
    "model.add(Dropout(0.25))\n",
    "model.add(Conv2D(64, (3, 3), padding='same',activation='relu'))\n",
    "model.add(Conv2D(64, (3, 3),activation='relu'))\n",
    "model.add(MaxPool2D(pool_size=(2, 2)))\n",
    "model.add(Dropout(0.25))\n",
    "model.add(Flatten())\n",
    "model.add(Dense(128,activation='relu'))\n",
    "model.add(Dropout(0.5)) \n",
    "model.add(Dense(len(train_generator.class_indices),activation='softmax'))\n",
    "model.compile(loss='categorical_crossentropy', optimizer='rmsprop', metrics=['accuracy']) # Let's train the model using RMSprop\n",
    "model.summary()\n",
    "model.fit_generator(\n",
    "        train_generator,\n",
    "        steps_per_epoch=len(train_generator.classes)//train_generator.batch_size, #samples//batch_size\n",
    "        epochs=25,\n",
    "        validation_data=validation_generator,\n",
    "        validation_steps=len(validation_generator.classes)//validation_generator.batch_size)"
   ]
  },
  {
   "cell_type": "markdown",
   "metadata": {},
   "source": [
    "Note que de 17 millones de parametros de bajo a 10 millones."
   ]
  },
  {
   "cell_type": "code",
   "execution_count": null,
   "metadata": {},
   "outputs": [],
   "source": [
    "step = []\n",
    "error = []\n",
    "best = 0\n",
    "best_step = 0\n",
    "\n",
    "for i in range(40):\n",
    "    error.append(model.evaluate_generator(generator=validation_generator,steps = (i+1))[1])#probar algo distinto de 2\n",
    "    print(\"Accuracy validation: \",error[i])\n",
    "    end = time.time()\n",
    "    step.append(i+1)\n",
    "    if error[i]>best:\n",
    "        best = error[i]\n",
    "        best_step = i+1"
   ]
  },
  {
   "cell_type": "code",
   "execution_count": null,
   "metadata": {},
   "outputs": [],
   "source": [
    "plt.plot(step,error)\n",
    "plt.title(\"Accuracy vs steps\")"
   ]
  },
  {
   "cell_type": "code",
   "execution_count": null,
   "metadata": {},
   "outputs": [],
   "source": [
    "print(\"Mejor accuracy; \",best,\"con \",best_step,\"pasos\")"
   ]
  },
  {
   "cell_type": "markdown",
   "metadata": {},
   "source": [
    "Finalmente la red combucional tuvo mejores resultados que usando feed foward, el comportamiento respecto a la variacion de steps es más grande, otra vez.\n"
   ]
  },
  {
   "cell_type": "code",
   "execution_count": null,
   "metadata": {},
   "outputs": [],
   "source": [
    "Y_pred = model.predict_generator(validation_generator,len(validation_generator.classes)//validation_generator.batch_size+1)\n",
    "y_pred = np.argmax(Y_pred, axis=1)\n",
    "confusion_matrix = confusion_matrix(validation_generator.classes, y_pred)\n",
    "confusion_matrix = confusion_matrix.astype('float') / confusion_matrix.sum(axis=1)\n",
    "classes = [\"Hot-dog\",\"Hamburguer\",\"Pizza\"]\n",
    "plot_state_matrix(confusion_matrix, classes,title='Confusion Matrix',cmap=plt.cm.Blues)"
   ]
  },
  {
   "cell_type": "markdown",
   "metadata": {},
   "source": [
    "> d) Genere un conjunto datos con incorrecta etiquetación de manera manual y vea si el modelo convolucional se sigue comportando de la misma manera. Para esto tome 100 imágenes aleatorias de entrenamiento de la carpeta *hot dog* y 100 imágenes aleatorias de entrenamiento de la carpeta *hamburger* e intercambielas, sin manipular las imágenes de la carpeta *pizza* y con el conjunto de validación intacto. Genere las matrices de confusión en el conjunto de validación para visualizar cómo afectó al modelo la corrupción realizada a los datos."
   ]
  },
  {
   "cell_type": "markdown",
   "metadata": {},
   "source": [
    "En primer lugar probaremos la feed foward."
   ]
  },
  {
   "cell_type": "code",
   "execution_count": null,
   "metadata": {},
   "outputs": [],
   "source": [
    "train_datagen = ImageDataGenerator(\n",
    "        rescale=1./255,\n",
    "        shear_range=0.2,\n",
    "        zoom_range=0.2,\n",
    "        horizontal_flip=True)\n",
    "test_datagen = ImageDataGenerator(rescale=1./255) #no transformation\n",
    "train_generator = train_datagen.flow_from_directory(\n",
    "        'food_data/train_cursed',#ese es el nombre que le di al conjunto alterado y esta MALDITOOOO!\n",
    "        target_size=(150, 150),\n",
    "        color_mode='rgb',\n",
    "        batch_size=32)\n",
    "validation_generator = test_datagen.flow_from_directory(\n",
    "        'food_data/val',\n",
    "        target_size=(150, 150),\n",
    "        color_mode='rgb',\n",
    "        batch_size=32)"
   ]
  },
  {
   "cell_type": "code",
   "execution_count": null,
   "metadata": {},
   "outputs": [],
   "source": [
    "model = Sequential()\n",
    "model.add(Flatten(input_shape=train_generator.image_shape)) #full dense\n",
    "model.add(BatchNormalization()) #to normalize the input..\n",
    "model.add(Dense(256,activation='relu'))\n",
    "model.add(Dropout(0.25))\n",
    "model.add(Dense(128,activation='relu')) #128\n",
    "model.add(Dropout(0.25))\n",
    "model.add(Dense(3,activation='softmax'))\n",
    "model.compile(loss='categorical_crossentropy', optimizer='rmsprop', metrics=['accuracy']) # Let's train the model using RMSprop\n",
    "model.summary()\n",
    "model.fit_generator(\n",
    "        train_generator,\n",
    "        steps_per_epoch=len(train_generator.classes)//train_generator.batch_size, #samples//batch_size\n",
    "        epochs=25,\n",
    "        validation_data=validation_generator,\n",
    "        validation_steps=len(validation_generator.classes)//validation_generator.batch_size)\n",
    "\n",
    "error.append(model.evaluate_generator(generator=validation_generator,steps = 7 )[1])#probar algo distinto de 2"
   ]
  },
  {
   "cell_type": "code",
   "execution_count": null,
   "metadata": {},
   "outputs": [],
   "source": [
    "Y_pred = model.predict_generator(validation_generator,len(validation_generator.classes)//validation_generator.batch_size+1)\n",
    "y_pred = np.argmax(Y_pred, axis=1)\n",
    "confusion_matrix = confusion_matrix(validation_generator.classes, y_pred)\n",
    "confusion_matrix = confusion_matrix.astype('float') / confusion_matrix.sum(axis=1)\n",
    "classes = [\"Hot-dog\",\"Hamburguer\",\"Pizza\"]\n",
    "plot_state_matrix(confusion_matrix, classes,title='Confusion Matrix',cmap=plt.cm.Blues)"
   ]
  },
  {
   "cell_type": "markdown",
   "metadata": {},
   "source": [
    "Luego finalmente con redes cnn"
   ]
  },
  {
   "cell_type": "code",
   "execution_count": null,
   "metadata": {},
   "outputs": [],
   "source": [
    "model = Sequential()\n",
    "model.add(Conv2D(32, (3, 3), padding='same',input_shape=train_generator.image_shape,activation='relu'))\n",
    "model.add(Conv2D(32, (3, 3),activation='relu'))\n",
    "model.add(MaxPool2D(pool_size=(2, 2)))\n",
    "model.add(Dropout(0.25))\n",
    "model.add(Conv2D(64, (3, 3), padding='same',activation='relu'))\n",
    "model.add(Conv2D(64, (3, 3),activation='relu'))\n",
    "model.add(MaxPool2D(pool_size=(2, 2)))\n",
    "model.add(Dropout(0.25))\n",
    "model.add(Flatten())\n",
    "model.add(Dense(128,activation='relu'))\n",
    "model.add(Dropout(0.5)) \n",
    "model.add(Dense(len(train_generator.class_indices),activation='softmax'))\n",
    "model.compile(loss='categorical_crossentropy', optimizer='rmsprop', metrics=['accuracy']) # Let's train the model using RMSprop\n",
    "model.summary()\n",
    "model.fit_generator(\n",
    "        train_generator,\n",
    "        steps_per_epoch=len(train_generator.classes)//train_generator.batch_size, #samples//batch_size\n",
    "        epochs=25,\n",
    "        validation_data=validation_generator,\n",
    "        validation_steps=len(validation_generator.classes)//validation_generator.batch_size)"
   ]
  },
  {
   "cell_type": "code",
   "execution_count": null,
   "metadata": {},
   "outputs": [],
   "source": [
    "Y_pred = model.predict_generator(validation_generator,len(validation_generator.classes)//validation_generator.batch_size+1)\n",
    "y_pred = np.argmax(Y_pred, axis=1)\n",
    "confusion_matrix = confusion_matrix(validation_generator.classes, y_pred)\n",
    "confusion_matrix = confusion_matrix.astype('float') / confusion_matrix.sum(axis=1)\n",
    "classes = [\"Hot-dog\",\"Hamburguer\",\"Pizza\"]\n",
    "plot_state_matrix(confusion_matrix, classes,title='Confusion Matrix',cmap=plt.cm.Blues)"
   ]
  },
  {
   "cell_type": "code",
   "execution_count": null,
   "metadata": {},
   "outputs": [],
   "source": []
  },
  {
   "cell_type": "code",
   "execution_count": null,
   "metadata": {},
   "outputs": [],
   "source": []
  }
 ],
 "metadata": {
  "kernelspec": {
   "display_name": "Python 3",
   "language": "python",
   "name": "python3"
  },
  "language_info": {
   "codemirror_mode": {
    "name": "ipython",
    "version": 3
   },
   "file_extension": ".py",
   "mimetype": "text/x-python",
   "name": "python",
   "nbconvert_exporter": "python",
   "pygments_lexer": "ipython3",
   "version": "3.6.5"
  }
 },
 "nbformat": 4,
 "nbformat_minor": 2
}
